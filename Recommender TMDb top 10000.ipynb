{
  "nbformat": 4,
  "nbformat_minor": 0,
  "metadata": {
    "colab": {
      "provenance": [],
      "mount_file_id": "1Z6FAA9DDBo85jejbgDqUSMbEGxPh3sYZ",
      "authorship_tag": "ABX9TyPti51ZrEIao9frNXjZEMah",
      "include_colab_link": true
    },
    "kernelspec": {
      "name": "python3",
      "display_name": "Python 3"
    },
    "language_info": {
      "name": "python"
    }
  },
  "cells": [
    {
      "cell_type": "markdown",
      "metadata": {
        "id": "view-in-github",
        "colab_type": "text"
      },
      "source": [
        "<a href=\"https://colab.research.google.com/github/Angeldahal/Movie-rec-sys/blob/main/Recommender%20TMDb%20top%2010000.ipynb\" target=\"_parent\"><img src=\"https://colab.research.google.com/assets/colab-badge.svg\" alt=\"Open In Colab\"/></a>"
      ]
    },
    {
      "cell_type": "code",
      "execution_count": 1,
      "metadata": {
        "colab": {
          "base_uri": "https://localhost:8080/"
        },
        "id": "4cMP78_X1mtP",
        "outputId": "3c46ff4e-bfa4-4df4-8561-3c915d8daa12"
      },
      "outputs": [
        {
          "output_type": "stream",
          "name": "stdout",
          "text": [
            "Mounted at /content/gdrive\n"
          ]
        }
      ],
      "source": [
        "from google.colab import drive\n",
        "drive.mount('/content/gdrive')"
      ]
    },
    {
      "cell_type": "code",
      "source": [
        "import os\n",
        "os.environ['KAGGLE_CONFIG_DIR'] = \"/content/gdrive/My Drive/Kaggle\""
      ],
      "metadata": {
        "id": "C-ISpFmJ1r5G"
      },
      "execution_count": 2,
      "outputs": []
    },
    {
      "cell_type": "code",
      "source": [
        "%cd /content/gdrive/My Drive/Kaggle"
      ],
      "metadata": {
        "colab": {
          "base_uri": "https://localhost:8080/"
        },
        "id": "gr_oq5rI12Pc",
        "outputId": "58c66ee3-69f9-4873-a087-4f1f291399f3"
      },
      "execution_count": 3,
      "outputs": [
        {
          "output_type": "stream",
          "name": "stdout",
          "text": [
            "/content/gdrive/My Drive/Kaggle\n"
          ]
        }
      ]
    },
    {
      "cell_type": "code",
      "source": [
        "!kaggle datasets download -d sankha1998/tmdb-top-10000-popular-movies-dataset\n",
        "\n"
      ],
      "metadata": {
        "colab": {
          "base_uri": "https://localhost:8080/"
        },
        "id": "culX10xb2K0s",
        "outputId": "f60dd650-f89f-4ffc-e780-68dc03dfec04"
      },
      "execution_count": 8,
      "outputs": [
        {
          "output_type": "stream",
          "name": "stdout",
          "text": [
            "Downloading tmdb-top-10000-popular-movies-dataset.zip to /content/gdrive/My Drive/Kaggle\n",
            "\r  0% 0.00/1.31M [00:00<?, ?B/s]\n",
            "\r100% 1.31M/1.31M [00:00<00:00, 81.2MB/s]\n"
          ]
        }
      ]
    },
    {
      "cell_type": "code",
      "source": [
        "!ls\n"
      ],
      "metadata": {
        "colab": {
          "base_uri": "https://localhost:8080/"
        },
        "id": "UIHIqsn02PZ-",
        "outputId": "8b8cc6b0-d328-4ed1-ad90-3bcad83d8510"
      },
      "execution_count": 9,
      "outputs": [
        {
          "output_type": "stream",
          "name": "stdout",
          "text": [
            "amazon-music-reviews.zip\n",
            "amazon-reviews-sentiment-analysis.ipynb\n",
            "kaggle.json\n",
            "Musical_Instruments_5.json\n",
            "Musical_instruments_reviews.csv\n",
            "tmdb-top-10000-popular-movies-dataset.zip\n"
          ]
        }
      ]
    },
    {
      "cell_type": "code",
      "source": [
        "!unzip \\*.zip && rm *.zip"
      ],
      "metadata": {
        "colab": {
          "base_uri": "https://localhost:8080/"
        },
        "id": "2PNKXaCU2QqE",
        "outputId": "1967de20-edd8-4559-9dea-1a36c80eeb0e"
      },
      "execution_count": 10,
      "outputs": [
        {
          "output_type": "stream",
          "name": "stdout",
          "text": [
            "Archive:  amazon-music-reviews.zip\n",
            "replace Musical_Instruments_5.json? [y]es, [n]o, [A]ll, [N]one, [r]ename: y\n",
            "  inflating: Musical_Instruments_5.json  \n",
            "replace Musical_instruments_reviews.csv? [y]es, [n]o, [A]ll, [N]one, [r]ename: y\n",
            "  inflating: Musical_instruments_reviews.csv  \n",
            "\n",
            "Archive:  tmdb-top-10000-popular-movies-dataset.zip\n",
            "  inflating: TMDb_updated.CSV        \n",
            "\n",
            "2 archives were successfully processed.\n"
          ]
        }
      ]
    },
    {
      "cell_type": "code",
      "source": [
        "!ls\n"
      ],
      "metadata": {
        "colab": {
          "base_uri": "https://localhost:8080/"
        },
        "id": "6MGRtEo12XvE",
        "outputId": "e527c021-f8c2-4634-e629-4e12d29644d2"
      },
      "execution_count": 11,
      "outputs": [
        {
          "output_type": "stream",
          "name": "stdout",
          "text": [
            "amazon-reviews-sentiment-analysis.ipynb  Musical_instruments_reviews.csv\n",
            "kaggle.json\t\t\t\t TMDb_updated.CSV\n",
            "Musical_Instruments_5.json\n"
          ]
        }
      ]
    },
    {
      "cell_type": "markdown",
      "source": [
        "## Starting of the Actual Code"
      ],
      "metadata": {
        "id": "I9EMdOZ1H2I9"
      }
    },
    {
      "cell_type": "code",
      "source": [
        "import pandas as pd\n",
        "import numpy as np\n",
        "import matplotlib.pyplot as plt\n",
        "\n",
        "from sklearn.feature_extraction.text import CountVectorizer, TfidfVectorizer\n",
        "from sklearn.model_selection import train_test_split\n",
        "\n",
        "from sklearn.metrics.pairwise import linear_kernel"
      ],
      "metadata": {
        "id": "W5wkZUwxH1n-"
      },
      "execution_count": 12,
      "outputs": []
    },
    {
      "cell_type": "code",
      "source": [
        "df = pd.read_csv(\"./TMDb_updated.CSV\")\n",
        "df.head()"
      ],
      "metadata": {
        "colab": {
          "base_uri": "https://localhost:8080/",
          "height": 206
        },
        "id": "5Dupzm6pIeBh",
        "outputId": "10abd577-1af1-4628-c1d4-b0ec2fdc18c0"
      },
      "execution_count": 14,
      "outputs": [
        {
          "output_type": "execute_result",
          "data": {
            "text/plain": [
              "   Unnamed: 0                           title  \\\n",
              "0           0                        Ad Astra   \n",
              "1           1                       Bloodshot   \n",
              "2           2               Bad Boys for Life   \n",
              "3           3                         Ant-Man   \n",
              "4           4  Percy Jackson: Sea of Monsters   \n",
              "\n",
              "                                            overview original_language  \\\n",
              "0  The near future, a time when both hope and har...                en   \n",
              "1  After he and his wife are murdered, marine Ray...                en   \n",
              "2  Marcus and Mike are forced to confront new thr...                en   \n",
              "3  Armed with the astonishing ability to shrink i...                en   \n",
              "4  In their quest to confront the ultimate evil, ...                en   \n",
              "\n",
              "   vote_count  vote_average  \n",
              "0        2853           5.9  \n",
              "1        1349           7.2  \n",
              "2        2530           7.1  \n",
              "3       13611           7.1  \n",
              "4        3542           5.9  "
            ],
            "text/html": [
              "\n",
              "  <div id=\"df-5b14527f-8a5f-442a-aba3-03d7a2de6305\">\n",
              "    <div class=\"colab-df-container\">\n",
              "      <div>\n",
              "<style scoped>\n",
              "    .dataframe tbody tr th:only-of-type {\n",
              "        vertical-align: middle;\n",
              "    }\n",
              "\n",
              "    .dataframe tbody tr th {\n",
              "        vertical-align: top;\n",
              "    }\n",
              "\n",
              "    .dataframe thead th {\n",
              "        text-align: right;\n",
              "    }\n",
              "</style>\n",
              "<table border=\"1\" class=\"dataframe\">\n",
              "  <thead>\n",
              "    <tr style=\"text-align: right;\">\n",
              "      <th></th>\n",
              "      <th>Unnamed: 0</th>\n",
              "      <th>title</th>\n",
              "      <th>overview</th>\n",
              "      <th>original_language</th>\n",
              "      <th>vote_count</th>\n",
              "      <th>vote_average</th>\n",
              "    </tr>\n",
              "  </thead>\n",
              "  <tbody>\n",
              "    <tr>\n",
              "      <th>0</th>\n",
              "      <td>0</td>\n",
              "      <td>Ad Astra</td>\n",
              "      <td>The near future, a time when both hope and har...</td>\n",
              "      <td>en</td>\n",
              "      <td>2853</td>\n",
              "      <td>5.9</td>\n",
              "    </tr>\n",
              "    <tr>\n",
              "      <th>1</th>\n",
              "      <td>1</td>\n",
              "      <td>Bloodshot</td>\n",
              "      <td>After he and his wife are murdered, marine Ray...</td>\n",
              "      <td>en</td>\n",
              "      <td>1349</td>\n",
              "      <td>7.2</td>\n",
              "    </tr>\n",
              "    <tr>\n",
              "      <th>2</th>\n",
              "      <td>2</td>\n",
              "      <td>Bad Boys for Life</td>\n",
              "      <td>Marcus and Mike are forced to confront new thr...</td>\n",
              "      <td>en</td>\n",
              "      <td>2530</td>\n",
              "      <td>7.1</td>\n",
              "    </tr>\n",
              "    <tr>\n",
              "      <th>3</th>\n",
              "      <td>3</td>\n",
              "      <td>Ant-Man</td>\n",
              "      <td>Armed with the astonishing ability to shrink i...</td>\n",
              "      <td>en</td>\n",
              "      <td>13611</td>\n",
              "      <td>7.1</td>\n",
              "    </tr>\n",
              "    <tr>\n",
              "      <th>4</th>\n",
              "      <td>4</td>\n",
              "      <td>Percy Jackson: Sea of Monsters</td>\n",
              "      <td>In their quest to confront the ultimate evil, ...</td>\n",
              "      <td>en</td>\n",
              "      <td>3542</td>\n",
              "      <td>5.9</td>\n",
              "    </tr>\n",
              "  </tbody>\n",
              "</table>\n",
              "</div>\n",
              "      <button class=\"colab-df-convert\" onclick=\"convertToInteractive('df-5b14527f-8a5f-442a-aba3-03d7a2de6305')\"\n",
              "              title=\"Convert this dataframe to an interactive table.\"\n",
              "              style=\"display:none;\">\n",
              "        \n",
              "  <svg xmlns=\"http://www.w3.org/2000/svg\" height=\"24px\"viewBox=\"0 0 24 24\"\n",
              "       width=\"24px\">\n",
              "    <path d=\"M0 0h24v24H0V0z\" fill=\"none\"/>\n",
              "    <path d=\"M18.56 5.44l.94 2.06.94-2.06 2.06-.94-2.06-.94-.94-2.06-.94 2.06-2.06.94zm-11 1L8.5 8.5l.94-2.06 2.06-.94-2.06-.94L8.5 2.5l-.94 2.06-2.06.94zm10 10l.94 2.06.94-2.06 2.06-.94-2.06-.94-.94-2.06-.94 2.06-2.06.94z\"/><path d=\"M17.41 7.96l-1.37-1.37c-.4-.4-.92-.59-1.43-.59-.52 0-1.04.2-1.43.59L10.3 9.45l-7.72 7.72c-.78.78-.78 2.05 0 2.83L4 21.41c.39.39.9.59 1.41.59.51 0 1.02-.2 1.41-.59l7.78-7.78 2.81-2.81c.8-.78.8-2.07 0-2.86zM5.41 20L4 18.59l7.72-7.72 1.47 1.35L5.41 20z\"/>\n",
              "  </svg>\n",
              "      </button>\n",
              "      \n",
              "  <style>\n",
              "    .colab-df-container {\n",
              "      display:flex;\n",
              "      flex-wrap:wrap;\n",
              "      gap: 12px;\n",
              "    }\n",
              "\n",
              "    .colab-df-convert {\n",
              "      background-color: #E8F0FE;\n",
              "      border: none;\n",
              "      border-radius: 50%;\n",
              "      cursor: pointer;\n",
              "      display: none;\n",
              "      fill: #1967D2;\n",
              "      height: 32px;\n",
              "      padding: 0 0 0 0;\n",
              "      width: 32px;\n",
              "    }\n",
              "\n",
              "    .colab-df-convert:hover {\n",
              "      background-color: #E2EBFA;\n",
              "      box-shadow: 0px 1px 2px rgba(60, 64, 67, 0.3), 0px 1px 3px 1px rgba(60, 64, 67, 0.15);\n",
              "      fill: #174EA6;\n",
              "    }\n",
              "\n",
              "    [theme=dark] .colab-df-convert {\n",
              "      background-color: #3B4455;\n",
              "      fill: #D2E3FC;\n",
              "    }\n",
              "\n",
              "    [theme=dark] .colab-df-convert:hover {\n",
              "      background-color: #434B5C;\n",
              "      box-shadow: 0px 1px 3px 1px rgba(0, 0, 0, 0.15);\n",
              "      filter: drop-shadow(0px 1px 2px rgba(0, 0, 0, 0.3));\n",
              "      fill: #FFFFFF;\n",
              "    }\n",
              "  </style>\n",
              "\n",
              "      <script>\n",
              "        const buttonEl =\n",
              "          document.querySelector('#df-5b14527f-8a5f-442a-aba3-03d7a2de6305 button.colab-df-convert');\n",
              "        buttonEl.style.display =\n",
              "          google.colab.kernel.accessAllowed ? 'block' : 'none';\n",
              "\n",
              "        async function convertToInteractive(key) {\n",
              "          const element = document.querySelector('#df-5b14527f-8a5f-442a-aba3-03d7a2de6305');\n",
              "          const dataTable =\n",
              "            await google.colab.kernel.invokeFunction('convertToInteractive',\n",
              "                                                     [key], {});\n",
              "          if (!dataTable) return;\n",
              "\n",
              "          const docLinkHtml = 'Like what you see? Visit the ' +\n",
              "            '<a target=\"_blank\" href=https://colab.research.google.com/notebooks/data_table.ipynb>data table notebook</a>'\n",
              "            + ' to learn more about interactive tables.';\n",
              "          element.innerHTML = '';\n",
              "          dataTable['output_type'] = 'display_data';\n",
              "          await google.colab.output.renderOutput(dataTable, element);\n",
              "          const docLink = document.createElement('div');\n",
              "          docLink.innerHTML = docLinkHtml;\n",
              "          element.appendChild(docLink);\n",
              "        }\n",
              "      </script>\n",
              "    </div>\n",
              "  </div>\n",
              "  "
            ]
          },
          "metadata": {},
          "execution_count": 14
        }
      ]
    },
    {
      "cell_type": "code",
      "source": [
        "df.info()"
      ],
      "metadata": {
        "colab": {
          "base_uri": "https://localhost:8080/"
        },
        "id": "HhbRMlyFIuGW",
        "outputId": "38a99dfa-dd7d-4e6e-ff9e-84831bb3d430"
      },
      "execution_count": 17,
      "outputs": [
        {
          "output_type": "stream",
          "name": "stdout",
          "text": [
            "<class 'pandas.core.frame.DataFrame'>\n",
            "RangeIndex: 10000 entries, 0 to 9999\n",
            "Data columns (total 6 columns):\n",
            " #   Column             Non-Null Count  Dtype  \n",
            "---  ------             --------------  -----  \n",
            " 0   Unnamed: 0         10000 non-null  int64  \n",
            " 1   title              10000 non-null  object \n",
            " 2   overview           10000 non-null  object \n",
            " 3   original_language  10000 non-null  object \n",
            " 4   vote_count         10000 non-null  int64  \n",
            " 5   vote_average       10000 non-null  float64\n",
            "dtypes: float64(1), int64(2), object(3)\n",
            "memory usage: 468.9+ KB\n"
          ]
        }
      ]
    },
    {
      "cell_type": "code",
      "source": [
        "df[\"overview\"]= df[\"overview\"].fillna(\"\")"
      ],
      "metadata": {
        "id": "2WLFmmj3Ivyb"
      },
      "execution_count": 16,
      "outputs": []
    },
    {
      "cell_type": "code",
      "source": [
        "df.drop(columns=['Unnamed: 0'], axis=1, inplace=True)"
      ],
      "metadata": {
        "id": "E6eiHzRUI5QG"
      },
      "execution_count": 18,
      "outputs": []
    },
    {
      "cell_type": "code",
      "source": [
        "df.head()"
      ],
      "metadata": {
        "colab": {
          "base_uri": "https://localhost:8080/",
          "height": 206
        },
        "id": "L9de5PsvJFgO",
        "outputId": "a45caee3-ad4f-453c-8de6-251d273ccb09"
      },
      "execution_count": 19,
      "outputs": [
        {
          "output_type": "execute_result",
          "data": {
            "text/plain": [
              "                            title  \\\n",
              "0                        Ad Astra   \n",
              "1                       Bloodshot   \n",
              "2               Bad Boys for Life   \n",
              "3                         Ant-Man   \n",
              "4  Percy Jackson: Sea of Monsters   \n",
              "\n",
              "                                            overview original_language  \\\n",
              "0  The near future, a time when both hope and har...                en   \n",
              "1  After he and his wife are murdered, marine Ray...                en   \n",
              "2  Marcus and Mike are forced to confront new thr...                en   \n",
              "3  Armed with the astonishing ability to shrink i...                en   \n",
              "4  In their quest to confront the ultimate evil, ...                en   \n",
              "\n",
              "   vote_count  vote_average  \n",
              "0        2853           5.9  \n",
              "1        1349           7.2  \n",
              "2        2530           7.1  \n",
              "3       13611           7.1  \n",
              "4        3542           5.9  "
            ],
            "text/html": [
              "\n",
              "  <div id=\"df-88acac22-0f81-4f94-9bc7-e3287c9c15cc\">\n",
              "    <div class=\"colab-df-container\">\n",
              "      <div>\n",
              "<style scoped>\n",
              "    .dataframe tbody tr th:only-of-type {\n",
              "        vertical-align: middle;\n",
              "    }\n",
              "\n",
              "    .dataframe tbody tr th {\n",
              "        vertical-align: top;\n",
              "    }\n",
              "\n",
              "    .dataframe thead th {\n",
              "        text-align: right;\n",
              "    }\n",
              "</style>\n",
              "<table border=\"1\" class=\"dataframe\">\n",
              "  <thead>\n",
              "    <tr style=\"text-align: right;\">\n",
              "      <th></th>\n",
              "      <th>title</th>\n",
              "      <th>overview</th>\n",
              "      <th>original_language</th>\n",
              "      <th>vote_count</th>\n",
              "      <th>vote_average</th>\n",
              "    </tr>\n",
              "  </thead>\n",
              "  <tbody>\n",
              "    <tr>\n",
              "      <th>0</th>\n",
              "      <td>Ad Astra</td>\n",
              "      <td>The near future, a time when both hope and har...</td>\n",
              "      <td>en</td>\n",
              "      <td>2853</td>\n",
              "      <td>5.9</td>\n",
              "    </tr>\n",
              "    <tr>\n",
              "      <th>1</th>\n",
              "      <td>Bloodshot</td>\n",
              "      <td>After he and his wife are murdered, marine Ray...</td>\n",
              "      <td>en</td>\n",
              "      <td>1349</td>\n",
              "      <td>7.2</td>\n",
              "    </tr>\n",
              "    <tr>\n",
              "      <th>2</th>\n",
              "      <td>Bad Boys for Life</td>\n",
              "      <td>Marcus and Mike are forced to confront new thr...</td>\n",
              "      <td>en</td>\n",
              "      <td>2530</td>\n",
              "      <td>7.1</td>\n",
              "    </tr>\n",
              "    <tr>\n",
              "      <th>3</th>\n",
              "      <td>Ant-Man</td>\n",
              "      <td>Armed with the astonishing ability to shrink i...</td>\n",
              "      <td>en</td>\n",
              "      <td>13611</td>\n",
              "      <td>7.1</td>\n",
              "    </tr>\n",
              "    <tr>\n",
              "      <th>4</th>\n",
              "      <td>Percy Jackson: Sea of Monsters</td>\n",
              "      <td>In their quest to confront the ultimate evil, ...</td>\n",
              "      <td>en</td>\n",
              "      <td>3542</td>\n",
              "      <td>5.9</td>\n",
              "    </tr>\n",
              "  </tbody>\n",
              "</table>\n",
              "</div>\n",
              "      <button class=\"colab-df-convert\" onclick=\"convertToInteractive('df-88acac22-0f81-4f94-9bc7-e3287c9c15cc')\"\n",
              "              title=\"Convert this dataframe to an interactive table.\"\n",
              "              style=\"display:none;\">\n",
              "        \n",
              "  <svg xmlns=\"http://www.w3.org/2000/svg\" height=\"24px\"viewBox=\"0 0 24 24\"\n",
              "       width=\"24px\">\n",
              "    <path d=\"M0 0h24v24H0V0z\" fill=\"none\"/>\n",
              "    <path d=\"M18.56 5.44l.94 2.06.94-2.06 2.06-.94-2.06-.94-.94-2.06-.94 2.06-2.06.94zm-11 1L8.5 8.5l.94-2.06 2.06-.94-2.06-.94L8.5 2.5l-.94 2.06-2.06.94zm10 10l.94 2.06.94-2.06 2.06-.94-2.06-.94-.94-2.06-.94 2.06-2.06.94z\"/><path d=\"M17.41 7.96l-1.37-1.37c-.4-.4-.92-.59-1.43-.59-.52 0-1.04.2-1.43.59L10.3 9.45l-7.72 7.72c-.78.78-.78 2.05 0 2.83L4 21.41c.39.39.9.59 1.41.59.51 0 1.02-.2 1.41-.59l7.78-7.78 2.81-2.81c.8-.78.8-2.07 0-2.86zM5.41 20L4 18.59l7.72-7.72 1.47 1.35L5.41 20z\"/>\n",
              "  </svg>\n",
              "      </button>\n",
              "      \n",
              "  <style>\n",
              "    .colab-df-container {\n",
              "      display:flex;\n",
              "      flex-wrap:wrap;\n",
              "      gap: 12px;\n",
              "    }\n",
              "\n",
              "    .colab-df-convert {\n",
              "      background-color: #E8F0FE;\n",
              "      border: none;\n",
              "      border-radius: 50%;\n",
              "      cursor: pointer;\n",
              "      display: none;\n",
              "      fill: #1967D2;\n",
              "      height: 32px;\n",
              "      padding: 0 0 0 0;\n",
              "      width: 32px;\n",
              "    }\n",
              "\n",
              "    .colab-df-convert:hover {\n",
              "      background-color: #E2EBFA;\n",
              "      box-shadow: 0px 1px 2px rgba(60, 64, 67, 0.3), 0px 1px 3px 1px rgba(60, 64, 67, 0.15);\n",
              "      fill: #174EA6;\n",
              "    }\n",
              "\n",
              "    [theme=dark] .colab-df-convert {\n",
              "      background-color: #3B4455;\n",
              "      fill: #D2E3FC;\n",
              "    }\n",
              "\n",
              "    [theme=dark] .colab-df-convert:hover {\n",
              "      background-color: #434B5C;\n",
              "      box-shadow: 0px 1px 3px 1px rgba(0, 0, 0, 0.15);\n",
              "      filter: drop-shadow(0px 1px 2px rgba(0, 0, 0, 0.3));\n",
              "      fill: #FFFFFF;\n",
              "    }\n",
              "  </style>\n",
              "\n",
              "      <script>\n",
              "        const buttonEl =\n",
              "          document.querySelector('#df-88acac22-0f81-4f94-9bc7-e3287c9c15cc button.colab-df-convert');\n",
              "        buttonEl.style.display =\n",
              "          google.colab.kernel.accessAllowed ? 'block' : 'none';\n",
              "\n",
              "        async function convertToInteractive(key) {\n",
              "          const element = document.querySelector('#df-88acac22-0f81-4f94-9bc7-e3287c9c15cc');\n",
              "          const dataTable =\n",
              "            await google.colab.kernel.invokeFunction('convertToInteractive',\n",
              "                                                     [key], {});\n",
              "          if (!dataTable) return;\n",
              "\n",
              "          const docLinkHtml = 'Like what you see? Visit the ' +\n",
              "            '<a target=\"_blank\" href=https://colab.research.google.com/notebooks/data_table.ipynb>data table notebook</a>'\n",
              "            + ' to learn more about interactive tables.';\n",
              "          element.innerHTML = '';\n",
              "          dataTable['output_type'] = 'display_data';\n",
              "          await google.colab.output.renderOutput(dataTable, element);\n",
              "          const docLink = document.createElement('div');\n",
              "          docLink.innerHTML = docLinkHtml;\n",
              "          element.appendChild(docLink);\n",
              "        }\n",
              "      </script>\n",
              "    </div>\n",
              "  </div>\n",
              "  "
            ]
          },
          "metadata": {},
          "execution_count": 19
        }
      ]
    },
    {
      "cell_type": "markdown",
      "source": [
        "## Exploratory Data Analysis"
      ],
      "metadata": {
        "id": "agYvgxv_Jc3l"
      }
    },
    {
      "cell_type": "code",
      "source": [
        "sorted_df = df.sort_values('vote_average', ascending=False)"
      ],
      "metadata": {
        "id": "4xCUkKQiJGmZ"
      },
      "execution_count": 20,
      "outputs": []
    },
    {
      "cell_type": "code",
      "source": [
        "top_10_movies = sorted_df.head(10)"
      ],
      "metadata": {
        "id": "_o7sYzKpJl2l"
      },
      "execution_count": 21,
      "outputs": []
    },
    {
      "cell_type": "code",
      "source": [
        "plt.figure(figsize=(10, 6))\n",
        "\n",
        "plt.bar(top_10_movies['title'], top_10_movies['vote_average'])\n",
        "plt.xlabel('Movie Title')\n",
        "plt.ylabel('Vote Average')\n",
        "plt.title('Top 10 Movies by Average Ratings')\n",
        "\n",
        "plt.xticks(rotation=90)\n",
        "\n",
        "plt.tight_layout()\n",
        "\n",
        "plt.show()"
      ],
      "metadata": {
        "colab": {
          "base_uri": "https://localhost:8080/",
          "height": 607
        },
        "id": "6pE5g_TRJy6d",
        "outputId": "25d8c64a-bf20-4340-d9b4-6f0a95630877"
      },
      "execution_count": 23,
      "outputs": [
        {
          "output_type": "display_data",
          "data": {
            "text/plain": [
              "<Figure size 1000x600 with 1 Axes>"
            ],
            "image/png": "[encoded data removed]"
          },
          "metadata": {}
        }
      ]
    },
    {
      "cell_type": "markdown",
      "source": [
        "### On the basis of total votes count"
      ],
      "metadata": {
        "id": "POCwCGQHMgXB"
      }
    },
    {
      "cell_type": "code",
      "source": [
        "popular_df = df.sort_values('vote_count', ascending=False)\n",
        "\n",
        "top_10_popular = popular_df.head(10)"
      ],
      "metadata": {
        "id": "Pqe8z5dMMcsk"
      },
      "execution_count": 32,
      "outputs": []
    },
    {
      "cell_type": "code",
      "source": [
        "top_10_popular"
      ],
      "metadata": {
        "colab": {
          "base_uri": "https://localhost:8080/",
          "height": 363
        },
        "id": "mc5Lw_PkNeqQ",
        "outputId": "9f7fb72f-6616-426d-b661-47b4758d7c4b"
      },
      "execution_count": 33,
      "outputs": [
        {
          "output_type": "execute_result",
          "data": {
            "text/plain": [
              "                       title  \\\n",
              "80                 Inception   \n",
              "128                 Deadpool   \n",
              "86              The Avengers   \n",
              "47              Interstellar   \n",
              "88           The Dark Knight   \n",
              "132                   Avatar   \n",
              "402  Guardians of the Galaxy   \n",
              "243               Fight Club   \n",
              "216             Pulp Fiction   \n",
              "396         Django Unchained   \n",
              "\n",
              "                                              overview original_language  \\\n",
              "80   Cobb, a skilled thief who commits corporate es...                en   \n",
              "128  Deadpool tells the origin story of former Spec...                en   \n",
              "86   When an unexpected enemy emerges and threatens...                en   \n",
              "47   Interstellar chronicles the adventures of a gr...                en   \n",
              "88   Batman raises the stakes in his war on crime. ...                en   \n",
              "132  In the 22nd century, a paraplegic Marine is di...                en   \n",
              "402  Light years from Earth, 26 years after being a...                en   \n",
              "243  A ticking-time-bomb insomniac and a slippery s...                en   \n",
              "216  A burger-loving hit man, his philosophical par...                en   \n",
              "396  With the help of a German bounty hunter, a fre...                en   \n",
              "\n",
              "     vote_count  vote_average  \n",
              "80        25148           8.3  \n",
              "128       22225           7.6  \n",
              "86        21893           7.7  \n",
              "47        21589           8.3  \n",
              "88        21561           8.4  \n",
              "132       20778           7.4  \n",
              "402       20132           7.9  \n",
              "243       18664           8.4  \n",
              "216       18003           8.5  \n",
              "396       17864           8.1  "
            ],
            "text/html": [
              "\n",
              "  <div id=\"df-5009f1c9-cd7a-4439-817e-5c92b8e87b9b\">\n",
              "    <div class=\"colab-df-container\">\n",
              "      <div>\n",
              "<style scoped>\n",
              "    .dataframe tbody tr th:only-of-type {\n",
              "        vertical-align: middle;\n",
              "    }\n",
              "\n",
              "    .dataframe tbody tr th {\n",
              "        vertical-align: top;\n",
              "    }\n",
              "\n",
              "    .dataframe thead th {\n",
              "        text-align: right;\n",
              "    }\n",
              "</style>\n",
              "<table border=\"1\" class=\"dataframe\">\n",
              "  <thead>\n",
              "    <tr style=\"text-align: right;\">\n",
              "      <th></th>\n",
              "      <th>title</th>\n",
              "      <th>overview</th>\n",
              "      <th>original_language</th>\n",
              "      <th>vote_count</th>\n",
              "      <th>vote_average</th>\n",
              "    </tr>\n",
              "  </thead>\n",
              "  <tbody>\n",
              "    <tr>\n",
              "      <th>80</th>\n",
              "      <td>Inception</td>\n",
              "      <td>Cobb, a skilled thief who commits corporate es...</td>\n",
              "      <td>en</td>\n",
              "      <td>25148</td>\n",
              "      <td>8.3</td>\n",
              "    </tr>\n",
              "    <tr>\n",
              "      <th>128</th>\n",
              "      <td>Deadpool</td>\n",
              "      <td>Deadpool tells the origin story of former Spec...</td>\n",
              "      <td>en</td>\n",
              "      <td>22225</td>\n",
              "      <td>7.6</td>\n",
              "    </tr>\n",
              "    <tr>\n",
              "      <th>86</th>\n",
              "      <td>The Avengers</td>\n",
              "      <td>When an unexpected enemy emerges and threatens...</td>\n",
              "      <td>en</td>\n",
              "      <td>21893</td>\n",
              "      <td>7.7</td>\n",
              "    </tr>\n",
              "    <tr>\n",
              "      <th>47</th>\n",
              "      <td>Interstellar</td>\n",
              "      <td>Interstellar chronicles the adventures of a gr...</td>\n",
              "      <td>en</td>\n",
              "      <td>21589</td>\n",
              "      <td>8.3</td>\n",
              "    </tr>\n",
              "    <tr>\n",
              "      <th>88</th>\n",
              "      <td>The Dark Knight</td>\n",
              "      <td>Batman raises the stakes in his war on crime. ...</td>\n",
              "      <td>en</td>\n",
              "      <td>21561</td>\n",
              "      <td>8.4</td>\n",
              "    </tr>\n",
              "    <tr>\n",
              "      <th>132</th>\n",
              "      <td>Avatar</td>\n",
              "      <td>In the 22nd century, a paraplegic Marine is di...</td>\n",
              "      <td>en</td>\n",
              "      <td>20778</td>\n",
              "      <td>7.4</td>\n",
              "    </tr>\n",
              "    <tr>\n",
              "      <th>402</th>\n",
              "      <td>Guardians of the Galaxy</td>\n",
              "      <td>Light years from Earth, 26 years after being a...</td>\n",
              "      <td>en</td>\n",
              "      <td>20132</td>\n",
              "      <td>7.9</td>\n",
              "    </tr>\n",
              "    <tr>\n",
              "      <th>243</th>\n",
              "      <td>Fight Club</td>\n",
              "      <td>A ticking-time-bomb insomniac and a slippery s...</td>\n",
              "      <td>en</td>\n",
              "      <td>18664</td>\n",
              "      <td>8.4</td>\n",
              "    </tr>\n",
              "    <tr>\n",
              "      <th>216</th>\n",
              "      <td>Pulp Fiction</td>\n",
              "      <td>A burger-loving hit man, his philosophical par...</td>\n",
              "      <td>en</td>\n",
              "      <td>18003</td>\n",
              "      <td>8.5</td>\n",
              "    </tr>\n",
              "    <tr>\n",
              "      <th>396</th>\n",
              "      <td>Django Unchained</td>\n",
              "      <td>With the help of a German bounty hunter, a fre...</td>\n",
              "      <td>en</td>\n",
              "      <td>17864</td>\n",
              "      <td>8.1</td>\n",
              "    </tr>\n",
              "  </tbody>\n",
              "</table>\n",
              "</div>\n",
              "      <button class=\"colab-df-convert\" onclick=\"convertToInteractive('df-5009f1c9-cd7a-4439-817e-5c92b8e87b9b')\"\n",
              "              title=\"Convert this dataframe to an interactive table.\"\n",
              "              style=\"display:none;\">\n",
              "        \n",
              "  <svg xmlns=\"http://www.w3.org/2000/svg\" height=\"24px\"viewBox=\"0 0 24 24\"\n",
              "       width=\"24px\">\n",
              "    <path d=\"M0 0h24v24H0V0z\" fill=\"none\"/>\n",
              "    <path d=\"M18.56 5.44l.94 2.06.94-2.06 2.06-.94-2.06-.94-.94-2.06-.94 2.06-2.06.94zm-11 1L8.5 8.5l.94-2.06 2.06-.94-2.06-.94L8.5 2.5l-.94 2.06-2.06.94zm10 10l.94 2.06.94-2.06 2.06-.94-2.06-.94-.94-2.06-.94 2.06-2.06.94z\"/><path d=\"M17.41 7.96l-1.37-1.37c-.4-.4-.92-.59-1.43-.59-.52 0-1.04.2-1.43.59L10.3 9.45l-7.72 7.72c-.78.78-.78 2.05 0 2.83L4 21.41c.39.39.9.59 1.41.59.51 0 1.02-.2 1.41-.59l7.78-7.78 2.81-2.81c.8-.78.8-2.07 0-2.86zM5.41 20L4 18.59l7.72-7.72 1.47 1.35L5.41 20z\"/>\n",
              "  </svg>\n",
              "      </button>\n",
              "      \n",
              "  <style>\n",
              "    .colab-df-container {\n",
              "      display:flex;\n",
              "      flex-wrap:wrap;\n",
              "      gap: 12px;\n",
              "    }\n",
              "\n",
              "    .colab-df-convert {\n",
              "      background-color: #E8F0FE;\n",
              "      border: none;\n",
              "      border-radius: 50%;\n",
              "      cursor: pointer;\n",
              "      display: none;\n",
              "      fill: #1967D2;\n",
              "      height: 32px;\n",
              "      padding: 0 0 0 0;\n",
              "      width: 32px;\n",
              "    }\n",
              "\n",
              "    .colab-df-convert:hover {\n",
              "      background-color: #E2EBFA;\n",
              "      box-shadow: 0px 1px 2px rgba(60, 64, 67, 0.3), 0px 1px 3px 1px rgba(60, 64, 67, 0.15);\n",
              "      fill: #174EA6;\n",
              "    }\n",
              "\n",
              "    [theme=dark] .colab-df-convert {\n",
              "      background-color: #3B4455;\n",
              "      fill: #D2E3FC;\n",
              "    }\n",
              "\n",
              "    [theme=dark] .colab-df-convert:hover {\n",
              "      background-color: #434B5C;\n",
              "      box-shadow: 0px 1px 3px 1px rgba(0, 0, 0, 0.15);\n",
              "      filter: drop-shadow(0px 1px 2px rgba(0, 0, 0, 0.3));\n",
              "      fill: #FFFFFF;\n",
              "    }\n",
              "  </style>\n",
              "\n",
              "      <script>\n",
              "        const buttonEl =\n",
              "          document.querySelector('#df-5009f1c9-cd7a-4439-817e-5c92b8e87b9b button.colab-df-convert');\n",
              "        buttonEl.style.display =\n",
              "          google.colab.kernel.accessAllowed ? 'block' : 'none';\n",
              "\n",
              "        async function convertToInteractive(key) {\n",
              "          const element = document.querySelector('#df-5009f1c9-cd7a-4439-817e-5c92b8e87b9b');\n",
              "          const dataTable =\n",
              "            await google.colab.kernel.invokeFunction('convertToInteractive',\n",
              "                                                     [key], {});\n",
              "          if (!dataTable) return;\n",
              "\n",
              "          const docLinkHtml = 'Like what you see? Visit the ' +\n",
              "            '<a target=\"_blank\" href=https://colab.research.google.com/notebooks/data_table.ipynb>data table notebook</a>'\n",
              "            + ' to learn more about interactive tables.';\n",
              "          element.innerHTML = '';\n",
              "          dataTable['output_type'] = 'display_data';\n",
              "          await google.colab.output.renderOutput(dataTable, element);\n",
              "          const docLink = document.createElement('div');\n",
              "          docLink.innerHTML = docLinkHtml;\n",
              "          element.appendChild(docLink);\n",
              "        }\n",
              "      </script>\n",
              "    </div>\n",
              "  </div>\n",
              "  "
            ]
          },
          "metadata": {},
          "execution_count": 33
        }
      ]
    },
    {
      "cell_type": "code",
      "source": [
        "plt.bar(top_10_popular[\"title\"], top_10_popular[\"vote_count\"])\n",
        "\n",
        "plt.xlabel(\"Movies Title\")\n",
        "plt.ylabel(\"Total Votes Count\")\n",
        "plt.title(\"Most Popular movies\")\n",
        "\n",
        "plt.xticks(rotation=90)\n",
        "\n",
        "plt.tight_layout()\n",
        "\n",
        "plt.show()"
      ],
      "metadata": {
        "colab": {
          "base_uri": "https://localhost:8080/",
          "height": 487
        },
        "id": "LZ4hNNSYM0tH",
        "outputId": "baae31d6-a555-4325-8bb3-9ce6ec72e06d"
      },
      "execution_count": 34,
      "outputs": [
        {
          "output_type": "display_data",
          "data": {
            "text/plain": [
              "<Figure size 640x480 with 1 Axes>"
            ],
            "image/png": "[encoded data removed]"
          },
          "metadata": {}
        }
      ]
    },
    {
      "cell_type": "code",
      "source": [
        "df.original_language.value_counts()"
      ],
      "metadata": {
        "colab": {
          "base_uri": "https://localhost:8080/"
        },
        "id": "8jYnb8fXNs7p",
        "outputId": "d9a3c7e2-39b2-46bf-dfc6-1eb914980c00"
      },
      "execution_count": 39,
      "outputs": [
        {
          "output_type": "execute_result",
          "data": {
            "text/plain": [
              "en    8326\n",
              "fr     385\n",
              "ja     269\n",
              "it     152\n",
              "es     145\n",
              "de      96\n",
              "ko      92\n",
              "cn      72\n",
              "zh      71\n",
              "hi      70\n",
              "ru      69\n",
              "da      32\n",
              "sv      30\n",
              "pt      22\n",
              "id      21\n",
              "ta      18\n",
              "nl      13\n",
              "no      13\n",
              "tr      12\n",
              "pl      10\n",
              "tl       9\n",
              "th       9\n",
              "ar       6\n",
              "sr       6\n",
              "te       5\n",
              "fa       5\n",
              "cs       4\n",
              "ml       4\n",
              "he       4\n",
              "fi       3\n",
              "hu       3\n",
              "af       2\n",
              "el       2\n",
              "ro       2\n",
              "ab       1\n",
              "lv       1\n",
              "mr       1\n",
              "ka       1\n",
              "ms       1\n",
              "vi       1\n",
              "et       1\n",
              "eu       1\n",
              "sh       1\n",
              "bs       1\n",
              "nb       1\n",
              "pa       1\n",
              "la       1\n",
              "is       1\n",
              "xx       1\n",
              "mk       1\n",
              "sq       1\n",
              "uk       1\n",
              "Name: original_language, dtype: int64"
            ]
          },
          "metadata": {},
          "execution_count": 39
        }
      ]
    },
    {
      "cell_type": "markdown",
      "source": [
        "## Content Based Filtering"
      ],
      "metadata": {
        "id": "Dtta0mECOQEe"
      }
    },
    {
      "cell_type": "code",
      "source": [
        "cbf_df = df[['title', 'overview']]\n",
        "cbf_df"
      ],
      "metadata": {
        "colab": {
          "base_uri": "https://localhost:8080/",
          "height": 424
        },
        "id": "WnuHER_FNu4Q",
        "outputId": "e905d878-9aac-498b-bbfb-16d1321ac866"
      },
      "execution_count": 41,
      "outputs": [
        {
          "output_type": "execute_result",
          "data": {
            "text/plain": [
              "                               title  \\\n",
              "0                           Ad Astra   \n",
              "1                          Bloodshot   \n",
              "2                  Bad Boys for Life   \n",
              "3                            Ant-Man   \n",
              "4     Percy Jackson: Sea of Monsters   \n",
              "...                              ...   \n",
              "9995                           Cargo   \n",
              "9996                  The Good Night   \n",
              "9997              The World Is Yours   \n",
              "9998             The Grand Seduction   \n",
              "9999        Woochi: The Demon Slayer   \n",
              "\n",
              "                                               overview  \n",
              "0     The near future, a time when both hope and har...  \n",
              "1     After he and his wife are murdered, marine Ray...  \n",
              "2     Marcus and Mike are forced to confront new thr...  \n",
              "3     Armed with the astonishing ability to shrink i...  \n",
              "4     In their quest to confront the ultimate evil, ...  \n",
              "...                                                 ...  \n",
              "9995  The story of CARGO takes place on rusty space-...  \n",
              "9996  Gary, a musician, is trapped in an unhappy rel...  \n",
              "9997  To escape his life of crime, a Paris drug deal...  \n",
              "9998  A small fishing village must procure a local d...  \n",
              "9999  Spanning four centuries in Korea, this epic ac...  \n",
              "\n",
              "[10000 rows x 2 columns]"
            ],
            "text/html": [
              "\n",
              "  <div id=\"df-c0a30902-ff0c-4dda-8b13-a683f9c7632e\">\n",
              "    <div class=\"colab-df-container\">\n",
              "      <div>\n",
              "<style scoped>\n",
              "    .dataframe tbody tr th:only-of-type {\n",
              "        vertical-align: middle;\n",
              "    }\n",
              "\n",
              "    .dataframe tbody tr th {\n",
              "        vertical-align: top;\n",
              "    }\n",
              "\n",
              "    .dataframe thead th {\n",
              "        text-align: right;\n",
              "    }\n",
              "</style>\n",
              "<table border=\"1\" class=\"dataframe\">\n",
              "  <thead>\n",
              "    <tr style=\"text-align: right;\">\n",
              "      <th></th>\n",
              "      <th>title</th>\n",
              "      <th>overview</th>\n",
              "    </tr>\n",
              "  </thead>\n",
              "  <tbody>\n",
              "    <tr>\n",
              "      <th>0</th>\n",
              "      <td>Ad Astra</td>\n",
              "      <td>The near future, a time when both hope and har...</td>\n",
              "    </tr>\n",
              "    <tr>\n",
              "      <th>1</th>\n",
              "      <td>Bloodshot</td>\n",
              "      <td>After he and his wife are murdered, marine Ray...</td>\n",
              "    </tr>\n",
              "    <tr>\n",
              "      <th>2</th>\n",
              "      <td>Bad Boys for Life</td>\n",
              "      <td>Marcus and Mike are forced to confront new thr...</td>\n",
              "    </tr>\n",
              "    <tr>\n",
              "      <th>3</th>\n",
              "      <td>Ant-Man</td>\n",
              "      <td>Armed with the astonishing ability to shrink i...</td>\n",
              "    </tr>\n",
              "    <tr>\n",
              "      <th>4</th>\n",
              "      <td>Percy Jackson: Sea of Monsters</td>\n",
              "      <td>In their quest to confront the ultimate evil, ...</td>\n",
              "    </tr>\n",
              "    <tr>\n",
              "      <th>...</th>\n",
              "      <td>...</td>\n",
              "      <td>...</td>\n",
              "    </tr>\n",
              "    <tr>\n",
              "      <th>9995</th>\n",
              "      <td>Cargo</td>\n",
              "      <td>The story of CARGO takes place on rusty space-...</td>\n",
              "    </tr>\n",
              "    <tr>\n",
              "      <th>9996</th>\n",
              "      <td>The Good Night</td>\n",
              "      <td>Gary, a musician, is trapped in an unhappy rel...</td>\n",
              "    </tr>\n",
              "    <tr>\n",
              "      <th>9997</th>\n",
              "      <td>The World Is Yours</td>\n",
              "      <td>To escape his life of crime, a Paris drug deal...</td>\n",
              "    </tr>\n",
              "    <tr>\n",
              "      <th>9998</th>\n",
              "      <td>The Grand Seduction</td>\n",
              "      <td>A small fishing village must procure a local d...</td>\n",
              "    </tr>\n",
              "    <tr>\n",
              "      <th>9999</th>\n",
              "      <td>Woochi: The Demon Slayer</td>\n",
              "      <td>Spanning four centuries in Korea, this epic ac...</td>\n",
              "    </tr>\n",
              "  </tbody>\n",
              "</table>\n",
              "<p>10000 rows × 2 columns</p>\n",
              "</div>\n",
              "      <button class=\"colab-df-convert\" onclick=\"convertToInteractive('df-c0a30902-ff0c-4dda-8b13-a683f9c7632e')\"\n",
              "              title=\"Convert this dataframe to an interactive table.\"\n",
              "              style=\"display:none;\">\n",
              "        \n",
              "  <svg xmlns=\"http://www.w3.org/2000/svg\" height=\"24px\"viewBox=\"0 0 24 24\"\n",
              "       width=\"24px\">\n",
              "    <path d=\"M0 0h24v24H0V0z\" fill=\"none\"/>\n",
              "    <path d=\"M18.56 5.44l.94 2.06.94-2.06 2.06-.94-2.06-.94-.94-2.06-.94 2.06-2.06.94zm-11 1L8.5 8.5l.94-2.06 2.06-.94-2.06-.94L8.5 2.5l-.94 2.06-2.06.94zm10 10l.94 2.06.94-2.06 2.06-.94-2.06-.94-.94-2.06-.94 2.06-2.06.94z\"/><path d=\"M17.41 7.96l-1.37-1.37c-.4-.4-.92-.59-1.43-.59-.52 0-1.04.2-1.43.59L10.3 9.45l-7.72 7.72c-.78.78-.78 2.05 0 2.83L4 21.41c.39.39.9.59 1.41.59.51 0 1.02-.2 1.41-.59l7.78-7.78 2.81-2.81c.8-.78.8-2.07 0-2.86zM5.41 20L4 18.59l7.72-7.72 1.47 1.35L5.41 20z\"/>\n",
              "  </svg>\n",
              "      </button>\n",
              "      \n",
              "  <style>\n",
              "    .colab-df-container {\n",
              "      display:flex;\n",
              "      flex-wrap:wrap;\n",
              "      gap: 12px;\n",
              "    }\n",
              "\n",
              "    .colab-df-convert {\n",
              "      background-color: #E8F0FE;\n",
              "      border: none;\n",
              "      border-radius: 50%;\n",
              "      cursor: pointer;\n",
              "      display: none;\n",
              "      fill: #1967D2;\n",
              "      height: 32px;\n",
              "      padding: 0 0 0 0;\n",
              "      width: 32px;\n",
              "    }\n",
              "\n",
              "    .colab-df-convert:hover {\n",
              "      background-color: #E2EBFA;\n",
              "      box-shadow: 0px 1px 2px rgba(60, 64, 67, 0.3), 0px 1px 3px 1px rgba(60, 64, 67, 0.15);\n",
              "      fill: #174EA6;\n",
              "    }\n",
              "\n",
              "    [theme=dark] .colab-df-convert {\n",
              "      background-color: #3B4455;\n",
              "      fill: #D2E3FC;\n",
              "    }\n",
              "\n",
              "    [theme=dark] .colab-df-convert:hover {\n",
              "      background-color: #434B5C;\n",
              "      box-shadow: 0px 1px 3px 1px rgba(0, 0, 0, 0.15);\n",
              "      filter: drop-shadow(0px 1px 2px rgba(0, 0, 0, 0.3));\n",
              "      fill: #FFFFFF;\n",
              "    }\n",
              "  </style>\n",
              "\n",
              "      <script>\n",
              "        const buttonEl =\n",
              "          document.querySelector('#df-c0a30902-ff0c-4dda-8b13-a683f9c7632e button.colab-df-convert');\n",
              "        buttonEl.style.display =\n",
              "          google.colab.kernel.accessAllowed ? 'block' : 'none';\n",
              "\n",
              "        async function convertToInteractive(key) {\n",
              "          const element = document.querySelector('#df-c0a30902-ff0c-4dda-8b13-a683f9c7632e');\n",
              "          const dataTable =\n",
              "            await google.colab.kernel.invokeFunction('convertToInteractive',\n",
              "                                                     [key], {});\n",
              "          if (!dataTable) return;\n",
              "\n",
              "          const docLinkHtml = 'Like what you see? Visit the ' +\n",
              "            '<a target=\"_blank\" href=https://colab.research.google.com/notebooks/data_table.ipynb>data table notebook</a>'\n",
              "            + ' to learn more about interactive tables.';\n",
              "          element.innerHTML = '';\n",
              "          dataTable['output_type'] = 'display_data';\n",
              "          await google.colab.output.renderOutput(dataTable, element);\n",
              "          const docLink = document.createElement('div');\n",
              "          docLink.innerHTML = docLinkHtml;\n",
              "          element.appendChild(docLink);\n",
              "        }\n",
              "      </script>\n",
              "    </div>\n",
              "  </div>\n",
              "  "
            ]
          },
          "metadata": {},
          "execution_count": 41
        }
      ]
    },
    {
      "cell_type": "markdown",
      "source": [
        "### TF-IDF Vectorizer"
      ],
      "metadata": {
        "id": "LiGCB0r7OsZq"
      }
    },
    {
      "cell_type": "code",
      "source": [
        "from sklearn.feature_extraction.text import TfidfVectorizer\n",
        "\n",
        "vectorizer = TfidfVectorizer(stop_words=\"english\")\n",
        "\n",
        "tfidf_matrix = vectorizer.fit_transform(cbf_df[\"overview\"])\n"
      ],
      "metadata": {
        "id": "DamoH5W3OeQ6"
      },
      "execution_count": 43,
      "outputs": []
    },
    {
      "cell_type": "code",
      "source": [
        "cosine_sim = linear_kernel(tfidf_matrix, tfidf_matrix)"
      ],
      "metadata": {
        "id": "6YPk3pm6QYRM"
      },
      "execution_count": 46,
      "outputs": []
    },
    {
      "cell_type": "code",
      "source": [
        "def get_recommendations(title, df=cbf_df, cosine_sim=cosine_sim, top_n=5):\n",
        "\n",
        "  indices = pd.Series(df.index, index=df[\"title\"]).drop_duplicates()\n",
        "\n",
        "  movie_index = indices[title]\n",
        "\n",
        "  similarity_scores = list(enumerate(cosine_sim[movie_index]))\n",
        "\n",
        "  similarity_scores = sorted(similarity_scores, key=lambda x: x[1], reverse=True)\n",
        "\n",
        "  top_movie_indices = [i[0] for i in similarity_scores[1:top_n+1]]\n",
        "\n",
        "  return cbf_df['title'].iloc[top_movie_indices]"
      ],
      "metadata": {
        "id": "ECrTAMEZPRVu"
      },
      "execution_count": 50,
      "outputs": []
    },
    {
      "cell_type": "code",
      "source": [
        "recommendations = get_recommendations(\"The Dark Knight\", top_n=10)\n",
        "recommendations"
      ],
      "metadata": {
        "colab": {
          "base_uri": "https://localhost:8080/"
        },
        "id": "OTCEo6ykQtAv",
        "outputId": "4f0bfb8b-e1b0-407d-e5a4-7a92a4109b28"
      },
      "execution_count": 52,
      "outputs": [
        {
          "output_type": "execute_result",
          "data": {
            "text/plain": [
              "375                       The Dark Knight Rises\n",
              "685                              Batman Returns\n",
              "9675                        Batman vs. Two-Face\n",
              "2252                 Batman: Under the Red Hood\n",
              "1234                             Batman Forever\n",
              "2855                   Batman: The Killing Joke\n",
              "976     Batman: The Dark Knight Returns, Part 2\n",
              "6392                 Batman: Gotham by Gaslight\n",
              "6220           LEGO DC: Batman - Family Matters\n",
              "5441                           Batman: Year One\n",
              "Name: title, dtype: object"
            ]
          },
          "metadata": {},
          "execution_count": 52
        }
      ]
    },
    {
      "cell_type": "markdown",
      "source": [
        "## Using Count Vectorizer"
      ],
      "metadata": {
        "id": "ALSvk49oRAvD"
      }
    },
    {
      "cell_type": "code",
      "source": [
        "from sklearn.feature_extraction.text import CountVectorizer\n",
        "\n",
        "count_vectorizer = CountVectorizer(stop_words=\"english\")\n",
        "\n",
        "count_matrix = count_vectorizer.fit_transform(cbf_df[\"overview\"])\n",
        "\n",
        "cosine_sim_count = linear_kernel(count_matrix, count_matrix)"
      ],
      "metadata": {
        "id": "VbTCQEUURAOV"
      },
      "execution_count": 53,
      "outputs": []
    },
    {
      "cell_type": "code",
      "source": [
        "recommendations = get_recommendations(\"The Dark Knight\", cosine_sim=cosine_sim_count, top_n=10)\n",
        "recommendations"
      ],
      "metadata": {
        "colab": {
          "base_uri": "https://localhost:8080/"
        },
        "id": "n4t8wtT7RueF",
        "outputId": "f582c363-d59d-44f3-c2b1-a9046f94b87f"
      },
      "execution_count": 56,
      "outputs": [
        {
          "output_type": "execute_result",
          "data": {
            "text/plain": [
              "375                       The Dark Knight Rises\n",
              "685                              Batman Returns\n",
              "1234                             Batman Forever\n",
              "2252                 Batman: Under the Red Hood\n",
              "5441                           Batman: Year One\n",
              "4259                                 The Rookie\n",
              "6220           LEGO DC: Batman - Family Matters\n",
              "870     Batman: The Dark Knight Returns, Part 1\n",
              "1640                      The Lego Batman Movie\n",
              "6315               Batman: Mask of the Phantasm\n",
              "Name: title, dtype: object"
            ]
          },
          "metadata": {},
          "execution_count": 56
        }
      ]
    },
    {
      "cell_type": "markdown",
      "source": [
        "### Word2Vec Vectorizer(Failed to give Proper Recommendations)"
      ],
      "metadata": {
        "id": "1ar0ncabTD3X"
      }
    },
    {
      "cell_type": "code",
      "source": [
        "from gensim.models import Word2Vec\n",
        "from sklearn.metrics.pairwise import euclidean_distances\n",
        "\n",
        "sentences = [plot.split() for plot in cbf_df[\"overview\"]]\n",
        "\n",
        "model = Word2Vec(sentences, vector_size=100, window=5, min_count=1, workers=4)"
      ],
      "metadata": {
        "id": "B7R814TgSEOV"
      },
      "execution_count": 70,
      "outputs": []
    },
    {
      "cell_type": "code",
      "source": [
        "def get_recommendations_word2vec(title, model=model, df=cbf_df, top_n=10):\n",
        "  input_plot = df.loc[df['title'] == title, 'overview'].values[0]\n",
        "  input_tokens = input_plot.split()\n",
        "\n",
        "  input_embedding = sum(model.wv[word] for word in input_tokens) / len(input_tokens)\n",
        "\n",
        "  similarity_scores = []\n",
        "  for index, row in df.iterrows():\n",
        "      plot_tokens = row['overview'].split()\n",
        "      if len(plot_tokens) > 0:\n",
        "        plot_embedding = sum(model.wv[word] for word in plot_tokens) / len(plot_tokens)\n",
        "        distance = euclidean_distances([input_embedding], [plot_embedding])\n",
        "        similarity_scores.append(distance[0][0])\n",
        "\n",
        "  similarity_scores = np.array(similarity_scores)\n",
        "  top_movie_indices = similarity_scores.argsort()[:top_n]\n",
        "\n",
        "  return df['title'].iloc[top_movie_indices]"
      ],
      "metadata": {
        "id": "APV4YJl_TyQA"
      },
      "execution_count": 76,
      "outputs": []
    },
    {
      "cell_type": "code",
      "source": [
        "recommendations = get_recommendations_word2vec(\"Avengers: Age of Ultron\")\n",
        "recommendations"
      ],
      "metadata": {
        "colab": {
          "base_uri": "https://localhost:8080/"
        },
        "id": "RAjJ0IQ3U84A",
        "outputId": "641378a8-d8db-4b44-b377-4dc297e6a2f3"
      },
      "execution_count": 78,
      "outputs": [
        {
          "output_type": "execute_result",
          "data": {
            "text/plain": [
              "133                            Deadpool 2\n",
              "3400              The Thomas Crown Affair\n",
              "8403                        Then Came You\n",
              "1505                          Point Break\n",
              "65                               Geostorm\n",
              "5223               Beauty & the Briefcase\n",
              "4304    Harold & Kumar Go to White Castle\n",
              "5824                              Firefox\n",
              "5416                         Ginger Snaps\n",
              "2392              The Autopsy of Jane Doe\n",
              "Name: title, dtype: object"
            ]
          },
          "metadata": {},
          "execution_count": 78
        }
      ]
    }
  ]
}