{
 "cells": [
  {
   "cell_type": "code",
   "execution_count": 1,
   "id": "5f0bf4ab",
   "metadata": {
    "_cell_guid": "b1076dfc-b9ad-4769-8c92-a6c4dae69d19",
    "_uuid": "8f2839f25d086af736a60e9eeb907d3b93b6e0e5",
    "execution": {
     "iopub.execute_input": "2023-06-21T13:14:56.127992Z",
     "iopub.status.busy": "2023-06-21T13:14:56.127105Z",
     "iopub.status.idle": "2023-06-21T13:14:56.152725Z",
     "shell.execute_reply": "2023-06-21T13:14:56.151283Z"
    },
    "papermill": {
     "duration": 0.047103,
     "end_time": "2023-06-21T13:14:56.155853",
     "exception": false,
     "start_time": "2023-06-21T13:14:56.108750",
     "status": "completed"
    },
    "tags": []
   },
   "outputs": [
    {
     "name": "stdout",
     "output_type": "stream",
     "text": [
      "/kaggle/input/tmdb-15000-movies-dataset-with-credits/movie_data.csv\n"
     ]
    }
   ],
   "source": [
    "# This Python 3 environment comes with many helpful analytics libraries installed\n",
    "# It is defined by the kaggle/python Docker image: https://github.com/kaggle/docker-python\n",
    "# For example, here's several helpful packages to load\n",
    "\n",
    "import numpy as np # linear algebra\n",
    "import pandas as pd # data processing, CSV file I/O (e.g. pd.read_csv)\n",
    "\n",
    "# Input data files are available in the read-only \"../input/\" directory\n",
    "# For example, running this (by clicking run or pressing Shift+Enter) will list all files under the input directory\n",
    "\n",
    "import os\n",
    "for dirname, _, filenames in os.walk('/kaggle/input'):\n",
    "    for filename in filenames:\n",
    "        print(os.path.join(dirname, filename))\n",
    "\n",
    "# You can write up to 20GB to the current directory (/kaggle/working/) that gets preserved as output when you create a version using \"Save & Run All\" \n",
    "# You can also write temporary files to /kaggle/temp/, but they won't be saved outside of the current session"
   ]
  },
  {
   "cell_type": "code",
   "execution_count": 2,
   "id": "1ae5c2cc",
   "metadata": {
    "execution": {
     "iopub.execute_input": "2023-06-21T13:14:56.185991Z",
     "iopub.status.busy": "2023-06-21T13:14:56.185206Z",
     "iopub.status.idle": "2023-06-21T13:15:03.549272Z",
     "shell.execute_reply": "2023-06-21T13:15:03.548111Z"
    },
    "papermill": {
     "duration": 7.381193,
     "end_time": "2023-06-21T13:15:03.551718",
     "exception": false,
     "start_time": "2023-06-21T13:14:56.170525",
     "status": "completed"
    },
    "tags": []
   },
   "outputs": [
    {
     "data": {
      "text/html": [
       "<div>\n",
       "<style scoped>\n",
       "    .dataframe tbody tr th:only-of-type {\n",
       "        vertical-align: middle;\n",
       "    }\n",
       "\n",
       "    .dataframe tbody tr th {\n",
       "        vertical-align: top;\n",
       "    }\n",
       "\n",
       "    .dataframe thead th {\n",
       "        text-align: right;\n",
       "    }\n",
       "</style>\n",
       "<table border=\"1\" class=\"dataframe\">\n",
       "  <thead>\n",
       "    <tr style=\"text-align: right;\">\n",
       "      <th></th>\n",
       "      <th>Unnamed: 0</th>\n",
       "      <th>adult</th>\n",
       "      <th>backdrop_path</th>\n",
       "      <th>movie_id</th>\n",
       "      <th>original_language</th>\n",
       "      <th>original_title</th>\n",
       "      <th>overview</th>\n",
       "      <th>popularity</th>\n",
       "      <th>poster_path</th>\n",
       "      <th>release_date</th>\n",
       "      <th>title</th>\n",
       "      <th>video</th>\n",
       "      <th>vote_average</th>\n",
       "      <th>vote_count</th>\n",
       "      <th>genres</th>\n",
       "      <th>keywords</th>\n",
       "      <th>cast</th>\n",
       "      <th>crew</th>\n",
       "    </tr>\n",
       "  </thead>\n",
       "  <tbody>\n",
       "    <tr>\n",
       "      <th>0</th>\n",
       "      <td>0</td>\n",
       "      <td>False</td>\n",
       "      <td>/kQM7o3NIkruIZLoQ9E2XzZQ8Ujl.jpg</td>\n",
       "      <td>783461</td>\n",
       "      <td>hi</td>\n",
       "      <td>लूप लपेटा</td>\n",
       "      <td>When her boyfriend loses a mobster's cash, Sav...</td>\n",
       "      <td>56.311</td>\n",
       "      <td>/onGdT8sYi89drvSJyEJnft97rOq.jpg</td>\n",
       "      <td>2022-02-04</td>\n",
       "      <td>Looop Lapeta</td>\n",
       "      <td>False</td>\n",
       "      <td>6.2</td>\n",
       "      <td>54</td>\n",
       "      <td>[{'id': 28, 'name': 'Action'}, {'id': 35, 'nam...</td>\n",
       "      <td>['remake', 'looop lapeta', 'saade saati']</td>\n",
       "      <td>[{'adult': False, 'gender': 1, 'id': 550167, '...</td>\n",
       "      <td>[{'adult': False, 'gender': 2, 'id': 1071, 'kn...</td>\n",
       "    </tr>\n",
       "    <tr>\n",
       "      <th>1</th>\n",
       "      <td>1</td>\n",
       "      <td>False</td>\n",
       "      <td>/7w06baRS9VPm5RYz8lawTCLiR4j.jpg</td>\n",
       "      <td>592508</td>\n",
       "      <td>hi</td>\n",
       "      <td>Sooryavanshi</td>\n",
       "      <td>A fearless, faithful albeit slightly forgetful...</td>\n",
       "      <td>45.077</td>\n",
       "      <td>/8p3mhjyLjHKtaAv8tFKfvEBtir0.jpg</td>\n",
       "      <td>2021-11-05</td>\n",
       "      <td>Sooryavanshi</td>\n",
       "      <td>False</td>\n",
       "      <td>5.8</td>\n",
       "      <td>133</td>\n",
       "      <td>[{'id': 28, 'name': 'Action'}, {'id': 80, 'nam...</td>\n",
       "      <td>['police', 'sequel', 'police officer', 'cop un...</td>\n",
       "      <td>[{'adult': False, 'gender': 2, 'id': 35070, 'k...</td>\n",
       "      <td>[{'adult': False, 'gender': 2, 'id': 35070, 'k...</td>\n",
       "    </tr>\n",
       "    <tr>\n",
       "      <th>2</th>\n",
       "      <td>2</td>\n",
       "      <td>False</td>\n",
       "      <td>/sP9mRWiCxCuy17tUJfV8TpSZpqc.jpg</td>\n",
       "      <td>864692</td>\n",
       "      <td>hi</td>\n",
       "      <td>पठान</td>\n",
       "      <td>A soldier caught by enemies and presumed dead ...</td>\n",
       "      <td>47.611</td>\n",
       "      <td>/m1b9toKYyCujHuLoXB5GSDunO9e.jpg</td>\n",
       "      <td>2023-01-25</td>\n",
       "      <td>Pathaan</td>\n",
       "      <td>False</td>\n",
       "      <td>6.7</td>\n",
       "      <td>70</td>\n",
       "      <td>[{'id': 28, 'name': 'Action'}, {'id': 12, 'nam...</td>\n",
       "      <td>['spy', 'fake death', 'spy thriller', 'spy uni...</td>\n",
       "      <td>[{'adult': False, 'gender': 2, 'id': 35742, 'k...</td>\n",
       "      <td>[{'adult': False, 'gender': 2, 'id': 35771, 'k...</td>\n",
       "    </tr>\n",
       "    <tr>\n",
       "      <th>3</th>\n",
       "      <td>3</td>\n",
       "      <td>False</td>\n",
       "      <td>/vBmmJYv5asJpdJZsyPPc4MMpfBe.jpg</td>\n",
       "      <td>1018228</td>\n",
       "      <td>hi</td>\n",
       "      <td>चोर निकल के भागा</td>\n",
       "      <td>A flight attendant and her boyfriend must stea...</td>\n",
       "      <td>43.789</td>\n",
       "      <td>/1MIDERaEUMw1rYDM99tGZPY80Ap.jpg</td>\n",
       "      <td>2023-03-24</td>\n",
       "      <td>Chor Nikal Ke Bhaga</td>\n",
       "      <td>False</td>\n",
       "      <td>7.2</td>\n",
       "      <td>55</td>\n",
       "      <td>[{'id': 80, 'name': 'Crime'}, {'id': 53, 'name...</td>\n",
       "      <td>['heist', 'airplane hijacking']</td>\n",
       "      <td>[{'adult': False, 'gender': 1, 'id': 1115720, ...</td>\n",
       "      <td>[{'adult': False, 'gender': 2, 'id': 102246, '...</td>\n",
       "    </tr>\n",
       "    <tr>\n",
       "      <th>4</th>\n",
       "      <td>4</td>\n",
       "      <td>False</td>\n",
       "      <td>/u7kuUaySqXBVAtqEl9vkTkAzHV9.jpg</td>\n",
       "      <td>20453</td>\n",
       "      <td>hi</td>\n",
       "      <td>3 Idiots</td>\n",
       "      <td>Rascal. Joker. Dreamer. Genius... You've never...</td>\n",
       "      <td>37.260</td>\n",
       "      <td>/66A9MqXOyVFCssoloscw79z8Tew.jpg</td>\n",
       "      <td>2009-12-25</td>\n",
       "      <td>3 Idiots</td>\n",
       "      <td>False</td>\n",
       "      <td>8.0</td>\n",
       "      <td>2052</td>\n",
       "      <td>[{'id': 18, 'name': 'Drama'}, {'id': 35, 'name...</td>\n",
       "      <td>['suicide', 'suicide attempt', 'college', 'mus...</td>\n",
       "      <td>[{'adult': False, 'gender': 2, 'id': 52763, 'k...</td>\n",
       "      <td>[{'adult': False, 'gender': 2, 'id': 35779, 'k...</td>\n",
       "    </tr>\n",
       "  </tbody>\n",
       "</table>\n",
       "</div>"
      ],
      "text/plain": [
       "   Unnamed: 0  adult                     backdrop_path  movie_id  \\\n",
       "0           0  False  /kQM7o3NIkruIZLoQ9E2XzZQ8Ujl.jpg    783461   \n",
       "1           1  False  /7w06baRS9VPm5RYz8lawTCLiR4j.jpg    592508   \n",
       "2           2  False  /sP9mRWiCxCuy17tUJfV8TpSZpqc.jpg    864692   \n",
       "3           3  False  /vBmmJYv5asJpdJZsyPPc4MMpfBe.jpg   1018228   \n",
       "4           4  False  /u7kuUaySqXBVAtqEl9vkTkAzHV9.jpg     20453   \n",
       "\n",
       "  original_language    original_title  \\\n",
       "0                hi         लूप लपेटा   \n",
       "1                hi      Sooryavanshi   \n",
       "2                hi              पठान   \n",
       "3                hi  चोर निकल के भागा   \n",
       "4                hi          3 Idiots   \n",
       "\n",
       "                                            overview  popularity  \\\n",
       "0  When her boyfriend loses a mobster's cash, Sav...      56.311   \n",
       "1  A fearless, faithful albeit slightly forgetful...      45.077   \n",
       "2  A soldier caught by enemies and presumed dead ...      47.611   \n",
       "3  A flight attendant and her boyfriend must stea...      43.789   \n",
       "4  Rascal. Joker. Dreamer. Genius... You've never...      37.260   \n",
       "\n",
       "                        poster_path release_date                title  video  \\\n",
       "0  /onGdT8sYi89drvSJyEJnft97rOq.jpg   2022-02-04         Looop Lapeta  False   \n",
       "1  /8p3mhjyLjHKtaAv8tFKfvEBtir0.jpg   2021-11-05         Sooryavanshi  False   \n",
       "2  /m1b9toKYyCujHuLoXB5GSDunO9e.jpg   2023-01-25              Pathaan  False   \n",
       "3  /1MIDERaEUMw1rYDM99tGZPY80Ap.jpg   2023-03-24  Chor Nikal Ke Bhaga  False   \n",
       "4  /66A9MqXOyVFCssoloscw79z8Tew.jpg   2009-12-25             3 Idiots  False   \n",
       "\n",
       "   vote_average  vote_count  \\\n",
       "0           6.2          54   \n",
       "1           5.8         133   \n",
       "2           6.7          70   \n",
       "3           7.2          55   \n",
       "4           8.0        2052   \n",
       "\n",
       "                                              genres  \\\n",
       "0  [{'id': 28, 'name': 'Action'}, {'id': 35, 'nam...   \n",
       "1  [{'id': 28, 'name': 'Action'}, {'id': 80, 'nam...   \n",
       "2  [{'id': 28, 'name': 'Action'}, {'id': 12, 'nam...   \n",
       "3  [{'id': 80, 'name': 'Crime'}, {'id': 53, 'name...   \n",
       "4  [{'id': 18, 'name': 'Drama'}, {'id': 35, 'name...   \n",
       "\n",
       "                                            keywords  \\\n",
       "0          ['remake', 'looop lapeta', 'saade saati']   \n",
       "1  ['police', 'sequel', 'police officer', 'cop un...   \n",
       "2  ['spy', 'fake death', 'spy thriller', 'spy uni...   \n",
       "3                    ['heist', 'airplane hijacking']   \n",
       "4  ['suicide', 'suicide attempt', 'college', 'mus...   \n",
       "\n",
       "                                                cast  \\\n",
       "0  [{'adult': False, 'gender': 1, 'id': 550167, '...   \n",
       "1  [{'adult': False, 'gender': 2, 'id': 35070, 'k...   \n",
       "2  [{'adult': False, 'gender': 2, 'id': 35742, 'k...   \n",
       "3  [{'adult': False, 'gender': 1, 'id': 1115720, ...   \n",
       "4  [{'adult': False, 'gender': 2, 'id': 52763, 'k...   \n",
       "\n",
       "                                                crew  \n",
       "0  [{'adult': False, 'gender': 2, 'id': 1071, 'kn...  \n",
       "1  [{'adult': False, 'gender': 2, 'id': 35070, 'k...  \n",
       "2  [{'adult': False, 'gender': 2, 'id': 35771, 'k...  \n",
       "3  [{'adult': False, 'gender': 2, 'id': 102246, '...  \n",
       "4  [{'adult': False, 'gender': 2, 'id': 35779, 'k...  "
      ]
     },
     "execution_count": 2,
     "metadata": {},
     "output_type": "execute_result"
    }
   ],
   "source": [
    "df = pd.read_csv(\"/kaggle/input/tmdb-15000-movies-dataset-with-credits/movie_data.csv\", lineterminator='\\n')\n",
    "df.head()"
   ]
  },
  {
   "cell_type": "code",
   "execution_count": 3,
   "id": "13ad81b8",
   "metadata": {
    "execution": {
     "iopub.execute_input": "2023-06-21T13:15:03.578522Z",
     "iopub.status.busy": "2023-06-21T13:15:03.578176Z",
     "iopub.status.idle": "2023-06-21T13:15:03.584653Z",
     "shell.execute_reply": "2023-06-21T13:15:03.583657Z"
    },
    "papermill": {
     "duration": 0.022272,
     "end_time": "2023-06-21T13:15:03.586691",
     "exception": false,
     "start_time": "2023-06-21T13:15:03.564419",
     "status": "completed"
    },
    "tags": []
   },
   "outputs": [
    {
     "data": {
      "text/plain": [
       "Index(['Unnamed: 0', 'adult', 'backdrop_path', 'movie_id', 'original_language',\n",
       "       'original_title', 'overview', 'popularity', 'poster_path',\n",
       "       'release_date', 'title', 'video', 'vote_average', 'vote_count',\n",
       "       'genres', 'keywords', 'cast', 'crew'],\n",
       "      dtype='object')"
      ]
     },
     "execution_count": 3,
     "metadata": {},
     "output_type": "execute_result"
    }
   ],
   "source": [
    "df.columns"
   ]
  },
  {
   "cell_type": "code",
   "execution_count": 4,
   "id": "cf9030f7",
   "metadata": {
    "execution": {
     "iopub.execute_input": "2023-06-21T13:15:03.613768Z",
     "iopub.status.busy": "2023-06-21T13:15:03.612824Z",
     "iopub.status.idle": "2023-06-21T13:15:03.628049Z",
     "shell.execute_reply": "2023-06-21T13:15:03.626892Z"
    },
    "papermill": {
     "duration": 0.031174,
     "end_time": "2023-06-21T13:15:03.630486",
     "exception": false,
     "start_time": "2023-06-21T13:15:03.599312",
     "status": "completed"
    },
    "tags": []
   },
   "outputs": [],
   "source": [
    "df.drop(columns=[\"Unnamed: 0\", \"adult\", \"backdrop_path\", \"video\"], axis=1, inplace=True)"
   ]
  },
  {
   "cell_type": "code",
   "execution_count": 5,
   "id": "7701c656",
   "metadata": {
    "execution": {
     "iopub.execute_input": "2023-06-21T13:15:03.657591Z",
     "iopub.status.busy": "2023-06-21T13:15:03.656547Z",
     "iopub.status.idle": "2023-06-21T13:15:03.667987Z",
     "shell.execute_reply": "2023-06-21T13:15:03.666995Z"
    },
    "papermill": {
     "duration": 0.027445,
     "end_time": "2023-06-21T13:15:03.670400",
     "exception": false,
     "start_time": "2023-06-21T13:15:03.642955",
     "status": "completed"
    },
    "tags": []
   },
   "outputs": [],
   "source": [
    "df.drop(columns=[\"poster_path\"], axis=1, inplace=True)"
   ]
  },
  {
   "cell_type": "code",
   "execution_count": 6,
   "id": "c5de40ea",
   "metadata": {
    "execution": {
     "iopub.execute_input": "2023-06-21T13:15:03.697462Z",
     "iopub.status.busy": "2023-06-21T13:15:03.696380Z",
     "iopub.status.idle": "2023-06-21T13:15:03.742564Z",
     "shell.execute_reply": "2023-06-21T13:15:03.741632Z"
    },
    "papermill": {
     "duration": 0.062071,
     "end_time": "2023-06-21T13:15:03.744828",
     "exception": false,
     "start_time": "2023-06-21T13:15:03.682757",
     "status": "completed"
    },
    "tags": []
   },
   "outputs": [
    {
     "name": "stdout",
     "output_type": "stream",
     "text": [
      "<class 'pandas.core.frame.DataFrame'>\n",
      "RangeIndex: 15871 entries, 0 to 15870\n",
      "Data columns (total 13 columns):\n",
      " #   Column             Non-Null Count  Dtype  \n",
      "---  ------             --------------  -----  \n",
      " 0   movie_id           15871 non-null  int64  \n",
      " 1   original_language  15871 non-null  object \n",
      " 2   original_title     15871 non-null  object \n",
      " 3   overview           15655 non-null  object \n",
      " 4   popularity         15871 non-null  float64\n",
      " 5   release_date       15871 non-null  object \n",
      " 6   title              15871 non-null  object \n",
      " 7   vote_average       15871 non-null  float64\n",
      " 8   vote_count         15871 non-null  int64  \n",
      " 9   genres             15871 non-null  object \n",
      " 10  keywords           15871 non-null  object \n",
      " 11  cast               15871 non-null  object \n",
      " 12  crew               15871 non-null  object \n",
      "dtypes: float64(2), int64(2), object(9)\n",
      "memory usage: 1.6+ MB\n"
     ]
    }
   ],
   "source": [
    "df.info()"
   ]
  },
  {
   "cell_type": "markdown",
   "id": "101ad27f",
   "metadata": {
    "papermill": {
     "duration": 0.012209,
     "end_time": "2023-06-21T13:15:03.769964",
     "exception": false,
     "start_time": "2023-06-21T13:15:03.757755",
     "status": "completed"
    },
    "tags": []
   },
   "source": [
    "### Yay! No Missing Values"
   ]
  },
  {
   "cell_type": "code",
   "execution_count": 7,
   "id": "642a2243",
   "metadata": {
    "execution": {
     "iopub.execute_input": "2023-06-21T13:15:03.797185Z",
     "iopub.status.busy": "2023-06-21T13:15:03.796800Z",
     "iopub.status.idle": "2023-06-21T13:15:03.814640Z",
     "shell.execute_reply": "2023-06-21T13:15:03.813529Z"
    },
    "papermill": {
     "duration": 0.034334,
     "end_time": "2023-06-21T13:15:03.816791",
     "exception": false,
     "start_time": "2023-06-21T13:15:03.782457",
     "status": "completed"
    },
    "tags": []
   },
   "outputs": [
    {
     "data": {
      "text/html": [
       "<div>\n",
       "<style scoped>\n",
       "    .dataframe tbody tr th:only-of-type {\n",
       "        vertical-align: middle;\n",
       "    }\n",
       "\n",
       "    .dataframe tbody tr th {\n",
       "        vertical-align: top;\n",
       "    }\n",
       "\n",
       "    .dataframe thead th {\n",
       "        text-align: right;\n",
       "    }\n",
       "</style>\n",
       "<table border=\"1\" class=\"dataframe\">\n",
       "  <thead>\n",
       "    <tr style=\"text-align: right;\">\n",
       "      <th></th>\n",
       "      <th>movie_id</th>\n",
       "      <th>original_language</th>\n",
       "      <th>original_title</th>\n",
       "      <th>overview</th>\n",
       "      <th>popularity</th>\n",
       "      <th>release_date</th>\n",
       "      <th>title</th>\n",
       "      <th>vote_average</th>\n",
       "      <th>vote_count</th>\n",
       "      <th>genres</th>\n",
       "      <th>keywords</th>\n",
       "      <th>cast</th>\n",
       "      <th>crew</th>\n",
       "    </tr>\n",
       "  </thead>\n",
       "  <tbody>\n",
       "    <tr>\n",
       "      <th>0</th>\n",
       "      <td>783461</td>\n",
       "      <td>hi</td>\n",
       "      <td>लूप लपेटा</td>\n",
       "      <td>When her boyfriend loses a mobster's cash, Sav...</td>\n",
       "      <td>56.311</td>\n",
       "      <td>2022-02-04</td>\n",
       "      <td>Looop Lapeta</td>\n",
       "      <td>6.2</td>\n",
       "      <td>54</td>\n",
       "      <td>[{'id': 28, 'name': 'Action'}, {'id': 35, 'nam...</td>\n",
       "      <td>['remake', 'looop lapeta', 'saade saati']</td>\n",
       "      <td>[{'adult': False, 'gender': 1, 'id': 550167, '...</td>\n",
       "      <td>[{'adult': False, 'gender': 2, 'id': 1071, 'kn...</td>\n",
       "    </tr>\n",
       "    <tr>\n",
       "      <th>1</th>\n",
       "      <td>592508</td>\n",
       "      <td>hi</td>\n",
       "      <td>Sooryavanshi</td>\n",
       "      <td>A fearless, faithful albeit slightly forgetful...</td>\n",
       "      <td>45.077</td>\n",
       "      <td>2021-11-05</td>\n",
       "      <td>Sooryavanshi</td>\n",
       "      <td>5.8</td>\n",
       "      <td>133</td>\n",
       "      <td>[{'id': 28, 'name': 'Action'}, {'id': 80, 'nam...</td>\n",
       "      <td>['police', 'sequel', 'police officer', 'cop un...</td>\n",
       "      <td>[{'adult': False, 'gender': 2, 'id': 35070, 'k...</td>\n",
       "      <td>[{'adult': False, 'gender': 2, 'id': 35070, 'k...</td>\n",
       "    </tr>\n",
       "    <tr>\n",
       "      <th>2</th>\n",
       "      <td>864692</td>\n",
       "      <td>hi</td>\n",
       "      <td>पठान</td>\n",
       "      <td>A soldier caught by enemies and presumed dead ...</td>\n",
       "      <td>47.611</td>\n",
       "      <td>2023-01-25</td>\n",
       "      <td>Pathaan</td>\n",
       "      <td>6.7</td>\n",
       "      <td>70</td>\n",
       "      <td>[{'id': 28, 'name': 'Action'}, {'id': 12, 'nam...</td>\n",
       "      <td>['spy', 'fake death', 'spy thriller', 'spy uni...</td>\n",
       "      <td>[{'adult': False, 'gender': 2, 'id': 35742, 'k...</td>\n",
       "      <td>[{'adult': False, 'gender': 2, 'id': 35771, 'k...</td>\n",
       "    </tr>\n",
       "    <tr>\n",
       "      <th>3</th>\n",
       "      <td>1018228</td>\n",
       "      <td>hi</td>\n",
       "      <td>चोर निकल के भागा</td>\n",
       "      <td>A flight attendant and her boyfriend must stea...</td>\n",
       "      <td>43.789</td>\n",
       "      <td>2023-03-24</td>\n",
       "      <td>Chor Nikal Ke Bhaga</td>\n",
       "      <td>7.2</td>\n",
       "      <td>55</td>\n",
       "      <td>[{'id': 80, 'name': 'Crime'}, {'id': 53, 'name...</td>\n",
       "      <td>['heist', 'airplane hijacking']</td>\n",
       "      <td>[{'adult': False, 'gender': 1, 'id': 1115720, ...</td>\n",
       "      <td>[{'adult': False, 'gender': 2, 'id': 102246, '...</td>\n",
       "    </tr>\n",
       "    <tr>\n",
       "      <th>4</th>\n",
       "      <td>20453</td>\n",
       "      <td>hi</td>\n",
       "      <td>3 Idiots</td>\n",
       "      <td>Rascal. Joker. Dreamer. Genius... You've never...</td>\n",
       "      <td>37.260</td>\n",
       "      <td>2009-12-25</td>\n",
       "      <td>3 Idiots</td>\n",
       "      <td>8.0</td>\n",
       "      <td>2052</td>\n",
       "      <td>[{'id': 18, 'name': 'Drama'}, {'id': 35, 'name...</td>\n",
       "      <td>['suicide', 'suicide attempt', 'college', 'mus...</td>\n",
       "      <td>[{'adult': False, 'gender': 2, 'id': 52763, 'k...</td>\n",
       "      <td>[{'adult': False, 'gender': 2, 'id': 35779, 'k...</td>\n",
       "    </tr>\n",
       "  </tbody>\n",
       "</table>\n",
       "</div>"
      ],
      "text/plain": [
       "   movie_id original_language    original_title  \\\n",
       "0    783461                hi         लूप लपेटा   \n",
       "1    592508                hi      Sooryavanshi   \n",
       "2    864692                hi              पठान   \n",
       "3   1018228                hi  चोर निकल के भागा   \n",
       "4     20453                hi          3 Idiots   \n",
       "\n",
       "                                            overview  popularity release_date  \\\n",
       "0  When her boyfriend loses a mobster's cash, Sav...      56.311   2022-02-04   \n",
       "1  A fearless, faithful albeit slightly forgetful...      45.077   2021-11-05   \n",
       "2  A soldier caught by enemies and presumed dead ...      47.611   2023-01-25   \n",
       "3  A flight attendant and her boyfriend must stea...      43.789   2023-03-24   \n",
       "4  Rascal. Joker. Dreamer. Genius... You've never...      37.260   2009-12-25   \n",
       "\n",
       "                 title  vote_average  vote_count  \\\n",
       "0         Looop Lapeta           6.2          54   \n",
       "1         Sooryavanshi           5.8         133   \n",
       "2              Pathaan           6.7          70   \n",
       "3  Chor Nikal Ke Bhaga           7.2          55   \n",
       "4             3 Idiots           8.0        2052   \n",
       "\n",
       "                                              genres  \\\n",
       "0  [{'id': 28, 'name': 'Action'}, {'id': 35, 'nam...   \n",
       "1  [{'id': 28, 'name': 'Action'}, {'id': 80, 'nam...   \n",
       "2  [{'id': 28, 'name': 'Action'}, {'id': 12, 'nam...   \n",
       "3  [{'id': 80, 'name': 'Crime'}, {'id': 53, 'name...   \n",
       "4  [{'id': 18, 'name': 'Drama'}, {'id': 35, 'name...   \n",
       "\n",
       "                                            keywords  \\\n",
       "0          ['remake', 'looop lapeta', 'saade saati']   \n",
       "1  ['police', 'sequel', 'police officer', 'cop un...   \n",
       "2  ['spy', 'fake death', 'spy thriller', 'spy uni...   \n",
       "3                    ['heist', 'airplane hijacking']   \n",
       "4  ['suicide', 'suicide attempt', 'college', 'mus...   \n",
       "\n",
       "                                                cast  \\\n",
       "0  [{'adult': False, 'gender': 1, 'id': 550167, '...   \n",
       "1  [{'adult': False, 'gender': 2, 'id': 35070, 'k...   \n",
       "2  [{'adult': False, 'gender': 2, 'id': 35742, 'k...   \n",
       "3  [{'adult': False, 'gender': 1, 'id': 1115720, ...   \n",
       "4  [{'adult': False, 'gender': 2, 'id': 52763, 'k...   \n",
       "\n",
       "                                                crew  \n",
       "0  [{'adult': False, 'gender': 2, 'id': 1071, 'kn...  \n",
       "1  [{'adult': False, 'gender': 2, 'id': 35070, 'k...  \n",
       "2  [{'adult': False, 'gender': 2, 'id': 35771, 'k...  \n",
       "3  [{'adult': False, 'gender': 2, 'id': 102246, '...  \n",
       "4  [{'adult': False, 'gender': 2, 'id': 35779, 'k...  "
      ]
     },
     "execution_count": 7,
     "metadata": {},
     "output_type": "execute_result"
    }
   ],
   "source": [
    "df.head()"
   ]
  },
  {
   "cell_type": "code",
   "execution_count": 8,
   "id": "6fa4b5ec",
   "metadata": {
    "execution": {
     "iopub.execute_input": "2023-06-21T13:15:03.844496Z",
     "iopub.status.busy": "2023-06-21T13:15:03.843331Z",
     "iopub.status.idle": "2023-06-21T13:15:03.848661Z",
     "shell.execute_reply": "2023-06-21T13:15:03.847922Z"
    },
    "papermill": {
     "duration": 0.021175,
     "end_time": "2023-06-21T13:15:03.850699",
     "exception": false,
     "start_time": "2023-06-21T13:15:03.829524",
     "status": "completed"
    },
    "tags": []
   },
   "outputs": [],
   "source": [
    "def separate_year(date):\n",
    "    date = date.split(\"-\")\n",
    "    date = date[0]\n",
    "    return date"
   ]
  },
  {
   "cell_type": "code",
   "execution_count": 9,
   "id": "fea55de9",
   "metadata": {
    "execution": {
     "iopub.execute_input": "2023-06-21T13:15:03.878211Z",
     "iopub.status.busy": "2023-06-21T13:15:03.877169Z",
     "iopub.status.idle": "2023-06-21T13:15:03.891746Z",
     "shell.execute_reply": "2023-06-21T13:15:03.890605Z"
    },
    "papermill": {
     "duration": 0.030838,
     "end_time": "2023-06-21T13:15:03.894063",
     "exception": false,
     "start_time": "2023-06-21T13:15:03.863225",
     "status": "completed"
    },
    "tags": []
   },
   "outputs": [],
   "source": [
    "df[\"release_year\"] = df[\"release_date\"].apply(separate_year)"
   ]
  },
  {
   "cell_type": "code",
   "execution_count": 10,
   "id": "db295948",
   "metadata": {
    "execution": {
     "iopub.execute_input": "2023-06-21T13:15:03.923157Z",
     "iopub.status.busy": "2023-06-21T13:15:03.921176Z",
     "iopub.status.idle": "2023-06-21T13:15:03.962253Z",
     "shell.execute_reply": "2023-06-21T13:15:03.960910Z"
    },
    "papermill": {
     "duration": 0.057751,
     "end_time": "2023-06-21T13:15:03.964738",
     "exception": false,
     "start_time": "2023-06-21T13:15:03.906987",
     "status": "completed"
    },
    "tags": []
   },
   "outputs": [
    {
     "name": "stdout",
     "output_type": "stream",
     "text": [
      "<class 'pandas.core.frame.DataFrame'>\n",
      "RangeIndex: 15871 entries, 0 to 15870\n",
      "Data columns (total 14 columns):\n",
      " #   Column             Non-Null Count  Dtype  \n",
      "---  ------             --------------  -----  \n",
      " 0   movie_id           15871 non-null  int64  \n",
      " 1   original_language  15871 non-null  object \n",
      " 2   original_title     15871 non-null  object \n",
      " 3   overview           15655 non-null  object \n",
      " 4   popularity         15871 non-null  float64\n",
      " 5   release_date       15871 non-null  object \n",
      " 6   title              15871 non-null  object \n",
      " 7   vote_average       15871 non-null  float64\n",
      " 8   vote_count         15871 non-null  int64  \n",
      " 9   genres             15871 non-null  object \n",
      " 10  keywords           15871 non-null  object \n",
      " 11  cast               15871 non-null  object \n",
      " 12  crew               15871 non-null  object \n",
      " 13  release_year       15871 non-null  object \n",
      "dtypes: float64(2), int64(2), object(10)\n",
      "memory usage: 1.7+ MB\n"
     ]
    }
   ],
   "source": [
    "df.info()"
   ]
  },
  {
   "cell_type": "code",
   "execution_count": 11,
   "id": "522839e6",
   "metadata": {
    "execution": {
     "iopub.execute_input": "2023-06-21T13:15:03.992221Z",
     "iopub.status.busy": "2023-06-21T13:15:03.991840Z",
     "iopub.status.idle": "2023-06-21T13:15:04.000935Z",
     "shell.execute_reply": "2023-06-21T13:15:03.999965Z"
    },
    "papermill": {
     "duration": 0.02517,
     "end_time": "2023-06-21T13:15:04.003098",
     "exception": false,
     "start_time": "2023-06-21T13:15:03.977928",
     "status": "completed"
    },
    "tags": []
   },
   "outputs": [
    {
     "data": {
      "text/plain": [
       "en    7640\n",
       "hi    5918\n",
       "fr     683\n",
       "it     432\n",
       "ja     307\n",
       "es     218\n",
       "de     113\n",
       "ko      96\n",
       "zh      69\n",
       "cn      68\n",
       "ru      52\n",
       "pt      46\n",
       "sv      41\n",
       "da      35\n",
       "no      24\n",
       "pl      21\n",
       "tr      14\n",
       "nl      14\n",
       "th      11\n",
       "fa       8\n",
       "hu       8\n",
       "id       7\n",
       "fi       7\n",
       "is       4\n",
       "el       4\n",
       "cs       4\n",
       "te       3\n",
       "sr       3\n",
       "ar       3\n",
       "ro       2\n",
       "eu       2\n",
       "uk       2\n",
       "et       1\n",
       "la       1\n",
       "he       1\n",
       "nb       1\n",
       "af       1\n",
       "bn       1\n",
       "ml       1\n",
       "hy       1\n",
       "bs       1\n",
       "gl       1\n",
       "sh       1\n",
       "km       1\n",
       "Name: original_language, dtype: int64"
      ]
     },
     "execution_count": 11,
     "metadata": {},
     "output_type": "execute_result"
    }
   ],
   "source": [
    "df[\"original_language\"].value_counts()"
   ]
  },
  {
   "cell_type": "code",
   "execution_count": 12,
   "id": "e3ffc580",
   "metadata": {
    "execution": {
     "iopub.execute_input": "2023-06-21T13:15:04.031481Z",
     "iopub.status.busy": "2023-06-21T13:15:04.031060Z",
     "iopub.status.idle": "2023-06-21T13:15:04.062194Z",
     "shell.execute_reply": "2023-06-21T13:15:04.060963Z"
    },
    "papermill": {
     "duration": 0.048001,
     "end_time": "2023-06-21T13:15:04.064716",
     "exception": false,
     "start_time": "2023-06-21T13:15:04.016715",
     "status": "completed"
    },
    "tags": []
   },
   "outputs": [],
   "source": [
    "false_count = 0\n",
    "for original_title, title in df[[\"original_title\", \"title\"]].values:\n",
    "    if original_title != title:\n",
    "        false_count += 1"
   ]
  },
  {
   "cell_type": "code",
   "execution_count": 13,
   "id": "86f1cf6d",
   "metadata": {
    "execution": {
     "iopub.execute_input": "2023-06-21T13:15:04.092378Z",
     "iopub.status.busy": "2023-06-21T13:15:04.091977Z",
     "iopub.status.idle": "2023-06-21T13:15:04.098418Z",
     "shell.execute_reply": "2023-06-21T13:15:04.097339Z"
    },
    "papermill": {
     "duration": 0.022633,
     "end_time": "2023-06-21T13:15:04.100389",
     "exception": false,
     "start_time": "2023-06-21T13:15:04.077756",
     "status": "completed"
    },
    "tags": []
   },
   "outputs": [
    {
     "data": {
      "text/plain": [
       "3867"
      ]
     },
     "execution_count": 13,
     "metadata": {},
     "output_type": "execute_result"
    }
   ],
   "source": [
    "false_count "
   ]
  },
  {
   "cell_type": "code",
   "execution_count": 14,
   "id": "4549d1b7",
   "metadata": {
    "execution": {
     "iopub.execute_input": "2023-06-21T13:15:04.128302Z",
     "iopub.status.busy": "2023-06-21T13:15:04.127893Z",
     "iopub.status.idle": "2023-06-21T13:15:04.138798Z",
     "shell.execute_reply": "2023-06-21T13:15:04.137428Z"
    },
    "papermill": {
     "duration": 0.028308,
     "end_time": "2023-06-21T13:15:04.141712",
     "exception": false,
     "start_time": "2023-06-21T13:15:04.113404",
     "status": "completed"
    },
    "tags": []
   },
   "outputs": [],
   "source": [
    "df = df.drop(columns=[\"original_title\", \"release_date\"], axis=1)"
   ]
  },
  {
   "cell_type": "code",
   "execution_count": 15,
   "id": "afa0d3de",
   "metadata": {
    "execution": {
     "iopub.execute_input": "2023-06-21T13:15:04.169556Z",
     "iopub.status.busy": "2023-06-21T13:15:04.169196Z",
     "iopub.status.idle": "2023-06-21T13:15:04.206243Z",
     "shell.execute_reply": "2023-06-21T13:15:04.204966Z"
    },
    "papermill": {
     "duration": 0.053633,
     "end_time": "2023-06-21T13:15:04.208567",
     "exception": false,
     "start_time": "2023-06-21T13:15:04.154934",
     "status": "completed"
    },
    "tags": []
   },
   "outputs": [
    {
     "name": "stdout",
     "output_type": "stream",
     "text": [
      "<class 'pandas.core.frame.DataFrame'>\n",
      "RangeIndex: 15871 entries, 0 to 15870\n",
      "Data columns (total 12 columns):\n",
      " #   Column             Non-Null Count  Dtype  \n",
      "---  ------             --------------  -----  \n",
      " 0   movie_id           15871 non-null  int64  \n",
      " 1   original_language  15871 non-null  object \n",
      " 2   overview           15655 non-null  object \n",
      " 3   popularity         15871 non-null  float64\n",
      " 4   title              15871 non-null  object \n",
      " 5   vote_average       15871 non-null  float64\n",
      " 6   vote_count         15871 non-null  int64  \n",
      " 7   genres             15871 non-null  object \n",
      " 8   keywords           15871 non-null  object \n",
      " 9   cast               15871 non-null  object \n",
      " 10  crew               15871 non-null  object \n",
      " 11  release_year       15871 non-null  object \n",
      "dtypes: float64(2), int64(2), object(8)\n",
      "memory usage: 1.5+ MB\n"
     ]
    }
   ],
   "source": [
    "df.info()"
   ]
  },
  {
   "cell_type": "code",
   "execution_count": 16,
   "id": "9033f5eb",
   "metadata": {
    "execution": {
     "iopub.execute_input": "2023-06-21T13:15:04.236846Z",
     "iopub.status.busy": "2023-06-21T13:15:04.236449Z",
     "iopub.status.idle": "2023-06-21T13:15:05.313424Z",
     "shell.execute_reply": "2023-06-21T13:15:05.312411Z"
    },
    "papermill": {
     "duration": 1.094034,
     "end_time": "2023-06-21T13:15:05.316026",
     "exception": false,
     "start_time": "2023-06-21T13:15:04.221992",
     "status": "completed"
    },
    "tags": []
   },
   "outputs": [
    {
     "data": {
      "image/png": "[encoded data removed]",
      "text/plain": [
       "<Figure size 640x480 with 1 Axes>"
      ]
     },
     "metadata": {},
     "output_type": "display_data"
    }
   ],
   "source": [
    "import matplotlib.pyplot as plt\n",
    "\n",
    "year_counts = {}\n",
    "for year in df[\"release_year\"]:\n",
    "    year_counts[year] = year_counts.get(year, 0) + 1\n",
    "    \n",
    "years = list(year_counts.keys())\n",
    "counts = list(year_counts.values())\n",
    "\n",
    "# Create the bar plot\n",
    "plt.bar(years, counts)\n",
    "\n",
    "# Customize the plot\n",
    "plt.xlabel('Year', rotation=90)\n",
    "plt.ylabel('Number of Movies Released')\n",
    "plt.title('Number of Movies Released per Year')\n",
    "\n",
    "# Display the plot\n",
    "plt.show()"
   ]
  },
  {
   "cell_type": "code",
   "execution_count": 17,
   "id": "8c75636a",
   "metadata": {
    "execution": {
     "iopub.execute_input": "2023-06-21T13:15:05.345727Z",
     "iopub.status.busy": "2023-06-21T13:15:05.345064Z",
     "iopub.status.idle": "2023-06-21T13:15:05.641967Z",
     "shell.execute_reply": "2023-06-21T13:15:05.640923Z"
    },
    "papermill": {
     "duration": 0.314603,
     "end_time": "2023-06-21T13:15:05.644513",
     "exception": false,
     "start_time": "2023-06-21T13:15:05.329910",
     "status": "completed"
    },
    "tags": []
   },
   "outputs": [
    {
     "data": {
      "image/png": "[encoded data removed]",
      "text/plain": [
       "<Figure size 640x480 with 1 Axes>"
      ]
     },
     "metadata": {},
     "output_type": "display_data"
    }
   ],
   "source": [
    "\n",
    "# Count the number of movies in each decade\n",
    "decade_counts = {}\n",
    "for year in df[\"release_year\"]:\n",
    "    decade = str(year)[:3] + \"0s\"\n",
    "    decade_counts[decade] = decade_counts.get(decade, 0) + 1\n",
    "\n",
    "# Prepare data for plotting\n",
    "decades = list(decade_counts.keys())\n",
    "counts = list(decade_counts.values())\n",
    "\n",
    "# Create the bar plot\n",
    "plt.bar(decades, counts)\n",
    "\n",
    "# Customize the plot\n",
    "plt.xlabel('Decade')\n",
    "plt.ylabel('Number of Movies Released')\n",
    "plt.title('Number of Movies Released per Decade')\n",
    "\n",
    "# Rotate the x-axis tick labels\n",
    "plt.xticks(rotation=90)\n",
    "\n",
    "# Display the plot\n",
    "plt.show()"
   ]
  },
  {
   "cell_type": "markdown",
   "id": "ae078538",
   "metadata": {
    "papermill": {
     "duration": 0.013958,
     "end_time": "2023-06-21T13:15:05.672741",
     "exception": false,
     "start_time": "2023-06-21T13:15:05.658783",
     "status": "completed"
    },
    "tags": []
   },
   "source": [
    "## Enough with the visualization and preprocessing\n",
    "## Let's get into the good stuff\n",
    "## *First Let's do **Content-based Filtering** on Overview and we kick off from that*"
   ]
  },
  {
   "cell_type": "code",
   "execution_count": 18,
   "id": "a8c045bf",
   "metadata": {
    "execution": {
     "iopub.execute_input": "2023-06-21T13:15:05.703589Z",
     "iopub.status.busy": "2023-06-21T13:15:05.702603Z",
     "iopub.status.idle": "2023-06-21T13:15:05.745241Z",
     "shell.execute_reply": "2023-06-21T13:15:05.744001Z"
    },
    "papermill": {
     "duration": 0.060467,
     "end_time": "2023-06-21T13:15:05.747440",
     "exception": false,
     "start_time": "2023-06-21T13:15:05.686973",
     "status": "completed"
    },
    "tags": []
   },
   "outputs": [
    {
     "name": "stdout",
     "output_type": "stream",
     "text": [
      "<class 'pandas.core.frame.DataFrame'>\n",
      "RangeIndex: 15871 entries, 0 to 15870\n",
      "Data columns (total 12 columns):\n",
      " #   Column             Non-Null Count  Dtype  \n",
      "---  ------             --------------  -----  \n",
      " 0   movie_id           15871 non-null  int64  \n",
      " 1   original_language  15871 non-null  object \n",
      " 2   overview           15871 non-null  object \n",
      " 3   popularity         15871 non-null  float64\n",
      " 4   title              15871 non-null  object \n",
      " 5   vote_average       15871 non-null  float64\n",
      " 6   vote_count         15871 non-null  int64  \n",
      " 7   genres             15871 non-null  object \n",
      " 8   keywords           15871 non-null  object \n",
      " 9   cast               15871 non-null  object \n",
      " 10  crew               15871 non-null  object \n",
      " 11  release_year       15871 non-null  object \n",
      "dtypes: float64(2), int64(2), object(8)\n",
      "memory usage: 1.5+ MB\n"
     ]
    }
   ],
   "source": [
    "df[\"overview\"] = df[\"overview\"].fillna(\"\")\n",
    "df.info()"
   ]
  },
  {
   "cell_type": "code",
   "execution_count": 19,
   "id": "4a9a1718",
   "metadata": {
    "execution": {
     "iopub.execute_input": "2023-06-21T13:15:05.778393Z",
     "iopub.status.busy": "2023-06-21T13:15:05.777605Z",
     "iopub.status.idle": "2023-06-21T13:15:05.790264Z",
     "shell.execute_reply": "2023-06-21T13:15:05.789165Z"
    },
    "papermill": {
     "duration": 0.030773,
     "end_time": "2023-06-21T13:15:05.792763",
     "exception": false,
     "start_time": "2023-06-21T13:15:05.761990",
     "status": "completed"
    },
    "tags": []
   },
   "outputs": [],
   "source": [
    "overview_cbf = df[[\"title\", \"overview\"]]"
   ]
  },
  {
   "cell_type": "code",
   "execution_count": 20,
   "id": "adcd8a4b",
   "metadata": {
    "execution": {
     "iopub.execute_input": "2023-06-21T13:15:05.823785Z",
     "iopub.status.busy": "2023-06-21T13:15:05.822882Z",
     "iopub.status.idle": "2023-06-21T13:15:05.833592Z",
     "shell.execute_reply": "2023-06-21T13:15:05.832533Z"
    },
    "papermill": {
     "duration": 0.028316,
     "end_time": "2023-06-21T13:15:05.835636",
     "exception": false,
     "start_time": "2023-06-21T13:15:05.807320",
     "status": "completed"
    },
    "tags": []
   },
   "outputs": [
    {
     "data": {
      "text/html": [
       "<div>\n",
       "<style scoped>\n",
       "    .dataframe tbody tr th:only-of-type {\n",
       "        vertical-align: middle;\n",
       "    }\n",
       "\n",
       "    .dataframe tbody tr th {\n",
       "        vertical-align: top;\n",
       "    }\n",
       "\n",
       "    .dataframe thead th {\n",
       "        text-align: right;\n",
       "    }\n",
       "</style>\n",
       "<table border=\"1\" class=\"dataframe\">\n",
       "  <thead>\n",
       "    <tr style=\"text-align: right;\">\n",
       "      <th></th>\n",
       "      <th>title</th>\n",
       "      <th>overview</th>\n",
       "    </tr>\n",
       "  </thead>\n",
       "  <tbody>\n",
       "    <tr>\n",
       "      <th>0</th>\n",
       "      <td>Looop Lapeta</td>\n",
       "      <td>When her boyfriend loses a mobster's cash, Sav...</td>\n",
       "    </tr>\n",
       "    <tr>\n",
       "      <th>1</th>\n",
       "      <td>Sooryavanshi</td>\n",
       "      <td>A fearless, faithful albeit slightly forgetful...</td>\n",
       "    </tr>\n",
       "    <tr>\n",
       "      <th>2</th>\n",
       "      <td>Pathaan</td>\n",
       "      <td>A soldier caught by enemies and presumed dead ...</td>\n",
       "    </tr>\n",
       "    <tr>\n",
       "      <th>3</th>\n",
       "      <td>Chor Nikal Ke Bhaga</td>\n",
       "      <td>A flight attendant and her boyfriend must stea...</td>\n",
       "    </tr>\n",
       "    <tr>\n",
       "      <th>4</th>\n",
       "      <td>3 Idiots</td>\n",
       "      <td>Rascal. Joker. Dreamer. Genius... You've never...</td>\n",
       "    </tr>\n",
       "  </tbody>\n",
       "</table>\n",
       "</div>"
      ],
      "text/plain": [
       "                 title                                           overview\n",
       "0         Looop Lapeta  When her boyfriend loses a mobster's cash, Sav...\n",
       "1         Sooryavanshi  A fearless, faithful albeit slightly forgetful...\n",
       "2              Pathaan  A soldier caught by enemies and presumed dead ...\n",
       "3  Chor Nikal Ke Bhaga  A flight attendant and her boyfriend must stea...\n",
       "4             3 Idiots  Rascal. Joker. Dreamer. Genius... You've never..."
      ]
     },
     "execution_count": 20,
     "metadata": {},
     "output_type": "execute_result"
    }
   ],
   "source": [
    "overview_cbf.head()"
   ]
  },
  {
   "cell_type": "code",
   "execution_count": 21,
   "id": "1c3a7da1",
   "metadata": {
    "execution": {
     "iopub.execute_input": "2023-06-21T13:15:05.867532Z",
     "iopub.status.busy": "2023-06-21T13:15:05.866641Z",
     "iopub.status.idle": "2023-06-21T13:15:05.876706Z",
     "shell.execute_reply": "2023-06-21T13:15:05.875627Z"
    },
    "papermill": {
     "duration": 0.02781,
     "end_time": "2023-06-21T13:15:05.878733",
     "exception": false,
     "start_time": "2023-06-21T13:15:05.850923",
     "status": "completed"
    },
    "tags": []
   },
   "outputs": [
    {
     "name": "stderr",
     "output_type": "stream",
     "text": [
      "/tmp/ipykernel_21/62874847.py:1: SettingWithCopyWarning: \n",
      "A value is trying to be set on a copy of a slice from a DataFrame.\n",
      "Try using .loc[row_indexer,col_indexer] = value instead\n",
      "\n",
      "See the caveats in the documentation: https://pandas.pydata.org/pandas-docs/stable/user_guide/indexing.html#returning-a-view-versus-a-copy\n",
      "  overview_cbf.loc[:, (\"overview\")] = overview_cbf[\"overview\"].fillna(\"Unknown\")\n"
     ]
    }
   ],
   "source": [
    "overview_cbf.loc[:, (\"overview\")] = overview_cbf[\"overview\"].fillna(\"Unknown\")"
   ]
  },
  {
   "cell_type": "code",
   "execution_count": 22,
   "id": "3574f965",
   "metadata": {
    "execution": {
     "iopub.execute_input": "2023-06-21T13:15:05.909657Z",
     "iopub.status.busy": "2023-06-21T13:15:05.909248Z",
     "iopub.status.idle": "2023-06-21T13:15:05.926695Z",
     "shell.execute_reply": "2023-06-21T13:15:05.925668Z"
    },
    "papermill": {
     "duration": 0.035668,
     "end_time": "2023-06-21T13:15:05.928788",
     "exception": false,
     "start_time": "2023-06-21T13:15:05.893120",
     "status": "completed"
    },
    "tags": []
   },
   "outputs": [
    {
     "name": "stdout",
     "output_type": "stream",
     "text": [
      "<class 'pandas.core.frame.DataFrame'>\n",
      "RangeIndex: 15871 entries, 0 to 15870\n",
      "Data columns (total 2 columns):\n",
      " #   Column    Non-Null Count  Dtype \n",
      "---  ------    --------------  ----- \n",
      " 0   title     15871 non-null  object\n",
      " 1   overview  15871 non-null  object\n",
      "dtypes: object(2)\n",
      "memory usage: 248.1+ KB\n"
     ]
    }
   ],
   "source": [
    "overview_cbf.info()"
   ]
  },
  {
   "cell_type": "code",
   "execution_count": 23,
   "id": "aaddab5a",
   "metadata": {
    "execution": {
     "iopub.execute_input": "2023-06-21T13:15:05.960282Z",
     "iopub.status.busy": "2023-06-21T13:15:05.959669Z",
     "iopub.status.idle": "2023-06-21T13:15:11.888755Z",
     "shell.execute_reply": "2023-06-21T13:15:11.887634Z"
    },
    "papermill": {
     "duration": 5.947793,
     "end_time": "2023-06-21T13:15:11.891758",
     "exception": false,
     "start_time": "2023-06-21T13:15:05.943965",
     "status": "completed"
    },
    "tags": []
   },
   "outputs": [],
   "source": [
    "from sklearn.feature_extraction.text import TfidfVectorizer\n",
    "\n",
    "vectorizer = TfidfVectorizer(max_features=500, ngram_range=(1, 3), stop_words=\"english\")\n",
    "sparse_overview = vectorizer.fit_transform(overview_cbf[\"overview\"])"
   ]
  },
  {
   "cell_type": "code",
   "execution_count": 24,
   "id": "60df23e8",
   "metadata": {
    "execution": {
     "iopub.execute_input": "2023-06-21T13:15:11.924416Z",
     "iopub.status.busy": "2023-06-21T13:15:11.924015Z",
     "iopub.status.idle": "2023-06-21T13:15:16.489025Z",
     "shell.execute_reply": "2023-06-21T13:15:16.488154Z"
    },
    "papermill": {
     "duration": 4.583968,
     "end_time": "2023-06-21T13:15:16.491434",
     "exception": false,
     "start_time": "2023-06-21T13:15:11.907466",
     "status": "completed"
    },
    "tags": []
   },
   "outputs": [],
   "source": [
    "from sklearn.metrics.pairwise import cosine_similarity\n",
    "\n",
    "cosine_sim = cosine_similarity(sparse_overview, sparse_overview)"
   ]
  },
  {
   "cell_type": "code",
   "execution_count": 25,
   "id": "c32ecfef",
   "metadata": {
    "execution": {
     "iopub.execute_input": "2023-06-21T13:15:16.523221Z",
     "iopub.status.busy": "2023-06-21T13:15:16.522286Z",
     "iopub.status.idle": "2023-06-21T13:15:16.528871Z",
     "shell.execute_reply": "2023-06-21T13:15:16.527852Z"
    },
    "papermill": {
     "duration": 0.02522,
     "end_time": "2023-06-21T13:15:16.531441",
     "exception": false,
     "start_time": "2023-06-21T13:15:16.506221",
     "status": "completed"
    },
    "tags": []
   },
   "outputs": [],
   "source": [
    "def get_movie_recommendations(user_movie, top_k=10):\n",
    "    user_profile = overview_cbf[overview_cbf[\"title\"] == user_movie][\"overview\"]\n",
    "    # Convert user profile to feature vector\n",
    "    user_features = vectorizer.transform([user_profile.values[0]])\n",
    "\n",
    "    # Calculate similarity between user profile and all movies\n",
    "    similarities = cosine_similarity(user_features, sparse_overview).flatten()\n",
    "\n",
    "    # Sort movies based on similarity and get top recommendations\n",
    "    indices = similarities.argsort()[::-1][:top_k]\n",
    "    recommended_movies = overview_cbf.iloc[indices]\n",
    "\n",
    "    return recommended_movies"
   ]
  },
  {
   "cell_type": "code",
   "execution_count": 26,
   "id": "a3d3737b",
   "metadata": {
    "execution": {
     "iopub.execute_input": "2023-06-21T13:15:16.563662Z",
     "iopub.status.busy": "2023-06-21T13:15:16.562998Z",
     "iopub.status.idle": "2023-06-21T13:15:16.582907Z",
     "shell.execute_reply": "2023-06-21T13:15:16.581918Z"
    },
    "papermill": {
     "duration": 0.038345,
     "end_time": "2023-06-21T13:15:16.584997",
     "exception": false,
     "start_time": "2023-06-21T13:15:16.546652",
     "status": "completed"
    },
    "tags": []
   },
   "outputs": [
    {
     "data": {
      "text/html": [
       "<div>\n",
       "<style scoped>\n",
       "    .dataframe tbody tr th:only-of-type {\n",
       "        vertical-align: middle;\n",
       "    }\n",
       "\n",
       "    .dataframe tbody tr th {\n",
       "        vertical-align: top;\n",
       "    }\n",
       "\n",
       "    .dataframe thead th {\n",
       "        text-align: right;\n",
       "    }\n",
       "</style>\n",
       "<table border=\"1\" class=\"dataframe\">\n",
       "  <thead>\n",
       "    <tr style=\"text-align: right;\">\n",
       "      <th></th>\n",
       "      <th>title</th>\n",
       "      <th>overview</th>\n",
       "    </tr>\n",
       "  </thead>\n",
       "  <tbody>\n",
       "    <tr>\n",
       "      <th>33</th>\n",
       "      <td>Dhoom 2</td>\n",
       "      <td>Jai and Ali return, this time on the trail of ...</td>\n",
       "    </tr>\n",
       "    <tr>\n",
       "      <th>11482</th>\n",
       "      <td>Dhoom 2</td>\n",
       "      <td>Jai and Ali return, this time on the trail of ...</td>\n",
       "    </tr>\n",
       "    <tr>\n",
       "      <th>5943</th>\n",
       "      <td>BTS World Tour: Love Yourself in Seoul</td>\n",
       "      <td>Shot at the Olympic Stadium in Seoul during th...</td>\n",
       "    </tr>\n",
       "    <tr>\n",
       "      <th>12448</th>\n",
       "      <td>Central Intelligence</td>\n",
       "      <td>After he reunites with an old pal through Face...</td>\n",
       "    </tr>\n",
       "    <tr>\n",
       "      <th>41</th>\n",
       "      <td>The Lunchbox</td>\n",
       "      <td>A mistaken delivery in Mumbai's famously effic...</td>\n",
       "    </tr>\n",
       "    <tr>\n",
       "      <th>8000</th>\n",
       "      <td>The Lunchbox</td>\n",
       "      <td>A mistaken delivery in Mumbai's famously effic...</td>\n",
       "    </tr>\n",
       "    <tr>\n",
       "      <th>11507</th>\n",
       "      <td>I'm Not There</td>\n",
       "      <td>Six actors portray six personas of music legen...</td>\n",
       "    </tr>\n",
       "    <tr>\n",
       "      <th>12320</th>\n",
       "      <td>Life</td>\n",
       "      <td>The six-member crew of the International Space...</td>\n",
       "    </tr>\n",
       "    <tr>\n",
       "      <th>5608</th>\n",
       "      <td>Plot No. 666</td>\n",
       "      <td>Jayasaptagiri Productions in association with ...</td>\n",
       "    </tr>\n",
       "    <tr>\n",
       "      <th>9969</th>\n",
       "      <td>The Hitman's Bodyguard</td>\n",
       "      <td>The world’s top bodyguard gets a new client, a...</td>\n",
       "    </tr>\n",
       "    <tr>\n",
       "      <th>7179</th>\n",
       "      <td>The Second Tragic Fantozzi</td>\n",
       "      <td>The frustrating adventures of a humble employe...</td>\n",
       "    </tr>\n",
       "    <tr>\n",
       "      <th>8608</th>\n",
       "      <td>Mission: Impossible - Rogue Nation</td>\n",
       "      <td>Ethan and team take on their most impossible m...</td>\n",
       "    </tr>\n",
       "    <tr>\n",
       "      <th>603</th>\n",
       "      <td>Bheed</td>\n",
       "      <td>8 hours, complete lockdown in the whole of Ind...</td>\n",
       "    </tr>\n",
       "    <tr>\n",
       "      <th>23</th>\n",
       "      <td>Junglee</td>\n",
       "      <td>A vet returns home to his father's elephant re...</td>\n",
       "    </tr>\n",
       "    <tr>\n",
       "      <th>995</th>\n",
       "      <td>Bhangra Paa Le</td>\n",
       "      <td>Jaggi comes from a Punjabi background and he a...</td>\n",
       "    </tr>\n",
       "    <tr>\n",
       "      <th>4957</th>\n",
       "      <td>Six Years of Freedom</td>\n",
       "      <td>This documentary highlights the achievements o...</td>\n",
       "    </tr>\n",
       "    <tr>\n",
       "      <th>5351</th>\n",
       "      <td>Joy Ride</td>\n",
       "      <td>A documentary about human-powered manual ferri...</td>\n",
       "    </tr>\n",
       "    <tr>\n",
       "      <th>2961</th>\n",
       "      <td>Gully Boy: Live In Concert</td>\n",
       "      <td>The revolution is here. Witness gully rap rise...</td>\n",
       "    </tr>\n",
       "    <tr>\n",
       "      <th>8712</th>\n",
       "      <td>The Man Without Gravity</td>\n",
       "      <td>A gravity-defying boy raised in seclusion matu...</td>\n",
       "    </tr>\n",
       "    <tr>\n",
       "      <th>1517</th>\n",
       "      <td>Zokkomon</td>\n",
       "      <td>An orphan is abused and abandoned, believed to...</td>\n",
       "    </tr>\n",
       "  </tbody>\n",
       "</table>\n",
       "</div>"
      ],
      "text/plain": [
       "                                        title  \\\n",
       "33                                    Dhoom 2   \n",
       "11482                                 Dhoom 2   \n",
       "5943   BTS World Tour: Love Yourself in Seoul   \n",
       "12448                    Central Intelligence   \n",
       "41                               The Lunchbox   \n",
       "8000                             The Lunchbox   \n",
       "11507                           I'm Not There   \n",
       "12320                                    Life   \n",
       "5608                             Plot No. 666   \n",
       "9969                   The Hitman's Bodyguard   \n",
       "7179               The Second Tragic Fantozzi   \n",
       "8608       Mission: Impossible - Rogue Nation   \n",
       "603                                     Bheed   \n",
       "23                                    Junglee   \n",
       "995                            Bhangra Paa Le   \n",
       "4957                     Six Years of Freedom   \n",
       "5351                                 Joy Ride   \n",
       "2961               Gully Boy: Live In Concert   \n",
       "8712                  The Man Without Gravity   \n",
       "1517                                 Zokkomon   \n",
       "\n",
       "                                                overview  \n",
       "33     Jai and Ali return, this time on the trail of ...  \n",
       "11482  Jai and Ali return, this time on the trail of ...  \n",
       "5943   Shot at the Olympic Stadium in Seoul during th...  \n",
       "12448  After he reunites with an old pal through Face...  \n",
       "41     A mistaken delivery in Mumbai's famously effic...  \n",
       "8000   A mistaken delivery in Mumbai's famously effic...  \n",
       "11507  Six actors portray six personas of music legen...  \n",
       "12320  The six-member crew of the International Space...  \n",
       "5608   Jayasaptagiri Productions in association with ...  \n",
       "9969   The world’s top bodyguard gets a new client, a...  \n",
       "7179   The frustrating adventures of a humble employe...  \n",
       "8608   Ethan and team take on their most impossible m...  \n",
       "603    8 hours, complete lockdown in the whole of Ind...  \n",
       "23     A vet returns home to his father's elephant re...  \n",
       "995    Jaggi comes from a Punjabi background and he a...  \n",
       "4957   This documentary highlights the achievements o...  \n",
       "5351   A documentary about human-powered manual ferri...  \n",
       "2961   The revolution is here. Witness gully rap rise...  \n",
       "8712   A gravity-defying boy raised in seclusion matu...  \n",
       "1517   An orphan is abused and abandoned, believed to...  "
      ]
     },
     "execution_count": 26,
     "metadata": {},
     "output_type": "execute_result"
    }
   ],
   "source": [
    "get_movie_recommendations(\"Dhoom 2\", 20)"
   ]
  },
  {
   "cell_type": "code",
   "execution_count": 27,
   "id": "f40402ef",
   "metadata": {
    "execution": {
     "iopub.execute_input": "2023-06-21T13:15:16.616482Z",
     "iopub.status.busy": "2023-06-21T13:15:16.616091Z",
     "iopub.status.idle": "2023-06-21T13:15:16.623905Z",
     "shell.execute_reply": "2023-06-21T13:15:16.622875Z"
    },
    "papermill": {
     "duration": 0.026096,
     "end_time": "2023-06-21T13:15:16.625912",
     "exception": false,
     "start_time": "2023-06-21T13:15:16.599816",
     "status": "completed"
    },
    "tags": []
   },
   "outputs": [
    {
     "data": {
      "text/plain": [
       "0                            Looop Lapeta\n",
       "1                            Sooryavanshi\n",
       "2                                 Pathaan\n",
       "3                     Chor Nikal Ke Bhaga\n",
       "4                                3 Idiots\n",
       "5                         My Name Is Khan\n",
       "6             Dilwale Dulhania Le Jayenge\n",
       "7                                 Dhamaka\n",
       "8              Brahmāstra Part One: Shiva\n",
       "9                               Andhadhun\n",
       "10                           Om Shanti Om\n",
       "11                            Blood Money\n",
       "12               Kabhi Khushi Kabhie Gham\n",
       "13                                Dhoom 3\n",
       "14                                Gumraah\n",
       "15                                 Dangal\n",
       "16                                  Kites\n",
       "17    Commando 2 -  The Black Money Trail\n",
       "18                 Kabhi Alvida Naa Kehna\n",
       "19                    Like Stars on Earth\n",
       "20                                  Drive\n",
       "21                     Kuch Kuch Hota Hai\n",
       "22                              Bodyguard\n",
       "23                                Junglee\n",
       "24                  The Girl on the Train\n",
       "25                                 Baaghi\n",
       "26                    Student of the Year\n",
       "27                            Karan Arjun\n",
       "28            Gangs of Wasseypur - Part 1\n",
       "29                                  Raees\n",
       "30                      Bajrangi Bhaijaan\n",
       "31                                     PK\n",
       "32                    Rab Ne Bana Di Jodi\n",
       "33                                Dhoom 2\n",
       "34                              Padmaavat\n",
       "35                            Mohabbatein\n",
       "36                   Mujhse Dosti Karoge!\n",
       "37                   Monica, O My Darling\n",
       "38                             Veer-Zaara\n",
       "39                             Bang Bang!\n",
       "40      Lagaan: Once Upon a Time in India\n",
       "41                           The Lunchbox\n",
       "42                    Gangubai Kathiawadi\n",
       "43                        Monsoon Wedding\n",
       "44               Zindagi Na Milegi Dobara\n",
       "45                                 Swades\n",
       "46                                Dilwale\n",
       "47                                Ghajini\n",
       "48                     Bhaag Milkha Bhaag\n",
       "49                       Jab Tak Hai Jaan\n",
       "Name: title, dtype: object"
      ]
     },
     "execution_count": 27,
     "metadata": {},
     "output_type": "execute_result"
    }
   ],
   "source": [
    "df[\"title\"].head(50)"
   ]
  },
  {
   "cell_type": "markdown",
   "id": "af25e40c",
   "metadata": {
    "papermill": {
     "duration": 0.015168,
     "end_time": "2023-06-21T13:15:16.656337",
     "exception": false,
     "start_time": "2023-06-21T13:15:16.641169",
     "status": "completed"
    },
    "tags": []
   },
   "source": [
    "> ## Content based filtering with overview showed promising results. However, it is not been specialized for an actor or a specific genre or even a movie released date or original language of the movie next we will do just that. Improve this content based filtering."
   ]
  },
  {
   "cell_type": "code",
   "execution_count": 28,
   "id": "bda91313",
   "metadata": {
    "execution": {
     "iopub.execute_input": "2023-06-21T13:15:16.688020Z",
     "iopub.status.busy": "2023-06-21T13:15:16.687658Z",
     "iopub.status.idle": "2023-06-21T13:15:16.704211Z",
     "shell.execute_reply": "2023-06-21T13:15:16.703183Z"
    },
    "papermill": {
     "duration": 0.035011,
     "end_time": "2023-06-21T13:15:16.706378",
     "exception": false,
     "start_time": "2023-06-21T13:15:16.671367",
     "status": "completed"
    },
    "tags": []
   },
   "outputs": [
    {
     "data": {
      "text/html": [
       "<div>\n",
       "<style scoped>\n",
       "    .dataframe tbody tr th:only-of-type {\n",
       "        vertical-align: middle;\n",
       "    }\n",
       "\n",
       "    .dataframe tbody tr th {\n",
       "        vertical-align: top;\n",
       "    }\n",
       "\n",
       "    .dataframe thead th {\n",
       "        text-align: right;\n",
       "    }\n",
       "</style>\n",
       "<table border=\"1\" class=\"dataframe\">\n",
       "  <thead>\n",
       "    <tr style=\"text-align: right;\">\n",
       "      <th></th>\n",
       "      <th>movie_id</th>\n",
       "      <th>original_language</th>\n",
       "      <th>overview</th>\n",
       "      <th>popularity</th>\n",
       "      <th>title</th>\n",
       "      <th>vote_average</th>\n",
       "      <th>vote_count</th>\n",
       "      <th>genres</th>\n",
       "      <th>keywords</th>\n",
       "      <th>cast</th>\n",
       "      <th>crew</th>\n",
       "      <th>release_year</th>\n",
       "    </tr>\n",
       "  </thead>\n",
       "  <tbody>\n",
       "    <tr>\n",
       "      <th>0</th>\n",
       "      <td>783461</td>\n",
       "      <td>hi</td>\n",
       "      <td>When her boyfriend loses a mobster's cash, Sav...</td>\n",
       "      <td>56.311</td>\n",
       "      <td>Looop Lapeta</td>\n",
       "      <td>6.2</td>\n",
       "      <td>54</td>\n",
       "      <td>[{'id': 28, 'name': 'Action'}, {'id': 35, 'nam...</td>\n",
       "      <td>['remake', 'looop lapeta', 'saade saati']</td>\n",
       "      <td>[{'adult': False, 'gender': 1, 'id': 550167, '...</td>\n",
       "      <td>[{'adult': False, 'gender': 2, 'id': 1071, 'kn...</td>\n",
       "      <td>2022</td>\n",
       "    </tr>\n",
       "    <tr>\n",
       "      <th>1</th>\n",
       "      <td>592508</td>\n",
       "      <td>hi</td>\n",
       "      <td>A fearless, faithful albeit slightly forgetful...</td>\n",
       "      <td>45.077</td>\n",
       "      <td>Sooryavanshi</td>\n",
       "      <td>5.8</td>\n",
       "      <td>133</td>\n",
       "      <td>[{'id': 28, 'name': 'Action'}, {'id': 80, 'nam...</td>\n",
       "      <td>['police', 'sequel', 'police officer', 'cop un...</td>\n",
       "      <td>[{'adult': False, 'gender': 2, 'id': 35070, 'k...</td>\n",
       "      <td>[{'adult': False, 'gender': 2, 'id': 35070, 'k...</td>\n",
       "      <td>2021</td>\n",
       "    </tr>\n",
       "    <tr>\n",
       "      <th>2</th>\n",
       "      <td>864692</td>\n",
       "      <td>hi</td>\n",
       "      <td>A soldier caught by enemies and presumed dead ...</td>\n",
       "      <td>47.611</td>\n",
       "      <td>Pathaan</td>\n",
       "      <td>6.7</td>\n",
       "      <td>70</td>\n",
       "      <td>[{'id': 28, 'name': 'Action'}, {'id': 12, 'nam...</td>\n",
       "      <td>['spy', 'fake death', 'spy thriller', 'spy uni...</td>\n",
       "      <td>[{'adult': False, 'gender': 2, 'id': 35742, 'k...</td>\n",
       "      <td>[{'adult': False, 'gender': 2, 'id': 35771, 'k...</td>\n",
       "      <td>2023</td>\n",
       "    </tr>\n",
       "    <tr>\n",
       "      <th>3</th>\n",
       "      <td>1018228</td>\n",
       "      <td>hi</td>\n",
       "      <td>A flight attendant and her boyfriend must stea...</td>\n",
       "      <td>43.789</td>\n",
       "      <td>Chor Nikal Ke Bhaga</td>\n",
       "      <td>7.2</td>\n",
       "      <td>55</td>\n",
       "      <td>[{'id': 80, 'name': 'Crime'}, {'id': 53, 'name...</td>\n",
       "      <td>['heist', 'airplane hijacking']</td>\n",
       "      <td>[{'adult': False, 'gender': 1, 'id': 1115720, ...</td>\n",
       "      <td>[{'adult': False, 'gender': 2, 'id': 102246, '...</td>\n",
       "      <td>2023</td>\n",
       "    </tr>\n",
       "    <tr>\n",
       "      <th>4</th>\n",
       "      <td>20453</td>\n",
       "      <td>hi</td>\n",
       "      <td>Rascal. Joker. Dreamer. Genius... You've never...</td>\n",
       "      <td>37.260</td>\n",
       "      <td>3 Idiots</td>\n",
       "      <td>8.0</td>\n",
       "      <td>2052</td>\n",
       "      <td>[{'id': 18, 'name': 'Drama'}, {'id': 35, 'name...</td>\n",
       "      <td>['suicide', 'suicide attempt', 'college', 'mus...</td>\n",
       "      <td>[{'adult': False, 'gender': 2, 'id': 52763, 'k...</td>\n",
       "      <td>[{'adult': False, 'gender': 2, 'id': 35779, 'k...</td>\n",
       "      <td>2009</td>\n",
       "    </tr>\n",
       "  </tbody>\n",
       "</table>\n",
       "</div>"
      ],
      "text/plain": [
       "   movie_id original_language  \\\n",
       "0    783461                hi   \n",
       "1    592508                hi   \n",
       "2    864692                hi   \n",
       "3   1018228                hi   \n",
       "4     20453                hi   \n",
       "\n",
       "                                            overview  popularity  \\\n",
       "0  When her boyfriend loses a mobster's cash, Sav...      56.311   \n",
       "1  A fearless, faithful albeit slightly forgetful...      45.077   \n",
       "2  A soldier caught by enemies and presumed dead ...      47.611   \n",
       "3  A flight attendant and her boyfriend must stea...      43.789   \n",
       "4  Rascal. Joker. Dreamer. Genius... You've never...      37.260   \n",
       "\n",
       "                 title  vote_average  vote_count  \\\n",
       "0         Looop Lapeta           6.2          54   \n",
       "1         Sooryavanshi           5.8         133   \n",
       "2              Pathaan           6.7          70   \n",
       "3  Chor Nikal Ke Bhaga           7.2          55   \n",
       "4             3 Idiots           8.0        2052   \n",
       "\n",
       "                                              genres  \\\n",
       "0  [{'id': 28, 'name': 'Action'}, {'id': 35, 'nam...   \n",
       "1  [{'id': 28, 'name': 'Action'}, {'id': 80, 'nam...   \n",
       "2  [{'id': 28, 'name': 'Action'}, {'id': 12, 'nam...   \n",
       "3  [{'id': 80, 'name': 'Crime'}, {'id': 53, 'name...   \n",
       "4  [{'id': 18, 'name': 'Drama'}, {'id': 35, 'name...   \n",
       "\n",
       "                                            keywords  \\\n",
       "0          ['remake', 'looop lapeta', 'saade saati']   \n",
       "1  ['police', 'sequel', 'police officer', 'cop un...   \n",
       "2  ['spy', 'fake death', 'spy thriller', 'spy uni...   \n",
       "3                    ['heist', 'airplane hijacking']   \n",
       "4  ['suicide', 'suicide attempt', 'college', 'mus...   \n",
       "\n",
       "                                                cast  \\\n",
       "0  [{'adult': False, 'gender': 1, 'id': 550167, '...   \n",
       "1  [{'adult': False, 'gender': 2, 'id': 35070, 'k...   \n",
       "2  [{'adult': False, 'gender': 2, 'id': 35742, 'k...   \n",
       "3  [{'adult': False, 'gender': 1, 'id': 1115720, ...   \n",
       "4  [{'adult': False, 'gender': 2, 'id': 52763, 'k...   \n",
       "\n",
       "                                                crew release_year  \n",
       "0  [{'adult': False, 'gender': 2, 'id': 1071, 'kn...         2022  \n",
       "1  [{'adult': False, 'gender': 2, 'id': 35070, 'k...         2021  \n",
       "2  [{'adult': False, 'gender': 2, 'id': 35771, 'k...         2023  \n",
       "3  [{'adult': False, 'gender': 2, 'id': 102246, '...         2023  \n",
       "4  [{'adult': False, 'gender': 2, 'id': 35779, 'k...         2009  "
      ]
     },
     "execution_count": 28,
     "metadata": {},
     "output_type": "execute_result"
    }
   ],
   "source": [
    "df.head()"
   ]
  },
  {
   "cell_type": "code",
   "execution_count": 29,
   "id": "67568775",
   "metadata": {
    "execution": {
     "iopub.execute_input": "2023-06-21T13:15:16.739434Z",
     "iopub.status.busy": "2023-06-21T13:15:16.739081Z",
     "iopub.status.idle": "2023-06-21T13:15:16.745426Z",
     "shell.execute_reply": "2023-06-21T13:15:16.744781Z"
    },
    "papermill": {
     "duration": 0.025175,
     "end_time": "2023-06-21T13:15:16.747399",
     "exception": false,
     "start_time": "2023-06-21T13:15:16.722224",
     "status": "completed"
    },
    "tags": []
   },
   "outputs": [
    {
     "data": {
      "text/plain": [
       "[{'id': 28, 'name': 'Action'},\n",
       " {'id': 35, 'name': 'Comedy'},\n",
       " {'id': 80, 'name': 'Crime'}]"
      ]
     },
     "execution_count": 29,
     "metadata": {},
     "output_type": "execute_result"
    }
   ],
   "source": [
    "df[\"genres\"].iloc[0]\n",
    "\n",
    "type(df[\"genres\"].iloc[0])\n",
    "eval(df[\"genres\"].iloc[0])"
   ]
  },
  {
   "cell_type": "code",
   "execution_count": 30,
   "id": "645d67b0",
   "metadata": {
    "execution": {
     "iopub.execute_input": "2023-06-21T13:15:16.780437Z",
     "iopub.status.busy": "2023-06-21T13:15:16.780062Z",
     "iopub.status.idle": "2023-06-21T13:15:16.785000Z",
     "shell.execute_reply": "2023-06-21T13:15:16.784015Z"
    },
    "papermill": {
     "duration": 0.023943,
     "end_time": "2023-06-21T13:15:16.786920",
     "exception": false,
     "start_time": "2023-06-21T13:15:16.762977",
     "status": "completed"
    },
    "tags": []
   },
   "outputs": [],
   "source": [
    "def extract_genre(genre):\n",
    "    genre = eval(genre)\n",
    "    genres = []\n",
    "    for i in genre:\n",
    "        genres.append(i[\"name\"])\n",
    "    return genres"
   ]
  },
  {
   "cell_type": "code",
   "execution_count": 31,
   "id": "29fecb6e",
   "metadata": {
    "execution": {
     "iopub.execute_input": "2023-06-21T13:15:16.819421Z",
     "iopub.status.busy": "2023-06-21T13:15:16.819052Z",
     "iopub.status.idle": "2023-06-21T13:15:17.218396Z",
     "shell.execute_reply": "2023-06-21T13:15:17.217093Z"
    },
    "papermill": {
     "duration": 0.418741,
     "end_time": "2023-06-21T13:15:17.221122",
     "exception": false,
     "start_time": "2023-06-21T13:15:16.802381",
     "status": "completed"
    },
    "tags": []
   },
   "outputs": [],
   "source": [
    "df[\"genres\"] = df[\"genres\"].apply(extract_genre)"
   ]
  },
  {
   "cell_type": "code",
   "execution_count": 32,
   "id": "30c7fba2",
   "metadata": {
    "execution": {
     "iopub.execute_input": "2023-06-21T13:15:17.254621Z",
     "iopub.status.busy": "2023-06-21T13:15:17.254194Z",
     "iopub.status.idle": "2023-06-21T13:15:17.274019Z",
     "shell.execute_reply": "2023-06-21T13:15:17.272861Z"
    },
    "papermill": {
     "duration": 0.039474,
     "end_time": "2023-06-21T13:15:17.276716",
     "exception": false,
     "start_time": "2023-06-21T13:15:17.237242",
     "status": "completed"
    },
    "tags": []
   },
   "outputs": [
    {
     "data": {
      "text/html": [
       "<div>\n",
       "<style scoped>\n",
       "    .dataframe tbody tr th:only-of-type {\n",
       "        vertical-align: middle;\n",
       "    }\n",
       "\n",
       "    .dataframe tbody tr th {\n",
       "        vertical-align: top;\n",
       "    }\n",
       "\n",
       "    .dataframe thead th {\n",
       "        text-align: right;\n",
       "    }\n",
       "</style>\n",
       "<table border=\"1\" class=\"dataframe\">\n",
       "  <thead>\n",
       "    <tr style=\"text-align: right;\">\n",
       "      <th></th>\n",
       "      <th>movie_id</th>\n",
       "      <th>original_language</th>\n",
       "      <th>overview</th>\n",
       "      <th>popularity</th>\n",
       "      <th>title</th>\n",
       "      <th>vote_average</th>\n",
       "      <th>vote_count</th>\n",
       "      <th>genres</th>\n",
       "      <th>keywords</th>\n",
       "      <th>cast</th>\n",
       "      <th>crew</th>\n",
       "      <th>release_year</th>\n",
       "    </tr>\n",
       "  </thead>\n",
       "  <tbody>\n",
       "    <tr>\n",
       "      <th>0</th>\n",
       "      <td>783461</td>\n",
       "      <td>hi</td>\n",
       "      <td>When her boyfriend loses a mobster's cash, Sav...</td>\n",
       "      <td>56.311</td>\n",
       "      <td>Looop Lapeta</td>\n",
       "      <td>6.2</td>\n",
       "      <td>54</td>\n",
       "      <td>[Action, Comedy, Crime]</td>\n",
       "      <td>['remake', 'looop lapeta', 'saade saati']</td>\n",
       "      <td>[{'adult': False, 'gender': 1, 'id': 550167, '...</td>\n",
       "      <td>[{'adult': False, 'gender': 2, 'id': 1071, 'kn...</td>\n",
       "      <td>2022</td>\n",
       "    </tr>\n",
       "    <tr>\n",
       "      <th>1</th>\n",
       "      <td>592508</td>\n",
       "      <td>hi</td>\n",
       "      <td>A fearless, faithful albeit slightly forgetful...</td>\n",
       "      <td>45.077</td>\n",
       "      <td>Sooryavanshi</td>\n",
       "      <td>5.8</td>\n",
       "      <td>133</td>\n",
       "      <td>[Action, Crime, Thriller]</td>\n",
       "      <td>['police', 'sequel', 'police officer', 'cop un...</td>\n",
       "      <td>[{'adult': False, 'gender': 2, 'id': 35070, 'k...</td>\n",
       "      <td>[{'adult': False, 'gender': 2, 'id': 35070, 'k...</td>\n",
       "      <td>2021</td>\n",
       "    </tr>\n",
       "    <tr>\n",
       "      <th>2</th>\n",
       "      <td>864692</td>\n",
       "      <td>hi</td>\n",
       "      <td>A soldier caught by enemies and presumed dead ...</td>\n",
       "      <td>47.611</td>\n",
       "      <td>Pathaan</td>\n",
       "      <td>6.7</td>\n",
       "      <td>70</td>\n",
       "      <td>[Action, Adventure, Thriller]</td>\n",
       "      <td>['spy', 'fake death', 'spy thriller', 'spy uni...</td>\n",
       "      <td>[{'adult': False, 'gender': 2, 'id': 35742, 'k...</td>\n",
       "      <td>[{'adult': False, 'gender': 2, 'id': 35771, 'k...</td>\n",
       "      <td>2023</td>\n",
       "    </tr>\n",
       "    <tr>\n",
       "      <th>3</th>\n",
       "      <td>1018228</td>\n",
       "      <td>hi</td>\n",
       "      <td>A flight attendant and her boyfriend must stea...</td>\n",
       "      <td>43.789</td>\n",
       "      <td>Chor Nikal Ke Bhaga</td>\n",
       "      <td>7.2</td>\n",
       "      <td>55</td>\n",
       "      <td>[Crime, Thriller]</td>\n",
       "      <td>['heist', 'airplane hijacking']</td>\n",
       "      <td>[{'adult': False, 'gender': 1, 'id': 1115720, ...</td>\n",
       "      <td>[{'adult': False, 'gender': 2, 'id': 102246, '...</td>\n",
       "      <td>2023</td>\n",
       "    </tr>\n",
       "    <tr>\n",
       "      <th>4</th>\n",
       "      <td>20453</td>\n",
       "      <td>hi</td>\n",
       "      <td>Rascal. Joker. Dreamer. Genius... You've never...</td>\n",
       "      <td>37.260</td>\n",
       "      <td>3 Idiots</td>\n",
       "      <td>8.0</td>\n",
       "      <td>2052</td>\n",
       "      <td>[Drama, Comedy]</td>\n",
       "      <td>['suicide', 'suicide attempt', 'college', 'mus...</td>\n",
       "      <td>[{'adult': False, 'gender': 2, 'id': 52763, 'k...</td>\n",
       "      <td>[{'adult': False, 'gender': 2, 'id': 35779, 'k...</td>\n",
       "      <td>2009</td>\n",
       "    </tr>\n",
       "  </tbody>\n",
       "</table>\n",
       "</div>"
      ],
      "text/plain": [
       "   movie_id original_language  \\\n",
       "0    783461                hi   \n",
       "1    592508                hi   \n",
       "2    864692                hi   \n",
       "3   1018228                hi   \n",
       "4     20453                hi   \n",
       "\n",
       "                                            overview  popularity  \\\n",
       "0  When her boyfriend loses a mobster's cash, Sav...      56.311   \n",
       "1  A fearless, faithful albeit slightly forgetful...      45.077   \n",
       "2  A soldier caught by enemies and presumed dead ...      47.611   \n",
       "3  A flight attendant and her boyfriend must stea...      43.789   \n",
       "4  Rascal. Joker. Dreamer. Genius... You've never...      37.260   \n",
       "\n",
       "                 title  vote_average  vote_count  \\\n",
       "0         Looop Lapeta           6.2          54   \n",
       "1         Sooryavanshi           5.8         133   \n",
       "2              Pathaan           6.7          70   \n",
       "3  Chor Nikal Ke Bhaga           7.2          55   \n",
       "4             3 Idiots           8.0        2052   \n",
       "\n",
       "                          genres  \\\n",
       "0        [Action, Comedy, Crime]   \n",
       "1      [Action, Crime, Thriller]   \n",
       "2  [Action, Adventure, Thriller]   \n",
       "3              [Crime, Thriller]   \n",
       "4                [Drama, Comedy]   \n",
       "\n",
       "                                            keywords  \\\n",
       "0          ['remake', 'looop lapeta', 'saade saati']   \n",
       "1  ['police', 'sequel', 'police officer', 'cop un...   \n",
       "2  ['spy', 'fake death', 'spy thriller', 'spy uni...   \n",
       "3                    ['heist', 'airplane hijacking']   \n",
       "4  ['suicide', 'suicide attempt', 'college', 'mus...   \n",
       "\n",
       "                                                cast  \\\n",
       "0  [{'adult': False, 'gender': 1, 'id': 550167, '...   \n",
       "1  [{'adult': False, 'gender': 2, 'id': 35070, 'k...   \n",
       "2  [{'adult': False, 'gender': 2, 'id': 35742, 'k...   \n",
       "3  [{'adult': False, 'gender': 1, 'id': 1115720, ...   \n",
       "4  [{'adult': False, 'gender': 2, 'id': 52763, 'k...   \n",
       "\n",
       "                                                crew release_year  \n",
       "0  [{'adult': False, 'gender': 2, 'id': 1071, 'kn...         2022  \n",
       "1  [{'adult': False, 'gender': 2, 'id': 35070, 'k...         2021  \n",
       "2  [{'adult': False, 'gender': 2, 'id': 35771, 'k...         2023  \n",
       "3  [{'adult': False, 'gender': 2, 'id': 102246, '...         2023  \n",
       "4  [{'adult': False, 'gender': 2, 'id': 35779, 'k...         2009  "
      ]
     },
     "execution_count": 32,
     "metadata": {},
     "output_type": "execute_result"
    }
   ],
   "source": [
    "df.head()"
   ]
  },
  {
   "cell_type": "code",
   "execution_count": 33,
   "id": "07687f70",
   "metadata": {
    "execution": {
     "iopub.execute_input": "2023-06-21T13:15:17.311121Z",
     "iopub.status.busy": "2023-06-21T13:15:17.310055Z",
     "iopub.status.idle": "2023-06-21T13:15:17.316918Z",
     "shell.execute_reply": "2023-06-21T13:15:17.316172Z"
    },
    "papermill": {
     "duration": 0.026167,
     "end_time": "2023-06-21T13:15:17.318945",
     "exception": false,
     "start_time": "2023-06-21T13:15:17.292778",
     "status": "completed"
    },
    "tags": []
   },
   "outputs": [
    {
     "data": {
      "text/plain": [
       "\"[{'adult': False, 'gender': 1, 'id': 550167, 'known_for_department': 'Acting', 'name': 'Taapsee Pannu', 'original_name': 'Taapsee Pannu', 'popularity': 6.156, 'profile_path': '/u9Gwg3J0bdczTPunP8qoWK2Vhu4.jpg', 'cast_id': 1, 'character': 'Savi', 'credit_id': '5ff5b30128723c0040af9605', 'order': 0}, {'adult': False, 'gender': 2, 'id': 1714229, 'known_for_department': 'Acting', 'name': 'Tahir Raj Bhasin', 'original_name': 'Tahir Raj Bhasin', 'popularity': 2.203, 'profile_path': '/A4ylMYWj8IqnmX74Two8c4Lp8jY.jpg', 'cast_id': 3, 'character': 'Satya', 'credit_id': '5ff5b31dd38b580043cb4047', 'order': 1}, {'adult': False, 'gender': 1, 'id': 2092738, 'known_for_department': 'Acting', 'name': 'Shreya Dhanwanthary', 'original_name': 'Shreya Dhanwanthary', 'popularity': 8.802, 'profile_path': '/dSWHYuEWjPzczAzdLFgYHt3Y5Dd.jpg', 'cast_id': 15, 'character': 'Julia', 'credit_id': '6136133e2cde980089dc0082', 'order': 2}, {'adult': False, 'gender': 2, 'id': 101823, 'known_for_department': 'Acting', 'name': 'Dibyendu Bhattacharya', 'original_name': 'Dibyendu Bhattacharya', 'popularity': 6.209, 'profile_path': '/uLlGKCL9y5CFBwcAafTDQhupz5h.jpg', 'cast_id': 22, 'character': 'Victor', 'credit_id': '61d91fac33a53300415c3d18', 'order': 3}, {'adult': False, 'gender': 0, 'id': 1252843, 'known_for_department': 'Acting', 'name': 'Rajendra Chawla', 'original_name': 'Rajendra Chawla', 'popularity': 1.108, 'profile_path': '/rwldmP0tneEflAVgOaQsYmvTZju.jpg', 'cast_id': 21, 'character': 'Mamlesh Charan Chaddha', 'credit_id': '61d91fa2a6fdaa009333e436', 'order': 4}, {'adult': False, 'gender': 2, 'id': 2365591, 'known_for_department': 'Acting', 'name': 'K.C. Shankar', 'original_name': 'K.C. Shankar', 'popularity': 2.075, 'profile_path': '/fbxJMM6YZGl3OLHhnqISzPjbSpB.jpg', 'cast_id': 23, 'character': 'Atul Borkar', 'credit_id': '61d91fb833a53300415c3d36', 'order': 5}, {'adult': False, 'gender': 2, 'id': 1927085, 'known_for_department': 'Directing', 'name': 'Suresh Triveni', 'original_name': 'Suresh Triveni', 'popularity': 0.98, 'profile_path': None, 'cast_id': 34, 'character': 'Gangster Pedro', 'credit_id': '61e2f1d4ffd44d006bd2b773', 'order': 6}, {'adult': False, 'gender': 2, 'id': 2967857, 'known_for_department': 'Acting', 'name': 'Manik Papneja', 'original_name': 'Manik Papneja', 'popularity': 1.177, 'profile_path': '/bjVqyExEk5n1qHLuOnbR8UbPLpY.jpg', 'cast_id': 24, 'character': 'Appu', 'credit_id': '61d91fc9293835009569944f', 'order': 7}, {'adult': False, 'gender': 2, 'id': 2400790, 'known_for_department': 'Acting', 'name': 'Raghav Raj Kakker', 'original_name': 'Raghav Raj Kakker', 'popularity': 1.22, 'profile_path': '/p4TqLqcbyZWryGGDJjMaYL89CfU.jpg', 'cast_id': 25, 'character': 'Gappu', 'credit_id': '61d91fe09824c8004140a205', 'order': 8}, {'adult': False, 'gender': 2, 'id': 1951414, 'known_for_department': 'Acting', 'name': 'Sameer Kevin Roy', 'original_name': 'Sameer Kevin Roy', 'popularity': 1.38, 'profile_path': None, 'cast_id': 26, 'character': 'Jacob', 'credit_id': '61d91fea5ed8e9001d41c9e2', 'order': 9}, {'adult': False, 'gender': 2, 'id': 3373394, 'known_for_department': 'Acting', 'name': 'Bhupesh Bandekar', 'original_name': 'Bhupesh Bandekar', 'popularity': 0.98, 'profile_path': None, 'cast_id': 27, 'character': 'Inspector David Colaco', 'credit_id': '61d91ff70e5aba0042ffb116', 'order': 10}, {'adult': False, 'gender': 2, 'id': 3412117, 'known_for_department': 'Acting', 'name': 'Alistar Bennis', 'original_name': 'Alistar Bennis', 'popularity': 0.98, 'profile_path': None, 'cast_id': 49, 'character': 'Robert', 'credit_id': '61fce7ee1e259a0113e2778e', 'order': 11}, {'adult': False, 'gender': 2, 'id': 3412118, 'known_for_department': 'Acting', 'name': 'Varun Pande', 'original_name': 'Varun Pande', 'popularity': 0.6, 'profile_path': None, 'cast_id': 50, 'character': 'Yash', 'credit_id': '61fce7fadfaae9009c588c3f', 'order': 12}, {'adult': False, 'gender': 0, 'id': 3412128, 'known_for_department': 'Acting', 'name': 'Babajaan Devaraya', 'original_name': 'Babajaan Devaraya', 'popularity': 0.6, 'profile_path': None, 'cast_id': 60, 'character': 'Rastafarian', 'credit_id': '61fcea25eee18600cd3e95d0', 'order': 13}, {'adult': False, 'gender': 0, 'id': 3412129, 'known_for_department': 'Acting', 'name': 'Guia Bianchi', 'original_name': 'Guia Bianchi', 'popularity': 0.6, 'profile_path': None, 'cast_id': 61, 'character': 'Lola', 'credit_id': '61fcea3d7a97ab00732bb9e9', 'order': 14}, {'adult': False, 'gender': 1, 'id': 3565643, 'known_for_department': 'Acting', 'name': 'Priya Paramita Paul', 'original_name': 'Priya Paramita Paul', 'popularity': 0.6, 'profile_path': '/zTRyZGrYPMEWXXCw2NBGzupvAqL.jpg', 'cast_id': 62, 'character': 'zoya', 'credit_id': '62906bf3a24232009b59114b', 'order': 15}]\""
      ]
     },
     "execution_count": 33,
     "metadata": {},
     "output_type": "execute_result"
    }
   ],
   "source": [
    "df[\"cast\"].iloc[0]"
   ]
  },
  {
   "cell_type": "code",
   "execution_count": 34,
   "id": "0e3bfaf6",
   "metadata": {
    "execution": {
     "iopub.execute_input": "2023-06-21T13:15:17.353213Z",
     "iopub.status.busy": "2023-06-21T13:15:17.352236Z",
     "iopub.status.idle": "2023-06-21T13:15:17.357277Z",
     "shell.execute_reply": "2023-06-21T13:15:17.356467Z"
    },
    "papermill": {
     "duration": 0.024203,
     "end_time": "2023-06-21T13:15:17.359191",
     "exception": false,
     "start_time": "2023-06-21T13:15:17.334988",
     "status": "completed"
    },
    "tags": []
   },
   "outputs": [],
   "source": [
    "def get_actor_name(cast):\n",
    "    cast = eval(cast)\n",
    "    actors = []\n",
    "    for i in cast:\n",
    "        actors.append(i[\"name\"])\n",
    "    return actors"
   ]
  },
  {
   "cell_type": "code",
   "execution_count": 35,
   "id": "bb192089",
   "metadata": {
    "execution": {
     "iopub.execute_input": "2023-06-21T13:15:17.392407Z",
     "iopub.status.busy": "2023-06-21T13:15:17.392026Z",
     "iopub.status.idle": "2023-06-21T13:15:33.508266Z",
     "shell.execute_reply": "2023-06-21T13:15:33.506941Z"
    },
    "papermill": {
     "duration": 16.136103,
     "end_time": "2023-06-21T13:15:33.511178",
     "exception": false,
     "start_time": "2023-06-21T13:15:17.375075",
     "status": "completed"
    },
    "tags": []
   },
   "outputs": [],
   "source": [
    "df[\"cast\"] = df[\"cast\"].apply(get_actor_name)"
   ]
  },
  {
   "cell_type": "code",
   "execution_count": 36,
   "id": "f162a9a3",
   "metadata": {
    "execution": {
     "iopub.execute_input": "2023-06-21T13:15:33.544844Z",
     "iopub.status.busy": "2023-06-21T13:15:33.544441Z",
     "iopub.status.idle": "2023-06-21T13:15:33.564857Z",
     "shell.execute_reply": "2023-06-21T13:15:33.563862Z"
    },
    "papermill": {
     "duration": 0.039896,
     "end_time": "2023-06-21T13:15:33.567135",
     "exception": false,
     "start_time": "2023-06-21T13:15:33.527239",
     "status": "completed"
    },
    "tags": []
   },
   "outputs": [
    {
     "data": {
      "text/html": [
       "<div>\n",
       "<style scoped>\n",
       "    .dataframe tbody tr th:only-of-type {\n",
       "        vertical-align: middle;\n",
       "    }\n",
       "\n",
       "    .dataframe tbody tr th {\n",
       "        vertical-align: top;\n",
       "    }\n",
       "\n",
       "    .dataframe thead th {\n",
       "        text-align: right;\n",
       "    }\n",
       "</style>\n",
       "<table border=\"1\" class=\"dataframe\">\n",
       "  <thead>\n",
       "    <tr style=\"text-align: right;\">\n",
       "      <th></th>\n",
       "      <th>movie_id</th>\n",
       "      <th>original_language</th>\n",
       "      <th>overview</th>\n",
       "      <th>popularity</th>\n",
       "      <th>title</th>\n",
       "      <th>vote_average</th>\n",
       "      <th>vote_count</th>\n",
       "      <th>genres</th>\n",
       "      <th>keywords</th>\n",
       "      <th>cast</th>\n",
       "      <th>crew</th>\n",
       "      <th>release_year</th>\n",
       "    </tr>\n",
       "  </thead>\n",
       "  <tbody>\n",
       "    <tr>\n",
       "      <th>0</th>\n",
       "      <td>783461</td>\n",
       "      <td>hi</td>\n",
       "      <td>When her boyfriend loses a mobster's cash, Sav...</td>\n",
       "      <td>56.311</td>\n",
       "      <td>Looop Lapeta</td>\n",
       "      <td>6.2</td>\n",
       "      <td>54</td>\n",
       "      <td>[Action, Comedy, Crime]</td>\n",
       "      <td>['remake', 'looop lapeta', 'saade saati']</td>\n",
       "      <td>[Taapsee Pannu, Tahir Raj Bhasin, Shreya Dhanw...</td>\n",
       "      <td>[{'adult': False, 'gender': 2, 'id': 1071, 'kn...</td>\n",
       "      <td>2022</td>\n",
       "    </tr>\n",
       "    <tr>\n",
       "      <th>1</th>\n",
       "      <td>592508</td>\n",
       "      <td>hi</td>\n",
       "      <td>A fearless, faithful albeit slightly forgetful...</td>\n",
       "      <td>45.077</td>\n",
       "      <td>Sooryavanshi</td>\n",
       "      <td>5.8</td>\n",
       "      <td>133</td>\n",
       "      <td>[Action, Crime, Thriller]</td>\n",
       "      <td>['police', 'sequel', 'police officer', 'cop un...</td>\n",
       "      <td>[Akshay Kumar, Katrina Kaif, Ajay Devgn, Ranve...</td>\n",
       "      <td>[{'adult': False, 'gender': 2, 'id': 35070, 'k...</td>\n",
       "      <td>2021</td>\n",
       "    </tr>\n",
       "    <tr>\n",
       "      <th>2</th>\n",
       "      <td>864692</td>\n",
       "      <td>hi</td>\n",
       "      <td>A soldier caught by enemies and presumed dead ...</td>\n",
       "      <td>47.611</td>\n",
       "      <td>Pathaan</td>\n",
       "      <td>6.7</td>\n",
       "      <td>70</td>\n",
       "      <td>[Action, Adventure, Thriller]</td>\n",
       "      <td>['spy', 'fake death', 'spy thriller', 'spy uni...</td>\n",
       "      <td>[Shah Rukh Khan, Deepika Padukone, John Abraha...</td>\n",
       "      <td>[{'adult': False, 'gender': 2, 'id': 35771, 'k...</td>\n",
       "      <td>2023</td>\n",
       "    </tr>\n",
       "    <tr>\n",
       "      <th>3</th>\n",
       "      <td>1018228</td>\n",
       "      <td>hi</td>\n",
       "      <td>A flight attendant and her boyfriend must stea...</td>\n",
       "      <td>43.789</td>\n",
       "      <td>Chor Nikal Ke Bhaga</td>\n",
       "      <td>7.2</td>\n",
       "      <td>55</td>\n",
       "      <td>[Crime, Thriller]</td>\n",
       "      <td>['heist', 'airplane hijacking']</td>\n",
       "      <td>[Yami Gautam, Sunny Kaushal, Sharad Kelkar, In...</td>\n",
       "      <td>[{'adult': False, 'gender': 2, 'id': 102246, '...</td>\n",
       "      <td>2023</td>\n",
       "    </tr>\n",
       "    <tr>\n",
       "      <th>4</th>\n",
       "      <td>20453</td>\n",
       "      <td>hi</td>\n",
       "      <td>Rascal. Joker. Dreamer. Genius... You've never...</td>\n",
       "      <td>37.260</td>\n",
       "      <td>3 Idiots</td>\n",
       "      <td>8.0</td>\n",
       "      <td>2052</td>\n",
       "      <td>[Drama, Comedy]</td>\n",
       "      <td>['suicide', 'suicide attempt', 'college', 'mus...</td>\n",
       "      <td>[Aamir Khan, R. Madhavan, Sharman Joshi, Karee...</td>\n",
       "      <td>[{'adult': False, 'gender': 2, 'id': 35779, 'k...</td>\n",
       "      <td>2009</td>\n",
       "    </tr>\n",
       "  </tbody>\n",
       "</table>\n",
       "</div>"
      ],
      "text/plain": [
       "   movie_id original_language  \\\n",
       "0    783461                hi   \n",
       "1    592508                hi   \n",
       "2    864692                hi   \n",
       "3   1018228                hi   \n",
       "4     20453                hi   \n",
       "\n",
       "                                            overview  popularity  \\\n",
       "0  When her boyfriend loses a mobster's cash, Sav...      56.311   \n",
       "1  A fearless, faithful albeit slightly forgetful...      45.077   \n",
       "2  A soldier caught by enemies and presumed dead ...      47.611   \n",
       "3  A flight attendant and her boyfriend must stea...      43.789   \n",
       "4  Rascal. Joker. Dreamer. Genius... You've never...      37.260   \n",
       "\n",
       "                 title  vote_average  vote_count  \\\n",
       "0         Looop Lapeta           6.2          54   \n",
       "1         Sooryavanshi           5.8         133   \n",
       "2              Pathaan           6.7          70   \n",
       "3  Chor Nikal Ke Bhaga           7.2          55   \n",
       "4             3 Idiots           8.0        2052   \n",
       "\n",
       "                          genres  \\\n",
       "0        [Action, Comedy, Crime]   \n",
       "1      [Action, Crime, Thriller]   \n",
       "2  [Action, Adventure, Thriller]   \n",
       "3              [Crime, Thriller]   \n",
       "4                [Drama, Comedy]   \n",
       "\n",
       "                                            keywords  \\\n",
       "0          ['remake', 'looop lapeta', 'saade saati']   \n",
       "1  ['police', 'sequel', 'police officer', 'cop un...   \n",
       "2  ['spy', 'fake death', 'spy thriller', 'spy uni...   \n",
       "3                    ['heist', 'airplane hijacking']   \n",
       "4  ['suicide', 'suicide attempt', 'college', 'mus...   \n",
       "\n",
       "                                                cast  \\\n",
       "0  [Taapsee Pannu, Tahir Raj Bhasin, Shreya Dhanw...   \n",
       "1  [Akshay Kumar, Katrina Kaif, Ajay Devgn, Ranve...   \n",
       "2  [Shah Rukh Khan, Deepika Padukone, John Abraha...   \n",
       "3  [Yami Gautam, Sunny Kaushal, Sharad Kelkar, In...   \n",
       "4  [Aamir Khan, R. Madhavan, Sharman Joshi, Karee...   \n",
       "\n",
       "                                                crew release_year  \n",
       "0  [{'adult': False, 'gender': 2, 'id': 1071, 'kn...         2022  \n",
       "1  [{'adult': False, 'gender': 2, 'id': 35070, 'k...         2021  \n",
       "2  [{'adult': False, 'gender': 2, 'id': 35771, 'k...         2023  \n",
       "3  [{'adult': False, 'gender': 2, 'id': 102246, '...         2023  \n",
       "4  [{'adult': False, 'gender': 2, 'id': 35779, 'k...         2009  "
      ]
     },
     "execution_count": 36,
     "metadata": {},
     "output_type": "execute_result"
    }
   ],
   "source": [
    "df.head()"
   ]
  },
  {
   "cell_type": "code",
   "execution_count": 37,
   "id": "7422aef5",
   "metadata": {
    "execution": {
     "iopub.execute_input": "2023-06-21T13:15:33.602279Z",
     "iopub.status.busy": "2023-06-21T13:15:33.601881Z",
     "iopub.status.idle": "2023-06-21T13:15:33.607741Z",
     "shell.execute_reply": "2023-06-21T13:15:33.606614Z"
    },
    "papermill": {
     "duration": 0.026075,
     "end_time": "2023-06-21T13:15:33.609966",
     "exception": false,
     "start_time": "2023-06-21T13:15:33.583891",
     "status": "completed"
    },
    "tags": []
   },
   "outputs": [
    {
     "name": "stdout",
     "output_type": "stream",
     "text": [
      "<class 'str'>\n"
     ]
    }
   ],
   "source": [
    "print(type(df[\"release_year\"].iloc[0]))"
   ]
  },
  {
   "cell_type": "code",
   "execution_count": 38,
   "id": "06a90d52",
   "metadata": {
    "execution": {
     "iopub.execute_input": "2023-06-21T13:15:33.645091Z",
     "iopub.status.busy": "2023-06-21T13:15:33.644201Z",
     "iopub.status.idle": "2023-06-21T13:15:33.650335Z",
     "shell.execute_reply": "2023-06-21T13:15:33.649318Z"
    },
    "papermill": {
     "duration": 0.025692,
     "end_time": "2023-06-21T13:15:33.652361",
     "exception": false,
     "start_time": "2023-06-21T13:15:33.626669",
     "status": "completed"
    },
    "tags": []
   },
   "outputs": [
    {
     "data": {
      "text/plain": [
       "Index(['movie_id', 'original_language', 'overview', 'popularity', 'title',\n",
       "       'vote_average', 'vote_count', 'genres', 'keywords', 'cast', 'crew',\n",
       "       'release_year'],\n",
       "      dtype='object')"
      ]
     },
     "execution_count": 38,
     "metadata": {},
     "output_type": "execute_result"
    }
   ],
   "source": [
    "df.columns"
   ]
  },
  {
   "cell_type": "code",
   "execution_count": 39,
   "id": "960d6298",
   "metadata": {
    "execution": {
     "iopub.execute_input": "2023-06-21T13:15:33.686739Z",
     "iopub.status.busy": "2023-06-21T13:15:33.686317Z",
     "iopub.status.idle": "2023-06-21T13:15:33.698673Z",
     "shell.execute_reply": "2023-06-21T13:15:33.697554Z"
    },
    "papermill": {
     "duration": 0.032013,
     "end_time": "2023-06-21T13:15:33.700671",
     "exception": false,
     "start_time": "2023-06-21T13:15:33.668658",
     "status": "completed"
    },
    "tags": []
   },
   "outputs": [],
   "source": [
    "cbf_extended = df[[\"original_language\", \"overview\", \"title\", \"genres\", \"cast\", \"release_year\"]]"
   ]
  },
  {
   "cell_type": "code",
   "execution_count": 40,
   "id": "3a0ec74c",
   "metadata": {
    "execution": {
     "iopub.execute_input": "2023-06-21T13:15:33.735107Z",
     "iopub.status.busy": "2023-06-21T13:15:33.734605Z",
     "iopub.status.idle": "2023-06-21T13:15:33.751714Z",
     "shell.execute_reply": "2023-06-21T13:15:33.750594Z"
    },
    "papermill": {
     "duration": 0.036685,
     "end_time": "2023-06-21T13:15:33.753809",
     "exception": false,
     "start_time": "2023-06-21T13:15:33.717124",
     "status": "completed"
    },
    "tags": []
   },
   "outputs": [
    {
     "data": {
      "text/html": [
       "<div>\n",
       "<style scoped>\n",
       "    .dataframe tbody tr th:only-of-type {\n",
       "        vertical-align: middle;\n",
       "    }\n",
       "\n",
       "    .dataframe tbody tr th {\n",
       "        vertical-align: top;\n",
       "    }\n",
       "\n",
       "    .dataframe thead th {\n",
       "        text-align: right;\n",
       "    }\n",
       "</style>\n",
       "<table border=\"1\" class=\"dataframe\">\n",
       "  <thead>\n",
       "    <tr style=\"text-align: right;\">\n",
       "      <th></th>\n",
       "      <th>original_language</th>\n",
       "      <th>overview</th>\n",
       "      <th>title</th>\n",
       "      <th>genres</th>\n",
       "      <th>cast</th>\n",
       "      <th>release_year</th>\n",
       "    </tr>\n",
       "  </thead>\n",
       "  <tbody>\n",
       "    <tr>\n",
       "      <th>0</th>\n",
       "      <td>hi</td>\n",
       "      <td>When her boyfriend loses a mobster's cash, Sav...</td>\n",
       "      <td>Looop Lapeta</td>\n",
       "      <td>[Action, Comedy, Crime]</td>\n",
       "      <td>[Taapsee Pannu, Tahir Raj Bhasin, Shreya Dhanw...</td>\n",
       "      <td>2022</td>\n",
       "    </tr>\n",
       "    <tr>\n",
       "      <th>1</th>\n",
       "      <td>hi</td>\n",
       "      <td>A fearless, faithful albeit slightly forgetful...</td>\n",
       "      <td>Sooryavanshi</td>\n",
       "      <td>[Action, Crime, Thriller]</td>\n",
       "      <td>[Akshay Kumar, Katrina Kaif, Ajay Devgn, Ranve...</td>\n",
       "      <td>2021</td>\n",
       "    </tr>\n",
       "    <tr>\n",
       "      <th>2</th>\n",
       "      <td>hi</td>\n",
       "      <td>A soldier caught by enemies and presumed dead ...</td>\n",
       "      <td>Pathaan</td>\n",
       "      <td>[Action, Adventure, Thriller]</td>\n",
       "      <td>[Shah Rukh Khan, Deepika Padukone, John Abraha...</td>\n",
       "      <td>2023</td>\n",
       "    </tr>\n",
       "    <tr>\n",
       "      <th>3</th>\n",
       "      <td>hi</td>\n",
       "      <td>A flight attendant and her boyfriend must stea...</td>\n",
       "      <td>Chor Nikal Ke Bhaga</td>\n",
       "      <td>[Crime, Thriller]</td>\n",
       "      <td>[Yami Gautam, Sunny Kaushal, Sharad Kelkar, In...</td>\n",
       "      <td>2023</td>\n",
       "    </tr>\n",
       "    <tr>\n",
       "      <th>4</th>\n",
       "      <td>hi</td>\n",
       "      <td>Rascal. Joker. Dreamer. Genius... You've never...</td>\n",
       "      <td>3 Idiots</td>\n",
       "      <td>[Drama, Comedy]</td>\n",
       "      <td>[Aamir Khan, R. Madhavan, Sharman Joshi, Karee...</td>\n",
       "      <td>2009</td>\n",
       "    </tr>\n",
       "  </tbody>\n",
       "</table>\n",
       "</div>"
      ],
      "text/plain": [
       "  original_language                                           overview  \\\n",
       "0                hi  When her boyfriend loses a mobster's cash, Sav...   \n",
       "1                hi  A fearless, faithful albeit slightly forgetful...   \n",
       "2                hi  A soldier caught by enemies and presumed dead ...   \n",
       "3                hi  A flight attendant and her boyfriend must stea...   \n",
       "4                hi  Rascal. Joker. Dreamer. Genius... You've never...   \n",
       "\n",
       "                 title                         genres  \\\n",
       "0         Looop Lapeta        [Action, Comedy, Crime]   \n",
       "1         Sooryavanshi      [Action, Crime, Thriller]   \n",
       "2              Pathaan  [Action, Adventure, Thriller]   \n",
       "3  Chor Nikal Ke Bhaga              [Crime, Thriller]   \n",
       "4             3 Idiots                [Drama, Comedy]   \n",
       "\n",
       "                                                cast release_year  \n",
       "0  [Taapsee Pannu, Tahir Raj Bhasin, Shreya Dhanw...         2022  \n",
       "1  [Akshay Kumar, Katrina Kaif, Ajay Devgn, Ranve...         2021  \n",
       "2  [Shah Rukh Khan, Deepika Padukone, John Abraha...         2023  \n",
       "3  [Yami Gautam, Sunny Kaushal, Sharad Kelkar, In...         2023  \n",
       "4  [Aamir Khan, R. Madhavan, Sharman Joshi, Karee...         2009  "
      ]
     },
     "execution_count": 40,
     "metadata": {},
     "output_type": "execute_result"
    }
   ],
   "source": [
    "cbf_extended.head()"
   ]
  },
  {
   "cell_type": "code",
   "execution_count": 41,
   "id": "6eb65cc3",
   "metadata": {
    "execution": {
     "iopub.execute_input": "2023-06-21T13:15:33.789721Z",
     "iopub.status.busy": "2023-06-21T13:15:33.788835Z",
     "iopub.status.idle": "2023-06-21T13:15:33.794283Z",
     "shell.execute_reply": "2023-06-21T13:15:33.793369Z"
    },
    "papermill": {
     "duration": 0.026623,
     "end_time": "2023-06-21T13:15:33.797109",
     "exception": false,
     "start_time": "2023-06-21T13:15:33.770486",
     "status": "completed"
    },
    "tags": []
   },
   "outputs": [],
   "source": [
    "def list_to_str(list):\n",
    "    return \" \".join(list)"
   ]
  },
  {
   "cell_type": "code",
   "execution_count": 42,
   "id": "aebe2081",
   "metadata": {
    "execution": {
     "iopub.execute_input": "2023-06-21T13:15:33.833318Z",
     "iopub.status.busy": "2023-06-21T13:15:33.832763Z",
     "iopub.status.idle": "2023-06-21T13:15:33.869046Z",
     "shell.execute_reply": "2023-06-21T13:15:33.867960Z"
    },
    "papermill": {
     "duration": 0.057015,
     "end_time": "2023-06-21T13:15:33.871552",
     "exception": false,
     "start_time": "2023-06-21T13:15:33.814537",
     "status": "completed"
    },
    "tags": []
   },
   "outputs": [
    {
     "name": "stderr",
     "output_type": "stream",
     "text": [
      "/tmp/ipykernel_21/1512033717.py:1: SettingWithCopyWarning: \n",
      "A value is trying to be set on a copy of a slice from a DataFrame.\n",
      "Try using .loc[row_indexer,col_indexer] = value instead\n",
      "\n",
      "See the caveats in the documentation: https://pandas.pydata.org/pandas-docs/stable/user_guide/indexing.html#returning-a-view-versus-a-copy\n",
      "  cbf_extended[\"genres\"] = cbf_extended[\"genres\"].apply(list_to_str)\n",
      "/tmp/ipykernel_21/1512033717.py:2: SettingWithCopyWarning: \n",
      "A value is trying to be set on a copy of a slice from a DataFrame.\n",
      "Try using .loc[row_indexer,col_indexer] = value instead\n",
      "\n",
      "See the caveats in the documentation: https://pandas.pydata.org/pandas-docs/stable/user_guide/indexing.html#returning-a-view-versus-a-copy\n",
      "  cbf_extended[\"cast\"] = cbf_extended[\"cast\"].apply(list_to_str)\n"
     ]
    }
   ],
   "source": [
    "cbf_extended[\"genres\"] = cbf_extended[\"genres\"].apply(list_to_str)\n",
    "cbf_extended[\"cast\"] = cbf_extended[\"cast\"].apply(list_to_str)"
   ]
  },
  {
   "cell_type": "code",
   "execution_count": 43,
   "id": "869629f2",
   "metadata": {
    "execution": {
     "iopub.execute_input": "2023-06-21T13:15:33.907546Z",
     "iopub.status.busy": "2023-06-21T13:15:33.907147Z",
     "iopub.status.idle": "2023-06-21T13:15:33.919645Z",
     "shell.execute_reply": "2023-06-21T13:15:33.918590Z"
    },
    "papermill": {
     "duration": 0.033038,
     "end_time": "2023-06-21T13:15:33.921935",
     "exception": false,
     "start_time": "2023-06-21T13:15:33.888897",
     "status": "completed"
    },
    "tags": []
   },
   "outputs": [
    {
     "data": {
      "text/html": [
       "<div>\n",
       "<style scoped>\n",
       "    .dataframe tbody tr th:only-of-type {\n",
       "        vertical-align: middle;\n",
       "    }\n",
       "\n",
       "    .dataframe tbody tr th {\n",
       "        vertical-align: top;\n",
       "    }\n",
       "\n",
       "    .dataframe thead th {\n",
       "        text-align: right;\n",
       "    }\n",
       "</style>\n",
       "<table border=\"1\" class=\"dataframe\">\n",
       "  <thead>\n",
       "    <tr style=\"text-align: right;\">\n",
       "      <th></th>\n",
       "      <th>original_language</th>\n",
       "      <th>overview</th>\n",
       "      <th>title</th>\n",
       "      <th>genres</th>\n",
       "      <th>cast</th>\n",
       "      <th>release_year</th>\n",
       "    </tr>\n",
       "  </thead>\n",
       "  <tbody>\n",
       "    <tr>\n",
       "      <th>0</th>\n",
       "      <td>hi</td>\n",
       "      <td>When her boyfriend loses a mobster's cash, Sav...</td>\n",
       "      <td>Looop Lapeta</td>\n",
       "      <td>Action Comedy Crime</td>\n",
       "      <td>Taapsee Pannu Tahir Raj Bhasin Shreya Dhanwant...</td>\n",
       "      <td>2022</td>\n",
       "    </tr>\n",
       "    <tr>\n",
       "      <th>1</th>\n",
       "      <td>hi</td>\n",
       "      <td>A fearless, faithful albeit slightly forgetful...</td>\n",
       "      <td>Sooryavanshi</td>\n",
       "      <td>Action Crime Thriller</td>\n",
       "      <td>Akshay Kumar Katrina Kaif Ajay Devgn Ranveer S...</td>\n",
       "      <td>2021</td>\n",
       "    </tr>\n",
       "    <tr>\n",
       "      <th>2</th>\n",
       "      <td>hi</td>\n",
       "      <td>A soldier caught by enemies and presumed dead ...</td>\n",
       "      <td>Pathaan</td>\n",
       "      <td>Action Adventure Thriller</td>\n",
       "      <td>Shah Rukh Khan Deepika Padukone John Abraham D...</td>\n",
       "      <td>2023</td>\n",
       "    </tr>\n",
       "    <tr>\n",
       "      <th>3</th>\n",
       "      <td>hi</td>\n",
       "      <td>A flight attendant and her boyfriend must stea...</td>\n",
       "      <td>Chor Nikal Ke Bhaga</td>\n",
       "      <td>Crime Thriller</td>\n",
       "      <td>Yami Gautam Sunny Kaushal Sharad Kelkar Indran...</td>\n",
       "      <td>2023</td>\n",
       "    </tr>\n",
       "    <tr>\n",
       "      <th>4</th>\n",
       "      <td>hi</td>\n",
       "      <td>Rascal. Joker. Dreamer. Genius... You've never...</td>\n",
       "      <td>3 Idiots</td>\n",
       "      <td>Drama Comedy</td>\n",
       "      <td>Aamir Khan R. Madhavan Sharman Joshi Kareena K...</td>\n",
       "      <td>2009</td>\n",
       "    </tr>\n",
       "  </tbody>\n",
       "</table>\n",
       "</div>"
      ],
      "text/plain": [
       "  original_language                                           overview  \\\n",
       "0                hi  When her boyfriend loses a mobster's cash, Sav...   \n",
       "1                hi  A fearless, faithful albeit slightly forgetful...   \n",
       "2                hi  A soldier caught by enemies and presumed dead ...   \n",
       "3                hi  A flight attendant and her boyfriend must stea...   \n",
       "4                hi  Rascal. Joker. Dreamer. Genius... You've never...   \n",
       "\n",
       "                 title                     genres  \\\n",
       "0         Looop Lapeta        Action Comedy Crime   \n",
       "1         Sooryavanshi      Action Crime Thriller   \n",
       "2              Pathaan  Action Adventure Thriller   \n",
       "3  Chor Nikal Ke Bhaga             Crime Thriller   \n",
       "4             3 Idiots               Drama Comedy   \n",
       "\n",
       "                                                cast release_year  \n",
       "0  Taapsee Pannu Tahir Raj Bhasin Shreya Dhanwant...         2022  \n",
       "1  Akshay Kumar Katrina Kaif Ajay Devgn Ranveer S...         2021  \n",
       "2  Shah Rukh Khan Deepika Padukone John Abraham D...         2023  \n",
       "3  Yami Gautam Sunny Kaushal Sharad Kelkar Indran...         2023  \n",
       "4  Aamir Khan R. Madhavan Sharman Joshi Kareena K...         2009  "
      ]
     },
     "execution_count": 43,
     "metadata": {},
     "output_type": "execute_result"
    }
   ],
   "source": [
    "cbf_extended.head()"
   ]
  },
  {
   "cell_type": "code",
   "execution_count": 44,
   "id": "2dc18292",
   "metadata": {
    "execution": {
     "iopub.execute_input": "2023-06-21T13:15:33.958719Z",
     "iopub.status.busy": "2023-06-21T13:15:33.957946Z",
     "iopub.status.idle": "2023-06-21T13:15:34.021487Z",
     "shell.execute_reply": "2023-06-21T13:15:34.019753Z"
    },
    "papermill": {
     "duration": 0.084074,
     "end_time": "2023-06-21T13:15:34.023604",
     "exception": false,
     "start_time": "2023-06-21T13:15:33.939530",
     "status": "completed"
    },
    "tags": []
   },
   "outputs": [
    {
     "name": "stderr",
     "output_type": "stream",
     "text": [
      "/tmp/ipykernel_21/3016380508.py:1: SettingWithCopyWarning: \n",
      "A value is trying to be set on a copy of a slice from a DataFrame.\n",
      "Try using .loc[row_indexer,col_indexer] = value instead\n",
      "\n",
      "See the caveats in the documentation: https://pandas.pydata.org/pandas-docs/stable/user_guide/indexing.html#returning-a-view-versus-a-copy\n",
      "  cbf_extended[\"combined\"] = cbf_extended[\"original_language\"] + \" \" + cbf_extended[\"overview\"] + \" \"+ cbf_extended[\"genres\"] + \" \"+ cbf_extended[\"cast\"] + \" \"+ cbf_extended[\"release_year\"]\n"
     ]
    }
   ],
   "source": [
    "cbf_extended[\"combined\"] = cbf_extended[\"original_language\"] + \" \" + cbf_extended[\"overview\"] + \" \"+ cbf_extended[\"genres\"] + \" \"+ cbf_extended[\"cast\"] + \" \"+ cbf_extended[\"release_year\"]"
   ]
  },
  {
   "cell_type": "code",
   "execution_count": 45,
   "id": "49a0f018",
   "metadata": {
    "execution": {
     "iopub.execute_input": "2023-06-21T13:15:34.059167Z",
     "iopub.status.busy": "2023-06-21T13:15:34.058791Z",
     "iopub.status.idle": "2023-06-21T13:15:34.071101Z",
     "shell.execute_reply": "2023-06-21T13:15:34.070346Z"
    },
    "papermill": {
     "duration": 0.032472,
     "end_time": "2023-06-21T13:15:34.073071",
     "exception": false,
     "start_time": "2023-06-21T13:15:34.040599",
     "status": "completed"
    },
    "tags": []
   },
   "outputs": [
    {
     "data": {
      "text/html": [
       "<div>\n",
       "<style scoped>\n",
       "    .dataframe tbody tr th:only-of-type {\n",
       "        vertical-align: middle;\n",
       "    }\n",
       "\n",
       "    .dataframe tbody tr th {\n",
       "        vertical-align: top;\n",
       "    }\n",
       "\n",
       "    .dataframe thead th {\n",
       "        text-align: right;\n",
       "    }\n",
       "</style>\n",
       "<table border=\"1\" class=\"dataframe\">\n",
       "  <thead>\n",
       "    <tr style=\"text-align: right;\">\n",
       "      <th></th>\n",
       "      <th>original_language</th>\n",
       "      <th>overview</th>\n",
       "      <th>title</th>\n",
       "      <th>genres</th>\n",
       "      <th>cast</th>\n",
       "      <th>release_year</th>\n",
       "      <th>combined</th>\n",
       "    </tr>\n",
       "  </thead>\n",
       "  <tbody>\n",
       "    <tr>\n",
       "      <th>0</th>\n",
       "      <td>hi</td>\n",
       "      <td>When her boyfriend loses a mobster's cash, Sav...</td>\n",
       "      <td>Looop Lapeta</td>\n",
       "      <td>Action Comedy Crime</td>\n",
       "      <td>Taapsee Pannu Tahir Raj Bhasin Shreya Dhanwant...</td>\n",
       "      <td>2022</td>\n",
       "      <td>hi When her boyfriend loses a mobster's cash, ...</td>\n",
       "    </tr>\n",
       "    <tr>\n",
       "      <th>1</th>\n",
       "      <td>hi</td>\n",
       "      <td>A fearless, faithful albeit slightly forgetful...</td>\n",
       "      <td>Sooryavanshi</td>\n",
       "      <td>Action Crime Thriller</td>\n",
       "      <td>Akshay Kumar Katrina Kaif Ajay Devgn Ranveer S...</td>\n",
       "      <td>2021</td>\n",
       "      <td>hi A fearless, faithful albeit slightly forget...</td>\n",
       "    </tr>\n",
       "    <tr>\n",
       "      <th>2</th>\n",
       "      <td>hi</td>\n",
       "      <td>A soldier caught by enemies and presumed dead ...</td>\n",
       "      <td>Pathaan</td>\n",
       "      <td>Action Adventure Thriller</td>\n",
       "      <td>Shah Rukh Khan Deepika Padukone John Abraham D...</td>\n",
       "      <td>2023</td>\n",
       "      <td>hi A soldier caught by enemies and presumed de...</td>\n",
       "    </tr>\n",
       "    <tr>\n",
       "      <th>3</th>\n",
       "      <td>hi</td>\n",
       "      <td>A flight attendant and her boyfriend must stea...</td>\n",
       "      <td>Chor Nikal Ke Bhaga</td>\n",
       "      <td>Crime Thriller</td>\n",
       "      <td>Yami Gautam Sunny Kaushal Sharad Kelkar Indran...</td>\n",
       "      <td>2023</td>\n",
       "      <td>hi A flight attendant and her boyfriend must s...</td>\n",
       "    </tr>\n",
       "    <tr>\n",
       "      <th>4</th>\n",
       "      <td>hi</td>\n",
       "      <td>Rascal. Joker. Dreamer. Genius... You've never...</td>\n",
       "      <td>3 Idiots</td>\n",
       "      <td>Drama Comedy</td>\n",
       "      <td>Aamir Khan R. Madhavan Sharman Joshi Kareena K...</td>\n",
       "      <td>2009</td>\n",
       "      <td>hi Rascal. Joker. Dreamer. Genius... You've ne...</td>\n",
       "    </tr>\n",
       "  </tbody>\n",
       "</table>\n",
       "</div>"
      ],
      "text/plain": [
       "  original_language                                           overview  \\\n",
       "0                hi  When her boyfriend loses a mobster's cash, Sav...   \n",
       "1                hi  A fearless, faithful albeit slightly forgetful...   \n",
       "2                hi  A soldier caught by enemies and presumed dead ...   \n",
       "3                hi  A flight attendant and her boyfriend must stea...   \n",
       "4                hi  Rascal. Joker. Dreamer. Genius... You've never...   \n",
       "\n",
       "                 title                     genres  \\\n",
       "0         Looop Lapeta        Action Comedy Crime   \n",
       "1         Sooryavanshi      Action Crime Thriller   \n",
       "2              Pathaan  Action Adventure Thriller   \n",
       "3  Chor Nikal Ke Bhaga             Crime Thriller   \n",
       "4             3 Idiots               Drama Comedy   \n",
       "\n",
       "                                                cast release_year  \\\n",
       "0  Taapsee Pannu Tahir Raj Bhasin Shreya Dhanwant...         2022   \n",
       "1  Akshay Kumar Katrina Kaif Ajay Devgn Ranveer S...         2021   \n",
       "2  Shah Rukh Khan Deepika Padukone John Abraham D...         2023   \n",
       "3  Yami Gautam Sunny Kaushal Sharad Kelkar Indran...         2023   \n",
       "4  Aamir Khan R. Madhavan Sharman Joshi Kareena K...         2009   \n",
       "\n",
       "                                            combined  \n",
       "0  hi When her boyfriend loses a mobster's cash, ...  \n",
       "1  hi A fearless, faithful albeit slightly forget...  \n",
       "2  hi A soldier caught by enemies and presumed de...  \n",
       "3  hi A flight attendant and her boyfriend must s...  \n",
       "4  hi Rascal. Joker. Dreamer. Genius... You've ne...  "
      ]
     },
     "execution_count": 45,
     "metadata": {},
     "output_type": "execute_result"
    }
   ],
   "source": [
    "cbf_extended.head()"
   ]
  },
  {
   "cell_type": "code",
   "execution_count": 46,
   "id": "0dd4be72",
   "metadata": {
    "execution": {
     "iopub.execute_input": "2023-06-21T13:15:34.110089Z",
     "iopub.status.busy": "2023-06-21T13:15:34.109683Z",
     "iopub.status.idle": "2023-06-21T13:15:49.432261Z",
     "shell.execute_reply": "2023-06-21T13:15:49.431132Z"
    },
    "papermill": {
     "duration": 15.344237,
     "end_time": "2023-06-21T13:15:49.434700",
     "exception": false,
     "start_time": "2023-06-21T13:15:34.090463",
     "status": "completed"
    },
    "tags": []
   },
   "outputs": [],
   "source": [
    "from sklearn.feature_extraction.text import TfidfVectorizer\n",
    "\n",
    "vectorizer = TfidfVectorizer(max_features=10000, ngram_range=(1, 3), stop_words=\"english\")\n",
    "sparse_overview = vectorizer.fit_transform(cbf_extended[\"combined\"])"
   ]
  },
  {
   "cell_type": "code",
   "execution_count": 47,
   "id": "461af460",
   "metadata": {
    "execution": {
     "iopub.execute_input": "2023-06-21T13:15:49.472700Z",
     "iopub.status.busy": "2023-06-21T13:15:49.472259Z",
     "iopub.status.idle": "2023-06-21T13:16:00.705040Z",
     "shell.execute_reply": "2023-06-21T13:16:00.704118Z"
    },
    "papermill": {
     "duration": 11.254166,
     "end_time": "2023-06-21T13:16:00.707480",
     "exception": false,
     "start_time": "2023-06-21T13:15:49.453314",
     "status": "completed"
    },
    "tags": []
   },
   "outputs": [],
   "source": [
    "from sklearn.metrics.pairwise import cosine_similarity\n",
    "\n",
    "cosine_sim = cosine_similarity(sparse_overview, sparse_overview)"
   ]
  },
  {
   "cell_type": "code",
   "execution_count": 48,
   "id": "f5aa8882",
   "metadata": {
    "execution": {
     "iopub.execute_input": "2023-06-21T13:16:00.745651Z",
     "iopub.status.busy": "2023-06-21T13:16:00.744981Z",
     "iopub.status.idle": "2023-06-21T13:16:00.751269Z",
     "shell.execute_reply": "2023-06-21T13:16:00.749997Z"
    },
    "papermill": {
     "duration": 0.028365,
     "end_time": "2023-06-21T13:16:00.753840",
     "exception": false,
     "start_time": "2023-06-21T13:16:00.725475",
     "status": "completed"
    },
    "tags": []
   },
   "outputs": [],
   "source": [
    "def get_movie_recommendations(user_movie, top_k=10):\n",
    "    user_profile = cbf_extended[cbf_extended[\"title\"] == user_movie][\"combined\"]\n",
    "    # Convert user profile to feature vector\n",
    "    user_features = vectorizer.transform([user_profile.values[0]])\n",
    "\n",
    "    # Calculate similarity between user profile and all movies\n",
    "    similarities = cosine_similarity(user_features, sparse_overview).flatten()\n",
    "\n",
    "    # Sort movies based on similarity and get top recommendations\n",
    "    indices = similarities.argsort()[::-1][:top_k]\n",
    "    recommended_movies = cbf_extended.iloc[indices]\n",
    "\n",
    "    return recommended_movies"
   ]
  },
  {
   "cell_type": "code",
   "execution_count": 49,
   "id": "02f4b44d",
   "metadata": {
    "execution": {
     "iopub.execute_input": "2023-06-21T13:16:00.795353Z",
     "iopub.status.busy": "2023-06-21T13:16:00.794454Z",
     "iopub.status.idle": "2023-06-21T13:16:00.802372Z",
     "shell.execute_reply": "2023-06-21T13:16:00.801126Z"
    },
    "papermill": {
     "duration": 0.032512,
     "end_time": "2023-06-21T13:16:00.804862",
     "exception": false,
     "start_time": "2023-06-21T13:16:00.772350",
     "status": "completed"
    },
    "tags": []
   },
   "outputs": [
    {
     "data": {
      "text/plain": [
       "'Rani Mukerji Randeep Hooda Saqib Saleem Nawazuddin Siddiqui Sadashiv Amrapurkar Naman Jain Ranvir Shorey Katrina Kaif Vineet Kumar Singh Sudhir Pandey Aamir Khan Madhuri Dixit Karisma Kapoor Juhi Chawla Saif Ali Khan Sridevi Priyanka Chopra Jonas Farhan Akhtar Imran Khan Vidya Balan Kareena Kapoor Khan Ranveer Singh Anil Kapoor Shahid Kapoor Sonam Kapoor Deepika Padukone Ranbir Kapoor Abdul Quadir Amin Diana Penty Akshay Kumar Amitabh Bachchan Shah Rukh Khan'"
      ]
     },
     "execution_count": 49,
     "metadata": {},
     "output_type": "execute_result"
    }
   ],
   "source": [
    "cbf_extended.iloc[337][\"cast\"]"
   ]
  },
  {
   "cell_type": "code",
   "execution_count": 50,
   "id": "56faa9cd",
   "metadata": {
    "execution": {
     "iopub.execute_input": "2023-06-21T13:16:00.842634Z",
     "iopub.status.busy": "2023-06-21T13:16:00.841990Z",
     "iopub.status.idle": "2023-06-21T13:16:00.890358Z",
     "shell.execute_reply": "2023-06-21T13:16:00.889159Z"
    },
    "papermill": {
     "duration": 0.070402,
     "end_time": "2023-06-21T13:16:00.892830",
     "exception": false,
     "start_time": "2023-06-21T13:16:00.822428",
     "status": "completed"
    },
    "tags": []
   },
   "outputs": [
    {
     "data": {
      "text/html": [
       "<div>\n",
       "<style scoped>\n",
       "    .dataframe tbody tr th:only-of-type {\n",
       "        vertical-align: middle;\n",
       "    }\n",
       "\n",
       "    .dataframe tbody tr th {\n",
       "        vertical-align: top;\n",
       "    }\n",
       "\n",
       "    .dataframe thead th {\n",
       "        text-align: right;\n",
       "    }\n",
       "</style>\n",
       "<table border=\"1\" class=\"dataframe\">\n",
       "  <thead>\n",
       "    <tr style=\"text-align: right;\">\n",
       "      <th></th>\n",
       "      <th>original_language</th>\n",
       "      <th>overview</th>\n",
       "      <th>title</th>\n",
       "      <th>genres</th>\n",
       "      <th>cast</th>\n",
       "      <th>release_year</th>\n",
       "      <th>combined</th>\n",
       "    </tr>\n",
       "  </thead>\n",
       "  <tbody>\n",
       "    <tr>\n",
       "      <th>62</th>\n",
       "      <td>hi</td>\n",
       "      <td>An uptight MBA student falls for the charismat...</td>\n",
       "      <td>Kal Ho Naa Ho</td>\n",
       "      <td>Comedy Drama Romance</td>\n",
       "      <td>Preity Zinta Shah Rukh Khan Saif Ali Khan Jaya...</td>\n",
       "      <td>2003</td>\n",
       "      <td>hi An uptight MBA student falls for the charis...</td>\n",
       "    </tr>\n",
       "    <tr>\n",
       "      <th>7542</th>\n",
       "      <td>hi</td>\n",
       "      <td>An uptight MBA student falls for the charismat...</td>\n",
       "      <td>Kal Ho Naa Ho</td>\n",
       "      <td>Comedy Drama Romance</td>\n",
       "      <td>Preity Zinta Shah Rukh Khan Saif Ali Khan Jaya...</td>\n",
       "      <td>2003</td>\n",
       "      <td>hi An uptight MBA student falls for the charis...</td>\n",
       "    </tr>\n",
       "    <tr>\n",
       "      <th>207</th>\n",
       "      <td>hi</td>\n",
       "      <td>A man pursues a woman who is already engaged a...</td>\n",
       "      <td>Chalte Chalte</td>\n",
       "      <td>Comedy Drama Romance</td>\n",
       "      <td>Shah Rukh Khan Rani Mukerji Jas Arora Satish S...</td>\n",
       "      <td>2003</td>\n",
       "      <td>hi A man pursues a woman who is already engage...</td>\n",
       "    </tr>\n",
       "    <tr>\n",
       "      <th>6531</th>\n",
       "      <td>hi</td>\n",
       "      <td>Years after his father disowns his adopted bro...</td>\n",
       "      <td>Kabhi Khushi Kabhie Gham</td>\n",
       "      <td>Comedy Drama</td>\n",
       "      <td>Shah Rukh Khan Amitabh Bachchan Jaya Bachchan ...</td>\n",
       "      <td>2001</td>\n",
       "      <td>hi Years after his father disowns his adopted ...</td>\n",
       "    </tr>\n",
       "    <tr>\n",
       "      <th>9224</th>\n",
       "      <td>hi</td>\n",
       "      <td>Reincarnated 30 years after being killed in a ...</td>\n",
       "      <td>Om Shanti Om</td>\n",
       "      <td>Comedy Thriller Drama</td>\n",
       "      <td>Shah Rukh Khan Deepika Padukone Arjun Rampal S...</td>\n",
       "      <td>2007</td>\n",
       "      <td>hi Reincarnated 30 years after being killed in...</td>\n",
       "    </tr>\n",
       "    <tr>\n",
       "      <th>10</th>\n",
       "      <td>hi</td>\n",
       "      <td>Reincarnated 30 years after being killed in a ...</td>\n",
       "      <td>Om Shanti Om</td>\n",
       "      <td>Comedy Thriller Drama</td>\n",
       "      <td>Shah Rukh Khan Deepika Padukone Arjun Rampal S...</td>\n",
       "      <td>2007</td>\n",
       "      <td>hi Reincarnated 30 years after being killed in...</td>\n",
       "    </tr>\n",
       "    <tr>\n",
       "      <th>12</th>\n",
       "      <td>hi</td>\n",
       "      <td>Years after his father disowns his adopted bro...</td>\n",
       "      <td>Kabhi Khushi Kabhie Gham</td>\n",
       "      <td>Comedy Drama</td>\n",
       "      <td>Amitabh Bachchan Jaya Bachchan Shah Rukh Khan ...</td>\n",
       "      <td>2001</td>\n",
       "      <td>hi Years after his father disowns his adopted ...</td>\n",
       "    </tr>\n",
       "    <tr>\n",
       "      <th>5681</th>\n",
       "      <td>hi</td>\n",
       "      <td>Trouble follows when a young woman (Sonali Ben...</td>\n",
       "      <td>Love You Hamesha</td>\n",
       "      <td>Romance</td>\n",
       "      <td>Akshaye Khanna Sonali Bendre Dalip Tahil Shakt...</td>\n",
       "      <td>2022</td>\n",
       "      <td>hi Trouble follows when a young woman (Sonali ...</td>\n",
       "    </tr>\n",
       "    <tr>\n",
       "      <th>2093</th>\n",
       "      <td>hi</td>\n",
       "      <td>Desperate for money, three men plot to kidnap ...</td>\n",
       "      <td>Love Ke Liye Kuch Bhi Karega</td>\n",
       "      <td>Comedy</td>\n",
       "      <td>Saif Ali Khan Fardeen Khan Aftab Shivdasani So...</td>\n",
       "      <td>2001</td>\n",
       "      <td>hi Desperate for money, three men plot to kidn...</td>\n",
       "    </tr>\n",
       "    <tr>\n",
       "      <th>414</th>\n",
       "      <td>hi</td>\n",
       "      <td>Vikram Mayur is looking after his late brother...</td>\n",
       "      <td>English Babu Desi Mem</td>\n",
       "      <td>Romance</td>\n",
       "      <td>Shah Rukh Khan Sonali Bendre Saeed Jaffrey Sun...</td>\n",
       "      <td>1996</td>\n",
       "      <td>hi Vikram Mayur is looking after his late brot...</td>\n",
       "    </tr>\n",
       "  </tbody>\n",
       "</table>\n",
       "</div>"
      ],
      "text/plain": [
       "     original_language                                           overview  \\\n",
       "62                  hi  An uptight MBA student falls for the charismat...   \n",
       "7542                hi  An uptight MBA student falls for the charismat...   \n",
       "207                 hi  A man pursues a woman who is already engaged a...   \n",
       "6531                hi  Years after his father disowns his adopted bro...   \n",
       "9224                hi  Reincarnated 30 years after being killed in a ...   \n",
       "10                  hi  Reincarnated 30 years after being killed in a ...   \n",
       "12                  hi  Years after his father disowns his adopted bro...   \n",
       "5681                hi  Trouble follows when a young woman (Sonali Ben...   \n",
       "2093                hi  Desperate for money, three men plot to kidnap ...   \n",
       "414                 hi  Vikram Mayur is looking after his late brother...   \n",
       "\n",
       "                             title                 genres  \\\n",
       "62                   Kal Ho Naa Ho   Comedy Drama Romance   \n",
       "7542                 Kal Ho Naa Ho   Comedy Drama Romance   \n",
       "207                  Chalte Chalte   Comedy Drama Romance   \n",
       "6531      Kabhi Khushi Kabhie Gham           Comedy Drama   \n",
       "9224                  Om Shanti Om  Comedy Thriller Drama   \n",
       "10                    Om Shanti Om  Comedy Thriller Drama   \n",
       "12        Kabhi Khushi Kabhie Gham           Comedy Drama   \n",
       "5681              Love You Hamesha                Romance   \n",
       "2093  Love Ke Liye Kuch Bhi Karega                 Comedy   \n",
       "414          English Babu Desi Mem                Romance   \n",
       "\n",
       "                                                   cast release_year  \\\n",
       "62    Preity Zinta Shah Rukh Khan Saif Ali Khan Jaya...         2003   \n",
       "7542  Preity Zinta Shah Rukh Khan Saif Ali Khan Jaya...         2003   \n",
       "207   Shah Rukh Khan Rani Mukerji Jas Arora Satish S...         2003   \n",
       "6531  Shah Rukh Khan Amitabh Bachchan Jaya Bachchan ...         2001   \n",
       "9224  Shah Rukh Khan Deepika Padukone Arjun Rampal S...         2007   \n",
       "10    Shah Rukh Khan Deepika Padukone Arjun Rampal S...         2007   \n",
       "12    Amitabh Bachchan Jaya Bachchan Shah Rukh Khan ...         2001   \n",
       "5681  Akshaye Khanna Sonali Bendre Dalip Tahil Shakt...         2022   \n",
       "2093  Saif Ali Khan Fardeen Khan Aftab Shivdasani So...         2001   \n",
       "414   Shah Rukh Khan Sonali Bendre Saeed Jaffrey Sun...         1996   \n",
       "\n",
       "                                               combined  \n",
       "62    hi An uptight MBA student falls for the charis...  \n",
       "7542  hi An uptight MBA student falls for the charis...  \n",
       "207   hi A man pursues a woman who is already engage...  \n",
       "6531  hi Years after his father disowns his adopted ...  \n",
       "9224  hi Reincarnated 30 years after being killed in...  \n",
       "10    hi Reincarnated 30 years after being killed in...  \n",
       "12    hi Years after his father disowns his adopted ...  \n",
       "5681  hi Trouble follows when a young woman (Sonali ...  \n",
       "2093  hi Desperate for money, three men plot to kidn...  \n",
       "414   hi Vikram Mayur is looking after his late brot...  "
      ]
     },
     "execution_count": 50,
     "metadata": {},
     "output_type": "execute_result"
    }
   ],
   "source": [
    "get_movie_recommendations(\"Kal Ho Naa Ho\")"
   ]
  },
  {
   "cell_type": "code",
   "execution_count": 51,
   "id": "42bde9b7",
   "metadata": {
    "execution": {
     "iopub.execute_input": "2023-06-21T13:16:00.930134Z",
     "iopub.status.busy": "2023-06-21T13:16:00.929746Z",
     "iopub.status.idle": "2023-06-21T13:16:00.963168Z",
     "shell.execute_reply": "2023-06-21T13:16:00.962101Z"
    },
    "papermill": {
     "duration": 0.054956,
     "end_time": "2023-06-21T13:16:00.965637",
     "exception": false,
     "start_time": "2023-06-21T13:16:00.910681",
     "status": "completed"
    },
    "tags": []
   },
   "outputs": [],
   "source": [
    "cbf_extended = cbf_extended.drop_duplicates(subset=[\"title\", \"genres\", \"overview\"])"
   ]
  },
  {
   "cell_type": "code",
   "execution_count": 52,
   "id": "4a3b9d73",
   "metadata": {
    "execution": {
     "iopub.execute_input": "2023-06-21T13:16:01.002903Z",
     "iopub.status.busy": "2023-06-21T13:16:01.002457Z",
     "iopub.status.idle": "2023-06-21T13:16:24.858286Z",
     "shell.execute_reply": "2023-06-21T13:16:24.857143Z"
    },
    "papermill": {
     "duration": 23.877213,
     "end_time": "2023-06-21T13:16:24.860816",
     "exception": false,
     "start_time": "2023-06-21T13:16:00.983603",
     "status": "completed"
    },
    "tags": []
   },
   "outputs": [],
   "source": [
    "from sklearn.feature_extraction.text import TfidfVectorizer\n",
    "\n",
    "vectorizer = TfidfVectorizer(max_features=10000, ngram_range=(1, 4), stop_words=\"english\")\n",
    "sparse_overview_test = vectorizer.fit_transform(cbf_extended[\"combined\"])"
   ]
  },
  {
   "cell_type": "code",
   "execution_count": 53,
   "id": "be341f0c",
   "metadata": {
    "execution": {
     "iopub.execute_input": "2023-06-21T13:16:24.897985Z",
     "iopub.status.busy": "2023-06-21T13:16:24.897553Z",
     "iopub.status.idle": "2023-06-21T13:16:35.566010Z",
     "shell.execute_reply": "2023-06-21T13:16:35.564659Z"
    },
    "papermill": {
     "duration": 10.689944,
     "end_time": "2023-06-21T13:16:35.568513",
     "exception": false,
     "start_time": "2023-06-21T13:16:24.878569",
     "status": "completed"
    },
    "tags": []
   },
   "outputs": [],
   "source": [
    "from sklearn.metrics.pairwise import cosine_similarity\n",
    "\n",
    "cosine_sim = cosine_similarity(sparse_overview_test, sparse_overview_test)"
   ]
  },
  {
   "cell_type": "code",
   "execution_count": 54,
   "id": "3aaa570c",
   "metadata": {
    "execution": {
     "iopub.execute_input": "2023-06-21T13:16:35.606770Z",
     "iopub.status.busy": "2023-06-21T13:16:35.606181Z",
     "iopub.status.idle": "2023-06-21T13:16:35.611514Z",
     "shell.execute_reply": "2023-06-21T13:16:35.610735Z"
    },
    "papermill": {
     "duration": 0.027366,
     "end_time": "2023-06-21T13:16:35.613647",
     "exception": false,
     "start_time": "2023-06-21T13:16:35.586281",
     "status": "completed"
    },
    "tags": []
   },
   "outputs": [],
   "source": [
    "def get_movie_recommendations(user_movie, top_k=10):\n",
    "    user_profile = cbf_extended[cbf_extended[\"title\"] == user_movie][\"combined\"]\n",
    "    # Convert user profile to feature vector\n",
    "    user_features = vectorizer.transform([user_profile.values[0]])\n",
    "\n",
    "    # Calculate similarity between user profile and all movies\n",
    "    similarities = cosine_similarity(user_features, sparse_overview_test).flatten()\n",
    "\n",
    "    # Sort movies based on similarity and get top recommendations\n",
    "    indices = similarities.argsort()[::-1][:top_k]\n",
    "    recommended_movies = cbf_extended.iloc[indices]\n",
    "\n",
    "    return recommended_movies"
   ]
  },
  {
   "cell_type": "code",
   "execution_count": 55,
   "id": "63a6f152",
   "metadata": {
    "execution": {
     "iopub.execute_input": "2023-06-21T13:16:35.651562Z",
     "iopub.status.busy": "2023-06-21T13:16:35.650918Z",
     "iopub.status.idle": "2023-06-21T13:16:35.692198Z",
     "shell.execute_reply": "2023-06-21T13:16:35.691284Z"
    },
    "papermill": {
     "duration": 0.063097,
     "end_time": "2023-06-21T13:16:35.694619",
     "exception": false,
     "start_time": "2023-06-21T13:16:35.631522",
     "status": "completed"
    },
    "tags": []
   },
   "outputs": [
    {
     "data": {
      "text/html": [
       "<div>\n",
       "<style scoped>\n",
       "    .dataframe tbody tr th:only-of-type {\n",
       "        vertical-align: middle;\n",
       "    }\n",
       "\n",
       "    .dataframe tbody tr th {\n",
       "        vertical-align: top;\n",
       "    }\n",
       "\n",
       "    .dataframe thead th {\n",
       "        text-align: right;\n",
       "    }\n",
       "</style>\n",
       "<table border=\"1\" class=\"dataframe\">\n",
       "  <thead>\n",
       "    <tr style=\"text-align: right;\">\n",
       "      <th></th>\n",
       "      <th>original_language</th>\n",
       "      <th>overview</th>\n",
       "      <th>title</th>\n",
       "      <th>genres</th>\n",
       "      <th>cast</th>\n",
       "      <th>release_year</th>\n",
       "      <th>combined</th>\n",
       "    </tr>\n",
       "  </thead>\n",
       "  <tbody>\n",
       "    <tr>\n",
       "      <th>290</th>\n",
       "      <td>hi</td>\n",
       "      <td>Ayan falls in love with his soulmate, Alizeh, ...</td>\n",
       "      <td>Ae Dil Hai Mushkil</td>\n",
       "      <td>Romance Drama</td>\n",
       "      <td>Ranbir Kapoor Aishwarya Rai Bachchan Fawad Kha...</td>\n",
       "      <td>2016</td>\n",
       "      <td>hi Ayan falls in love with his soulmate, Alize...</td>\n",
       "    </tr>\n",
       "    <tr>\n",
       "      <th>35</th>\n",
       "      <td>hi</td>\n",
       "      <td>At a prestigious all-male university, three fr...</td>\n",
       "      <td>Mohabbatein</td>\n",
       "      <td>Drama Romance</td>\n",
       "      <td>Amitabh Bachchan Shah Rukh Khan Aishwarya Rai ...</td>\n",
       "      <td>2000</td>\n",
       "      <td>hi At a prestigious all-male university, three...</td>\n",
       "    </tr>\n",
       "    <tr>\n",
       "      <th>222</th>\n",
       "      <td>hi</td>\n",
       "      <td>Two gangs fight for control of the streets: th...</td>\n",
       "      <td>Josh</td>\n",
       "      <td>Romance Drama</td>\n",
       "      <td>Shah Rukh Khan Aishwarya Rai Bachchan Chandrac...</td>\n",
       "      <td>2000</td>\n",
       "      <td>hi Two gangs fight for control of the streets:...</td>\n",
       "    </tr>\n",
       "    <tr>\n",
       "      <th>63</th>\n",
       "      <td>hi</td>\n",
       "      <td>An unconventional thinker helps a budding cine...</td>\n",
       "      <td>Dear Zindagi</td>\n",
       "      <td>Drama Romance</td>\n",
       "      <td>Alia Bhatt Shah Rukh Khan Ali Zafar Kunal Kapo...</td>\n",
       "      <td>2016</td>\n",
       "      <td>hi An unconventional thinker helps a budding c...</td>\n",
       "    </tr>\n",
       "    <tr>\n",
       "      <th>8</th>\n",
       "      <td>hi</td>\n",
       "      <td>The story of Shiva – a young man on the brink ...</td>\n",
       "      <td>Brahmāstra Part One: Shiva</td>\n",
       "      <td>Action Adventure Fantasy</td>\n",
       "      <td>Ranbir Kapoor Alia Bhatt Mouni Roy Amitabh Bac...</td>\n",
       "      <td>2022</td>\n",
       "      <td>hi The story of Shiva – a young man on the bri...</td>\n",
       "    </tr>\n",
       "    <tr>\n",
       "      <th>291</th>\n",
       "      <td>hi</td>\n",
       "      <td>A couple visits the husband's family in India ...</td>\n",
       "      <td>Shakti: The Power</td>\n",
       "      <td>Action Drama</td>\n",
       "      <td>Karisma Kapoor Nana Patekar Sanjay Kapoor Shah...</td>\n",
       "      <td>2002</td>\n",
       "      <td>hi A couple visits the husband's family in Ind...</td>\n",
       "    </tr>\n",
       "    <tr>\n",
       "      <th>2897</th>\n",
       "      <td>hi</td>\n",
       "      <td>A treasurer's son wants to work at a Maharaja'...</td>\n",
       "      <td>Mahaan Karz</td>\n",
       "      <td>Drama</td>\n",
       "      <td>Shah Rukh Khan</td>\n",
       "      <td>1991</td>\n",
       "      <td>hi A treasurer's son wants to work at a Mahara...</td>\n",
       "    </tr>\n",
       "    <tr>\n",
       "      <th>3490</th>\n",
       "      <td>hi</td>\n",
       "      <td>The story revolves around a banker played by S...</td>\n",
       "      <td>Umeed</td>\n",
       "      <td></td>\n",
       "      <td>Shah Rukh Khan Deepti Naval Joy Mukherjee Mush...</td>\n",
       "      <td>1989</td>\n",
       "      <td>hi The story revolves around a banker played b...</td>\n",
       "    </tr>\n",
       "    <tr>\n",
       "      <th>262</th>\n",
       "      <td>hi</td>\n",
       "      <td>A young man tries to revive his parents' wilti...</td>\n",
       "      <td>Action Replayy</td>\n",
       "      <td>Comedy Romance Science Fiction</td>\n",
       "      <td>Akshay Kumar Aishwarya Rai Bachchan Neha Dhupi...</td>\n",
       "      <td>2010</td>\n",
       "      <td>hi A young man tries to revive his parents' wi...</td>\n",
       "    </tr>\n",
       "    <tr>\n",
       "      <th>233</th>\n",
       "      <td>hi</td>\n",
       "      <td>Radha and Suraj have been friends since childh...</td>\n",
       "      <td>Hum Tumhare Hain Sanam</td>\n",
       "      <td>Drama Romance</td>\n",
       "      <td>Shah Rukh Khan Salman Khan Madhuri Dixit Atul ...</td>\n",
       "      <td>2002</td>\n",
       "      <td>hi Radha and Suraj have been friends since chi...</td>\n",
       "    </tr>\n",
       "  </tbody>\n",
       "</table>\n",
       "</div>"
      ],
      "text/plain": [
       "     original_language                                           overview  \\\n",
       "290                 hi  Ayan falls in love with his soulmate, Alizeh, ...   \n",
       "35                  hi  At a prestigious all-male university, three fr...   \n",
       "222                 hi  Two gangs fight for control of the streets: th...   \n",
       "63                  hi  An unconventional thinker helps a budding cine...   \n",
       "8                   hi  The story of Shiva – a young man on the brink ...   \n",
       "291                 hi  A couple visits the husband's family in India ...   \n",
       "2897                hi  A treasurer's son wants to work at a Maharaja'...   \n",
       "3490                hi  The story revolves around a banker played by S...   \n",
       "262                 hi  A young man tries to revive his parents' wilti...   \n",
       "233                 hi  Radha and Suraj have been friends since childh...   \n",
       "\n",
       "                           title                          genres  \\\n",
       "290           Ae Dil Hai Mushkil                   Romance Drama   \n",
       "35                   Mohabbatein                   Drama Romance   \n",
       "222                         Josh                   Romance Drama   \n",
       "63                  Dear Zindagi                   Drama Romance   \n",
       "8     Brahmāstra Part One: Shiva        Action Adventure Fantasy   \n",
       "291            Shakti: The Power                    Action Drama   \n",
       "2897                 Mahaan Karz                           Drama   \n",
       "3490                       Umeed                                   \n",
       "262               Action Replayy  Comedy Romance Science Fiction   \n",
       "233       Hum Tumhare Hain Sanam                   Drama Romance   \n",
       "\n",
       "                                                   cast release_year  \\\n",
       "290   Ranbir Kapoor Aishwarya Rai Bachchan Fawad Kha...         2016   \n",
       "35    Amitabh Bachchan Shah Rukh Khan Aishwarya Rai ...         2000   \n",
       "222   Shah Rukh Khan Aishwarya Rai Bachchan Chandrac...         2000   \n",
       "63    Alia Bhatt Shah Rukh Khan Ali Zafar Kunal Kapo...         2016   \n",
       "8     Ranbir Kapoor Alia Bhatt Mouni Roy Amitabh Bac...         2022   \n",
       "291   Karisma Kapoor Nana Patekar Sanjay Kapoor Shah...         2002   \n",
       "2897                                     Shah Rukh Khan         1991   \n",
       "3490  Shah Rukh Khan Deepti Naval Joy Mukherjee Mush...         1989   \n",
       "262   Akshay Kumar Aishwarya Rai Bachchan Neha Dhupi...         2010   \n",
       "233   Shah Rukh Khan Salman Khan Madhuri Dixit Atul ...         2002   \n",
       "\n",
       "                                               combined  \n",
       "290   hi Ayan falls in love with his soulmate, Alize...  \n",
       "35    hi At a prestigious all-male university, three...  \n",
       "222   hi Two gangs fight for control of the streets:...  \n",
       "63    hi An unconventional thinker helps a budding c...  \n",
       "8     hi The story of Shiva – a young man on the bri...  \n",
       "291   hi A couple visits the husband's family in Ind...  \n",
       "2897  hi A treasurer's son wants to work at a Mahara...  \n",
       "3490  hi The story revolves around a banker played b...  \n",
       "262   hi A young man tries to revive his parents' wi...  \n",
       "233   hi Radha and Suraj have been friends since chi...  "
      ]
     },
     "execution_count": 55,
     "metadata": {},
     "output_type": "execute_result"
    }
   ],
   "source": [
    "get_movie_recommendations(\"Ae Dil Hai Mushkil\")"
   ]
  }
 ],
 "metadata": {
  "kernelspec": {
   "display_name": "Python 3",
   "language": "python",
   "name": "python3"
  },
  "language_info": {
   "codemirror_mode": {
    "name": "ipython",
    "version": 3
   },
   "file_extension": ".py",
   "mimetype": "text/x-python",
   "name": "python",
   "nbconvert_exporter": "python",
   "pygments_lexer": "ipython3",
   "version": "3.10.10"
  },
  "papermill": {
   "default_parameters": {},
   "duration": 111.426146,
   "end_time": "2023-06-21T13:16:37.437643",
   "environment_variables": {},
   "exception": null,
   "input_path": "__notebook__.ipynb",
   "output_path": "__notebook__.ipynb",
   "parameters": {},
   "start_time": "2023-06-21T13:14:46.011497",
   "version": "2.4.0"
  }
 },
 "nbformat": 4,
 "nbformat_minor": 5
}
